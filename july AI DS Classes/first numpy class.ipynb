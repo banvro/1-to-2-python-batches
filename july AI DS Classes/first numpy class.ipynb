{
 "cells": [
  {
   "cell_type": "code",
   "execution_count": 1,
   "id": "cb391c36-a4d7-4cfe-8199-4d2cc19353e8",
   "metadata": {},
   "outputs": [],
   "source": [
    "# 1) Numpy\n",
    "# 2) Pandas\n",
    "# 3) Matplotlib"
   ]
  },
  {
   "cell_type": "code",
   "execution_count": null,
   "id": "41eb83da-5a1e-49c8-8eff-9e7904c52bcf",
   "metadata": {},
   "outputs": [],
   "source": []
  },
  {
   "cell_type": "code",
   "execution_count": null,
   "id": "95da2508-3f4d-419f-be0f-efd5821a036d",
   "metadata": {},
   "outputs": [],
   "source": [
    "1) Numpy --> Numarical Python\n",
    "\n",
    "\n",
    "    # Python ----> 1991\n",
    "\n",
    "Numpy --> 2005\n",
    "\n",
    "    # Travis Oliphant\n",
    "\n",
    "Python\n",
    "\n",
    "1) List     2) tuple    3) set    4) dect\n",
    "\n",
    "# zx = [1, 12, \"helo\", True, 10.8]\n",
    "\n",
    "\n",
    "# Array -> c, java, javascript.....\n",
    "\n",
    "\n",
    "# Numpy --------> Arrays\n",
    "\n",
    "1) List ---> hittrogenoious type of data.\n",
    "\n",
    "2) Numpy:\n",
    "\n",
    "Array --> array is a data structure,that store homogenious (same type of data) type of data in congeious \n",
    "        # memory location\n",
    "\n",
    "2) Array --> \n",
    "    70%  ---> python\n",
    "    30% ---> C/C++\n",
    "\n",
    "numpy array ----> 50x  ----> list\n"
   ]
  },
  {
   "cell_type": "code",
   "execution_count": 2,
   "id": "a3e1af16-bb23-4bbd-a930-1f38cd3d8bd7",
   "metadata": {},
   "outputs": [],
   "source": [
    "# numpy -----> arrays"
   ]
  },
  {
   "cell_type": "code",
   "execution_count": 3,
   "id": "b95eedd3-7359-44ef-bc03-8918585e537d",
   "metadata": {},
   "outputs": [
    {
     "name": "stdout",
     "output_type": "stream",
     "text": [
      "Requirement already satisfied: numpy in c:\\users\\17nru\\appdata\\local\\programs\\python\\python312\\lib\\site-packages (1.26.4)\n"
     ]
    },
    {
     "name": "stderr",
     "output_type": "stream",
     "text": [
      "DEPRECATION: textract 1.6.5 has a non-standard dependency specifier extract-msg<=0.29.*. pip 24.1 will enforce this behaviour change. A possible replacement is to upgrade to a newer version of textract or contact the author to suggest that they release a version with a conforming dependency specifiers. Discussion can be found at https://github.com/pypa/pip/issues/12063\n",
      "\n",
      "[notice] A new release of pip is available: 24.0 -> 24.1\n",
      "[notice] To update, run: python.exe -m pip install --upgrade pip\n"
     ]
    }
   ],
   "source": [
    "# installtion\n",
    "\n",
    "!pip install numpy"
   ]
  },
  {
   "cell_type": "code",
   "execution_count": null,
   "id": "aa283851-cfe6-43da-8059-8d81a56bde1c",
   "metadata": {},
   "outputs": [],
   "source": []
  },
  {
   "cell_type": "code",
   "execution_count": 5,
   "id": "690fe2eb-91ba-45e1-94bb-112ee0c0b9c9",
   "metadata": {},
   "outputs": [],
   "source": [
    "import numpy as np"
   ]
  },
  {
   "cell_type": "code",
   "execution_count": null,
   "id": "51eff364-f8da-47fd-a2e7-564c4210a321",
   "metadata": {},
   "outputs": [],
   "source": []
  },
  {
   "cell_type": "code",
   "execution_count": 6,
   "id": "a79745bf-6ea2-4ad6-b798-9b0bf443992f",
   "metadata": {},
   "outputs": [],
   "source": [
    "# numpy --> help to create ndarrays"
   ]
  },
  {
   "cell_type": "code",
   "execution_count": 7,
   "id": "e3f095d1-90c6-43c2-a4f7-0b4b41ea8bc3",
   "metadata": {},
   "outputs": [],
   "source": [
    "# ndarray ----> n - demetional arrays"
   ]
  },
  {
   "cell_type": "markdown",
   "id": "0de159dc-8106-4ed3-a5f3-e053e73c806e",
   "metadata": {},
   "source": [
    "##### ndarray --> when we create an object in numpy with the help of array method, that object is called ndarray."
   ]
  },
  {
   "cell_type": "code",
   "execution_count": null,
   "id": "ed6c1eb3-8e7f-400d-a7b1-2e21741f8575",
   "metadata": {},
   "outputs": [],
   "source": []
  },
  {
   "cell_type": "code",
   "execution_count": 8,
   "id": "04a44de0-58e9-4ff0-a27b-47dd23a454ce",
   "metadata": {},
   "outputs": [],
   "source": [
    "arr = np.array(10)"
   ]
  },
  {
   "cell_type": "code",
   "execution_count": 9,
   "id": "e00003d8-fc6a-4be8-8291-c01fb4b1ad8c",
   "metadata": {},
   "outputs": [
    {
     "data": {
      "text/plain": [
       "numpy.ndarray"
      ]
     },
     "execution_count": 9,
     "metadata": {},
     "output_type": "execute_result"
    }
   ],
   "source": [
    "type(arr)"
   ]
  },
  {
   "cell_type": "code",
   "execution_count": 10,
   "id": "589df243-92d6-4440-8335-9337204491a5",
   "metadata": {},
   "outputs": [
    {
     "data": {
      "text/plain": [
       "int"
      ]
     },
     "execution_count": 10,
     "metadata": {},
     "output_type": "execute_result"
    }
   ],
   "source": [
    "a = 10\n",
    "type(a)"
   ]
  },
  {
   "cell_type": "code",
   "execution_count": null,
   "id": "ae000e80-7bd5-4222-8ed9-e26e28656b32",
   "metadata": {},
   "outputs": [],
   "source": []
  },
  {
   "cell_type": "code",
   "execution_count": 11,
   "id": "d072f855-9a27-48e6-98e6-785b8622e11a",
   "metadata": {},
   "outputs": [],
   "source": [
    "arr1 = np.array([12, 34, 45, 56])"
   ]
  },
  {
   "cell_type": "code",
   "execution_count": 12,
   "id": "881c3812-11bd-440a-b674-65d2cb184a41",
   "metadata": {},
   "outputs": [
    {
     "data": {
      "text/plain": [
       "numpy.ndarray"
      ]
     },
     "execution_count": 12,
     "metadata": {},
     "output_type": "execute_result"
    }
   ],
   "source": [
    "type(arr1)"
   ]
  },
  {
   "cell_type": "code",
   "execution_count": null,
   "id": "3a4c7fdc-647d-4859-bebd-ccb0e7603101",
   "metadata": {},
   "outputs": [],
   "source": []
  },
  {
   "cell_type": "code",
   "execution_count": 13,
   "id": "7211c0f2-b19a-42cf-8250-e16a2d7e96ac",
   "metadata": {},
   "outputs": [],
   "source": [
    "# Arrays ---- > dimensions\n",
    "\n",
    "# 1 - D\n",
    "# 2 - D Arrays\n",
    "# 3 - D array\n",
    "# .\n",
    "# .\n",
    "#     .\n",
    "# n - d arrays"
   ]
  },
  {
   "cell_type": "code",
   "execution_count": null,
   "id": "152b4cc9-defd-4370-a2c2-779601e88e1d",
   "metadata": {},
   "outputs": [],
   "source": []
  },
  {
   "cell_type": "code",
   "execution_count": null,
   "id": "6577c530-63ab-4486-928c-4baa1840d83d",
   "metadata": {},
   "outputs": [],
   "source": [
    "# Numpy Attributes\n",
    "    1) ndim --> n-dimensions\n",
    "            it returns the dimensions of an ndarry \n",
    "\n",
    "    2) shape --> \n",
    "            it returns the shape of an ndarrays"
   ]
  },
  {
   "cell_type": "code",
   "execution_count": 14,
   "id": "fbaab357-a520-4af5-9871-beb947b2fbf5",
   "metadata": {},
   "outputs": [],
   "source": [
    "# 0 - D Array"
   ]
  },
  {
   "cell_type": "code",
   "execution_count": null,
   "id": "ab626ca7-42b4-4db5-9dc7-f8d460a797ec",
   "metadata": {},
   "outputs": [],
   "source": []
  },
  {
   "cell_type": "code",
   "execution_count": 15,
   "id": "2259a87f-a19d-465c-86d9-04d07818f09a",
   "metadata": {},
   "outputs": [],
   "source": [
    "arr = np.array(10)"
   ]
  },
  {
   "cell_type": "code",
   "execution_count": 16,
   "id": "f2e81e9d-2882-4556-b594-758f008bc74c",
   "metadata": {},
   "outputs": [
    {
     "data": {
      "text/plain": [
       "array(10)"
      ]
     },
     "execution_count": 16,
     "metadata": {},
     "output_type": "execute_result"
    }
   ],
   "source": [
    "arr"
   ]
  },
  {
   "cell_type": "code",
   "execution_count": 17,
   "id": "3097bf34-685c-4b78-b071-9347c84aceb3",
   "metadata": {},
   "outputs": [
    {
     "data": {
      "text/plain": [
       "()"
      ]
     },
     "execution_count": 17,
     "metadata": {},
     "output_type": "execute_result"
    }
   ],
   "source": [
    "arr.shape"
   ]
  },
  {
   "cell_type": "code",
   "execution_count": 18,
   "id": "d5b676fe-e55d-483b-aaa6-b08acb0ce03b",
   "metadata": {},
   "outputs": [
    {
     "data": {
      "text/plain": [
       "0"
      ]
     },
     "execution_count": 18,
     "metadata": {},
     "output_type": "execute_result"
    }
   ],
   "source": [
    "arr.ndim"
   ]
  },
  {
   "cell_type": "code",
   "execution_count": null,
   "id": "f7e722a4-603f-411d-a083-28beae8e6eb5",
   "metadata": {},
   "outputs": [],
   "source": []
  },
  {
   "cell_type": "code",
   "execution_count": null,
   "id": "ddc51acc-fbc7-4d28-a900-cded39287ff7",
   "metadata": {},
   "outputs": [],
   "source": []
  },
  {
   "cell_type": "code",
   "execution_count": 19,
   "id": "e0c3c39b-29aa-4c58-bf2b-0804ca8cb4d1",
   "metadata": {},
   "outputs": [],
   "source": [
    "# 1-D Array  ---> store multiple elements"
   ]
  },
  {
   "cell_type": "code",
   "execution_count": 20,
   "id": "af603769-a52b-4f1d-9735-b2445facb9e2",
   "metadata": {},
   "outputs": [],
   "source": [
    "arr3 = np.array([12, 34, 45, 67, 23])"
   ]
  },
  {
   "cell_type": "code",
   "execution_count": 21,
   "id": "a3f98ac7-65be-4c0f-875b-33994f36e717",
   "metadata": {},
   "outputs": [
    {
     "data": {
      "text/plain": [
       "array([12, 34, 45, 67, 23])"
      ]
     },
     "execution_count": 21,
     "metadata": {},
     "output_type": "execute_result"
    }
   ],
   "source": [
    "arr3"
   ]
  },
  {
   "cell_type": "code",
   "execution_count": 22,
   "id": "2cc2dff7-be0e-4e89-b8bc-8edbf343112f",
   "metadata": {},
   "outputs": [
    {
     "data": {
      "text/plain": [
       "1"
      ]
     },
     "execution_count": 22,
     "metadata": {},
     "output_type": "execute_result"
    }
   ],
   "source": [
    "arr3.ndim"
   ]
  },
  {
   "cell_type": "code",
   "execution_count": 23,
   "id": "e5fa1c07-4c23-4626-8991-7e14e6dfeee1",
   "metadata": {},
   "outputs": [
    {
     "data": {
      "text/plain": [
       "(5,)"
      ]
     },
     "execution_count": 23,
     "metadata": {},
     "output_type": "execute_result"
    }
   ],
   "source": [
    "arr3.shape\n",
    "\n",
    "# shape --> it always return a tuple"
   ]
  },
  {
   "cell_type": "code",
   "execution_count": null,
   "id": "b22cd420-7445-4680-838f-377abdd29815",
   "metadata": {},
   "outputs": [],
   "source": []
  },
  {
   "cell_type": "code",
   "execution_count": 26,
   "id": "12a66683-eb34-4228-a0c7-c421e36c4bc1",
   "metadata": {},
   "outputs": [],
   "source": [
    "# x = (10, )\n",
    "\n",
    "# type(x)"
   ]
  },
  {
   "cell_type": "code",
   "execution_count": null,
   "id": "f45dc9fd-2e41-43dd-b62d-be8ea37e187e",
   "metadata": {},
   "outputs": [],
   "source": []
  },
  {
   "cell_type": "code",
   "execution_count": 27,
   "id": "c966b2d9-1847-4286-8a5d-7c41bfcf9b93",
   "metadata": {},
   "outputs": [],
   "source": [
    "# 2-D nArrays : 2-d ndarray is the combination of mutiple 1-D Ndarays."
   ]
  },
  {
   "cell_type": "code",
   "execution_count": null,
   "id": "038f87b9-7f29-4efe-badb-d11b1aee1fd3",
   "metadata": {},
   "outputs": [],
   "source": []
  },
  {
   "cell_type": "code",
   "execution_count": 32,
   "id": "7f6e6891-3829-46da-81cf-2ac64940a2a3",
   "metadata": {},
   "outputs": [],
   "source": [
    "arr4 = np.array([[12, 34, 45, 67, 8], [12, 34, 45, 23, 45]])"
   ]
  },
  {
   "cell_type": "code",
   "execution_count": 33,
   "id": "903af3d9-dbde-45c1-a900-a7471d920201",
   "metadata": {},
   "outputs": [
    {
     "data": {
      "text/plain": [
       "array([[12, 34, 45, 67,  8],\n",
       "       [12, 34, 45, 23, 45]])"
      ]
     },
     "execution_count": 33,
     "metadata": {},
     "output_type": "execute_result"
    }
   ],
   "source": [
    "arr4"
   ]
  },
  {
   "cell_type": "code",
   "execution_count": 34,
   "id": "d9727e00-da25-4902-8d65-d4f87d926f3a",
   "metadata": {},
   "outputs": [
    {
     "data": {
      "text/plain": [
       "2"
      ]
     },
     "execution_count": 34,
     "metadata": {},
     "output_type": "execute_result"
    }
   ],
   "source": [
    "arr4.ndim"
   ]
  },
  {
   "cell_type": "code",
   "execution_count": 35,
   "id": "45301cd9-953a-4e92-b951-54026665b280",
   "metadata": {},
   "outputs": [
    {
     "data": {
      "text/plain": [
       "(2, 5)"
      ]
     },
     "execution_count": 35,
     "metadata": {},
     "output_type": "execute_result"
    }
   ],
   "source": [
    "arr4.shape"
   ]
  },
  {
   "cell_type": "code",
   "execution_count": null,
   "id": "6e915896-4806-450b-915e-fab776fec693",
   "metadata": {},
   "outputs": [],
   "source": []
  },
  {
   "cell_type": "code",
   "execution_count": null,
   "id": "a332acf6-4636-4460-ae51-aac44bfe244d",
   "metadata": {},
   "outputs": [],
   "source": []
  },
  {
   "cell_type": "code",
   "execution_count": 36,
   "id": "22d0e295-8790-409e-a361-a8aa411d9767",
   "metadata": {},
   "outputs": [],
   "source": [
    "arr4 = np.array([[12, 34, 45, 67, 8], [12, 34, 45, 23, 45], [23, 45, 56, 34, 23]])"
   ]
  },
  {
   "cell_type": "code",
   "execution_count": 37,
   "id": "1cf8d004-e501-48ea-bd78-bf93e1ff3fa7",
   "metadata": {},
   "outputs": [
    {
     "data": {
      "text/plain": [
       "array([[12, 34, 45, 67,  8],\n",
       "       [12, 34, 45, 23, 45],\n",
       "       [23, 45, 56, 34, 23]])"
      ]
     },
     "execution_count": 37,
     "metadata": {},
     "output_type": "execute_result"
    }
   ],
   "source": [
    "arr4"
   ]
  },
  {
   "cell_type": "code",
   "execution_count": null,
   "id": "d6d89718-ee1b-4dc7-98ab-ceb3df2d24f1",
   "metadata": {},
   "outputs": [],
   "source": []
  },
  {
   "cell_type": "code",
   "execution_count": 38,
   "id": "03f98599-746f-4294-acd9-61c6a1610833",
   "metadata": {},
   "outputs": [
    {
     "data": {
      "text/plain": [
       "2"
      ]
     },
     "execution_count": 38,
     "metadata": {},
     "output_type": "execute_result"
    }
   ],
   "source": [
    "arr4.ndim"
   ]
  },
  {
   "cell_type": "code",
   "execution_count": 39,
   "id": "18928cf5-ce3f-42b7-ba9e-c44618c20dff",
   "metadata": {},
   "outputs": [
    {
     "data": {
      "text/plain": [
       "(3, 5)"
      ]
     },
     "execution_count": 39,
     "metadata": {},
     "output_type": "execute_result"
    }
   ],
   "source": [
    "arr4.shape"
   ]
  },
  {
   "cell_type": "code",
   "execution_count": null,
   "id": "07ebe85b-59da-4639-affa-7921d6e36524",
   "metadata": {},
   "outputs": [],
   "source": []
  },
  {
   "cell_type": "code",
   "execution_count": 40,
   "id": "a1871efa-8bb6-45e1-af76-d1a61030283d",
   "metadata": {},
   "outputs": [],
   "source": [
    "# 3-D array --> is the combination of multiple 2-D ndarrays."
   ]
  },
  {
   "cell_type": "code",
   "execution_count": null,
   "id": "43a4261c-8a34-48e6-8e95-cd304b514415",
   "metadata": {},
   "outputs": [],
   "source": []
  },
  {
   "cell_type": "code",
   "execution_count": 50,
   "id": "f07a4c62-7ed7-4ee2-a215-f1b68da8291e",
   "metadata": {},
   "outputs": [],
   "source": [
    "arr5 = np.array([[[12, 23, 34], [45, 3, 23]], [[34, 45, 56], [56, 23, 23]]])"
   ]
  },
  {
   "cell_type": "code",
   "execution_count": 51,
   "id": "3c1e5f51-a58a-4d2d-bd74-e0cf3eb598c3",
   "metadata": {},
   "outputs": [
    {
     "data": {
      "text/plain": [
       "array([[[12, 23, 34],\n",
       "        [45,  3, 23]],\n",
       "\n",
       "       [[34, 45, 56],\n",
       "        [56, 23, 23]]])"
      ]
     },
     "execution_count": 51,
     "metadata": {},
     "output_type": "execute_result"
    }
   ],
   "source": [
    "arr5"
   ]
  },
  {
   "cell_type": "code",
   "execution_count": 52,
   "id": "fac25459-c7f1-41cb-982e-d29fc4a46bed",
   "metadata": {},
   "outputs": [
    {
     "data": {
      "text/plain": [
       "3"
      ]
     },
     "execution_count": 52,
     "metadata": {},
     "output_type": "execute_result"
    }
   ],
   "source": [
    "arr5.ndim"
   ]
  },
  {
   "cell_type": "code",
   "execution_count": 53,
   "id": "78eb8e9b-14f7-4aca-9eb4-991b672712bf",
   "metadata": {},
   "outputs": [
    {
     "data": {
      "text/plain": [
       "(2, 2, 3)"
      ]
     },
     "execution_count": 53,
     "metadata": {},
     "output_type": "execute_result"
    }
   ],
   "source": [
    "arr5.shape"
   ]
  },
  {
   "cell_type": "code",
   "execution_count": null,
   "id": "faacba0c-e05d-47cd-99f7-ac7e363f6560",
   "metadata": {},
   "outputs": [],
   "source": []
  },
  {
   "cell_type": "code",
   "execution_count": null,
   "id": "d57581dc-3fcb-4903-880a-cd46bc243d0f",
   "metadata": {},
   "outputs": [],
   "source": [
    "4-D\n",
    "...\n",
    ".\n",
    ".\n",
    ".\n",
    ".\n",
    "..\n",
    "10-D"
   ]
  }
 ],
 "metadata": {
  "kernelspec": {
   "display_name": "Python 3 (ipykernel)",
   "language": "python",
   "name": "python3"
  },
  "language_info": {
   "codemirror_mode": {
    "name": "ipython",
    "version": 3
   },
   "file_extension": ".py",
   "mimetype": "text/x-python",
   "name": "python",
   "nbconvert_exporter": "python",
   "pygments_lexer": "ipython3",
   "version": "3.12.3"
  }
 },
 "nbformat": 4,
 "nbformat_minor": 5
}
