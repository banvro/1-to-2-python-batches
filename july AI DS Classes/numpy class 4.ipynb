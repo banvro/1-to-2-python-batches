{
 "cells": [
  {
   "cell_type": "code",
   "execution_count": null,
   "id": "afe1da3d-c619-4d6b-bef9-cf5b934af931",
   "metadata": {},
   "outputs": [],
   "source": [
    "# Numpy\n",
    "\n",
    "# 12 : 1 => Machine Leaning\n",
    "# 1 : 2 => Numpy"
   ]
  },
  {
   "cell_type": "code",
   "execution_count": 1,
   "id": "27ff9bcb-160a-433c-8763-fa99c1a2319f",
   "metadata": {},
   "outputs": [],
   "source": [
    "# Numpy"
   ]
  },
  {
   "cell_type": "code",
   "execution_count": 2,
   "id": "3f103956-359e-4952-8e6b-42e4e303ff8f",
   "metadata": {},
   "outputs": [],
   "source": [
    "# numpy --> mutable\n",
    "#     1) replace"
   ]
  },
  {
   "cell_type": "code",
   "execution_count": null,
   "id": "d6ccbdbc-bfa5-4aa2-8f7b-de0afc62db8f",
   "metadata": {},
   "outputs": [],
   "source": []
  },
  {
   "cell_type": "code",
   "execution_count": 3,
   "id": "113fc45e-8391-40ed-8052-8bdbc438aed8",
   "metadata": {},
   "outputs": [],
   "source": [
    "import numpy as np"
   ]
  },
  {
   "cell_type": "code",
   "execution_count": 4,
   "id": "9bb16349-6f02-4188-9bb1-456deb7e0957",
   "metadata": {},
   "outputs": [],
   "source": [
    "arr = np.array([1, 2, 3, 4, 5, 4, 5, 6, 7])"
   ]
  },
  {
   "cell_type": "code",
   "execution_count": 6,
   "id": "0cc100ea-ac8a-462f-98c4-a753ca8adfa1",
   "metadata": {},
   "outputs": [],
   "source": [
    "# type(arr)"
   ]
  },
  {
   "cell_type": "code",
   "execution_count": 7,
   "id": "d578f45f-c7e5-492d-89a1-afd686cc3850",
   "metadata": {},
   "outputs": [],
   "source": [
    "# element replacement\n",
    "# ojenamtname[indxnumber] = newelemnt"
   ]
  },
  {
   "cell_type": "code",
   "execution_count": 8,
   "id": "3c15d9c3-0955-4662-b855-aca4acd06bbd",
   "metadata": {},
   "outputs": [],
   "source": [
    "arr[2] = 500"
   ]
  },
  {
   "cell_type": "code",
   "execution_count": 9,
   "id": "89b1fa4c-691a-4af3-ae92-47d887a35c75",
   "metadata": {},
   "outputs": [
    {
     "data": {
      "text/plain": [
       "array([  1,   2, 500,   4,   5,   4,   5,   6,   7])"
      ]
     },
     "execution_count": 9,
     "metadata": {},
     "output_type": "execute_result"
    }
   ],
   "source": [
    "arr"
   ]
  },
  {
   "cell_type": "code",
   "execution_count": null,
   "id": "b08fc516-21f9-4031-a51d-aa8fabb292a4",
   "metadata": {},
   "outputs": [],
   "source": []
  },
  {
   "cell_type": "code",
   "execution_count": null,
   "id": "8186ccb2-c3e6-4707-b561-6c895f1716bb",
   "metadata": {},
   "outputs": [],
   "source": []
  },
  {
   "cell_type": "code",
   "execution_count": 11,
   "id": "e306c936-d58a-4e6c-a216-cf265a327f31",
   "metadata": {},
   "outputs": [
    {
     "data": {
      "text/plain": [
       "array([1, 2, 3, 4, 5, 4, 5, 6, 7])"
      ]
     },
     "execution_count": 11,
     "metadata": {},
     "output_type": "execute_result"
    }
   ],
   "source": [
    "# adding elements\n",
    "# append()\n",
    "\n",
    "arr = np.array([1, 2, 3, 4, 5, 4, 5, 6, 7])\n",
    "arr"
   ]
  },
  {
   "cell_type": "code",
   "execution_count": null,
   "id": "bfa418da-6658-4c4a-ada2-8bd0859bdd96",
   "metadata": {},
   "outputs": [],
   "source": []
  },
  {
   "cell_type": "code",
   "execution_count": 15,
   "id": "4da7df3a-66ca-4325-8291-181ed723e684",
   "metadata": {},
   "outputs": [],
   "source": [
    "# a = 100"
   ]
  },
  {
   "cell_type": "code",
   "execution_count": 13,
   "id": "90f45d2e-acce-4d0c-8186-863a2a8bc997",
   "metadata": {},
   "outputs": [],
   "source": [
    "a = 30"
   ]
  },
  {
   "cell_type": "code",
   "execution_count": 14,
   "id": "0411dee5-aae1-47e3-bf07-75d79449cb97",
   "metadata": {},
   "outputs": [
    {
     "data": {
      "text/plain": [
       "30"
      ]
     },
     "execution_count": 14,
     "metadata": {},
     "output_type": "execute_result"
    }
   ],
   "source": [
    "a"
   ]
  },
  {
   "cell_type": "code",
   "execution_count": null,
   "id": "1800a1a9-e87e-4545-abdf-ba7e3c701990",
   "metadata": {},
   "outputs": [],
   "source": []
  },
  {
   "cell_type": "code",
   "execution_count": 18,
   "id": "179b431c-633e-43fd-8be4-2f3f55a89adf",
   "metadata": {},
   "outputs": [
    {
     "data": {
      "text/plain": [
       "array([1, 2, 3, 4, 5, 4, 5, 6, 7])"
      ]
     },
     "execution_count": 18,
     "metadata": {},
     "output_type": "execute_result"
    }
   ],
   "source": [
    "# adding elements\n",
    "# append()\n",
    "\n",
    "arr = np.array([1, 2, 3, 4, 5, 4, 5, 6, 7])\n",
    "arr"
   ]
  },
  {
   "cell_type": "code",
   "execution_count": 17,
   "id": "b6f1c5ff-0080-4e4f-a625-0ad190c14fa9",
   "metadata": {},
   "outputs": [],
   "source": [
    "# append() ----> it add element at the end\n",
    "\n",
    "# np.append(objectname, newelemnt)"
   ]
  },
  {
   "cell_type": "code",
   "execution_count": 21,
   "id": "9f4de155-4ad4-4538-a598-a484c04bceb4",
   "metadata": {},
   "outputs": [],
   "source": [
    "xyz = np.append(arr, 100)"
   ]
  },
  {
   "cell_type": "code",
   "execution_count": 22,
   "id": "ff918ad2-5326-41ed-ba73-a081c8843b50",
   "metadata": {},
   "outputs": [
    {
     "data": {
      "text/plain": [
       "array([  1,   2,   3,   4,   5,   4,   5,   6,   7, 100])"
      ]
     },
     "execution_count": 22,
     "metadata": {},
     "output_type": "execute_result"
    }
   ],
   "source": [
    "xyz"
   ]
  },
  {
   "cell_type": "code",
   "execution_count": null,
   "id": "fe73bc95-d40d-49ce-a00f-27533b675a42",
   "metadata": {},
   "outputs": [],
   "source": []
  },
  {
   "cell_type": "code",
   "execution_count": 25,
   "id": "3d2e602c-b287-4ea5-bd09-0d8eaa309d26",
   "metadata": {},
   "outputs": [],
   "source": [
    "arr = np.array([1, 2, 3, 4, 5, 4, 5, 6, 7])\n",
    "# arr"
   ]
  },
  {
   "cell_type": "code",
   "execution_count": 29,
   "id": "52c0de86-5cd9-4893-a100-749b463d0af1",
   "metadata": {},
   "outputs": [
    {
     "data": {
      "text/plain": [
       "array([  1,   2,   3,   4,   5,   4,   5,   6,   7, 100, 400, 300])"
      ]
     },
     "execution_count": 29,
     "metadata": {},
     "output_type": "execute_result"
    }
   ],
   "source": [
    "xyz = np.append(arr, [100, 400, 300])\n",
    "xyz"
   ]
  },
  {
   "cell_type": "code",
   "execution_count": null,
   "id": "96539c14-9932-434b-b2c9-5935024489d3",
   "metadata": {},
   "outputs": [],
   "source": []
  },
  {
   "cell_type": "code",
   "execution_count": 30,
   "id": "a97548e2-7c49-4b0a-b526-a2adbbbf0d82",
   "metadata": {},
   "outputs": [],
   "source": [
    "# insert() ----> add new element at a perticuler location.\n",
    "\n",
    "# syntex in numpy\n",
    "\n",
    "# np.insert(objectname, indexnumber, newelelement)"
   ]
  },
  {
   "cell_type": "code",
   "execution_count": 32,
   "id": "c6e549ad-96b8-4e22-a1b3-caa98082ec2c",
   "metadata": {},
   "outputs": [
    {
     "data": {
      "text/plain": [
       "array([1, 2, 3, 4, 5, 4, 5, 6, 7])"
      ]
     },
     "execution_count": 32,
     "metadata": {},
     "output_type": "execute_result"
    }
   ],
   "source": [
    "arr = np.array([1, 2, 3, 4, 5, 4, 5, 6, 7])\n",
    "arr"
   ]
  },
  {
   "cell_type": "code",
   "execution_count": 33,
   "id": "0c58427e-f286-4822-a4a4-777d783fd728",
   "metadata": {},
   "outputs": [
    {
     "data": {
      "text/plain": [
       "array([  1, 100,   2,   3,   4,   5,   4,   5,   6,   7])"
      ]
     },
     "execution_count": 33,
     "metadata": {},
     "output_type": "execute_result"
    }
   ],
   "source": [
    "np.insert(arr, 1, 100)"
   ]
  },
  {
   "cell_type": "code",
   "execution_count": 34,
   "id": "a6a9a0c1-645f-4f54-80ae-38d7a7a59802",
   "metadata": {},
   "outputs": [],
   "source": [
    "# np.append()\n",
    "# np.insert()"
   ]
  },
  {
   "cell_type": "code",
   "execution_count": null,
   "id": "31aa3f23-4490-4bbe-a880-0adbef2bdc4e",
   "metadata": {},
   "outputs": [],
   "source": []
  },
  {
   "cell_type": "code",
   "execution_count": 35,
   "id": "9cf3b880-fc3a-4ac8-84bb-73441f6a15a4",
   "metadata": {},
   "outputs": [],
   "source": [
    "# question:\n",
    "\n",
    "# 1) create a emptly ndarray\n",
    "# 2) add table of 2 in that ndarray\n",
    "\n",
    "# # output\n",
    "# np.array(['2 x 1 = 2', '2 x 2 = 4', '2 x 3 = 6' ..... '2 x 10 = 20'])\n",
    "\n",
    "\n",
    "# np.array([2, 4, 5, 6, 7, 8, 9, 10])"
   ]
  },
  {
   "cell_type": "code",
   "execution_count": 36,
   "id": "9470f7b6-085a-4096-85b9-44f72d66398c",
   "metadata": {},
   "outputs": [
    {
     "data": {
      "text/plain": [
       "array([ 2,  3,  4,  5,  6,  7,  8,  9, 10])"
      ]
     },
     "execution_count": 36,
     "metadata": {},
     "output_type": "execute_result"
    }
   ],
   "source": [
    "# arange()\n",
    "\n",
    "np.arange(2, 11, 1)"
   ]
  },
  {
   "cell_type": "code",
   "execution_count": null,
   "id": "806a16cc-bd6a-422b-8630-24d24c31c303",
   "metadata": {},
   "outputs": [],
   "source": []
  },
  {
   "cell_type": "code",
   "execution_count": 46,
   "id": "05693733-db73-4d15-96f4-11d0321ec8a0",
   "metadata": {},
   "outputs": [],
   "source": [
    "xy = np.array([])\n",
    "\n",
    "for i in range(1, 11):\n",
    "    h = f\"2 x {i} = {2*i}\"\n",
    "    xy = np.append(xy, h)"
   ]
  },
  {
   "cell_type": "code",
   "execution_count": 47,
   "id": "32b81f6f-cb39-41d7-8fd0-5988890b4a21",
   "metadata": {},
   "outputs": [
    {
     "data": {
      "text/plain": [
       "array(['2 x 1 = 2', '2 x 2 = 4', '2 x 3 = 6', '2 x 4 = 8', '2 x 5 = 10',\n",
       "       '2 x 6 = 12', '2 x 7 = 14', '2 x 8 = 16', '2 x 9 = 18',\n",
       "       '2 x 10 = 20'], dtype='<U32')"
      ]
     },
     "execution_count": 47,
     "metadata": {},
     "output_type": "execute_result"
    }
   ],
   "source": [
    "xy"
   ]
  },
  {
   "cell_type": "code",
   "execution_count": 48,
   "id": "2fa9e0e8-a2d2-41f8-907c-3089ce71ca58",
   "metadata": {},
   "outputs": [],
   "source": [
    "# replace\n",
    "# add new elements\n",
    "#     append()\n",
    "#     insert()\n",
    "# remove elements"
   ]
  },
  {
   "cell_type": "code",
   "execution_count": 49,
   "id": "b985f51d-aeee-44f9-894d-d090af503205",
   "metadata": {},
   "outputs": [],
   "source": [
    "arr = np.array([1, 2, 3, 4, 5, 4, 5, 6, 7])\n",
    "\n",
    "inx = [2, 4, 6]\n",
    "eleme = [100, 200, 300]"
   ]
  },
  {
   "cell_type": "code",
   "execution_count": 50,
   "id": "213fba45-6c9e-44dc-9811-ddfd12cc41f6",
   "metadata": {},
   "outputs": [
    {
     "data": {
      "text/plain": [
       "array([  1,   2, 100,   3,   4, 200,   5,   4, 300,   5,   6,   7])"
      ]
     },
     "execution_count": 50,
     "metadata": {},
     "output_type": "execute_result"
    }
   ],
   "source": [
    "np.insert(arr, inx, eleme)"
   ]
  },
  {
   "cell_type": "code",
   "execution_count": null,
   "id": "2a4f2858-414d-43d7-b4e2-b8800f38169f",
   "metadata": {},
   "outputs": [],
   "source": []
  },
  {
   "cell_type": "code",
   "execution_count": 55,
   "id": "a4f5a475-8441-402f-a7b8-925fc1ac4721",
   "metadata": {},
   "outputs": [],
   "source": [
    "# remove elements\n",
    "\n",
    "xyz = np.array([1, 3, 4, 6, 3, 4, 5, 3, 300, 23])"
   ]
  },
  {
   "cell_type": "code",
   "execution_count": 54,
   "id": "f411e06e-f9ff-4c72-8836-60ff81b1754b",
   "metadata": {},
   "outputs": [],
   "source": [
    "# np.delete(objectname, indexnumber)"
   ]
  },
  {
   "cell_type": "code",
   "execution_count": 58,
   "id": "ba133316-4ca4-42bc-9c3e-65ceb8873f5c",
   "metadata": {},
   "outputs": [],
   "source": [
    "x = np.delete(xyz, -2)"
   ]
  },
  {
   "cell_type": "code",
   "execution_count": 59,
   "id": "c216115f-c7c5-4d27-8293-d5057e9dbcea",
   "metadata": {},
   "outputs": [
    {
     "data": {
      "text/plain": [
       "array([ 1,  3,  4,  6,  3,  4,  5,  3, 23])"
      ]
     },
     "execution_count": 59,
     "metadata": {},
     "output_type": "execute_result"
    }
   ],
   "source": [
    "x"
   ]
  },
  {
   "cell_type": "code",
   "execution_count": null,
   "id": "b4215ca7-f904-4f8d-bc45-6813fe0b8a03",
   "metadata": {},
   "outputs": [],
   "source": []
  },
  {
   "cell_type": "code",
   "execution_count": 60,
   "id": "a67e18c1-6906-4599-aae9-83cce21cff0a",
   "metadata": {},
   "outputs": [],
   "source": [
    "xyz = np.array([1, 3, 4, 6, 3, 4, 5, 3, 300, 23])"
   ]
  },
  {
   "cell_type": "code",
   "execution_count": 61,
   "id": "beaa68cd-9082-40d8-ae75-3613ab2e3580",
   "metadata": {},
   "outputs": [],
   "source": [
    "inx = [1, 5, -2]"
   ]
  },
  {
   "cell_type": "code",
   "execution_count": 62,
   "id": "0dd7d89b-a995-48f3-a29b-745144dcecfe",
   "metadata": {},
   "outputs": [
    {
     "data": {
      "text/plain": [
       "array([ 1,  4,  6,  3,  5,  3, 23])"
      ]
     },
     "execution_count": 62,
     "metadata": {},
     "output_type": "execute_result"
    }
   ],
   "source": [
    "np.delete(xyz, inx)"
   ]
  },
  {
   "cell_type": "code",
   "execution_count": null,
   "id": "c149e4a0-5c1d-4885-a35f-d0cea6cdf5bf",
   "metadata": {},
   "outputs": [],
   "source": []
  },
  {
   "cell_type": "code",
   "execution_count": null,
   "id": "ba174f6e-b9ff-4f51-8bd5-99a8dff4b226",
   "metadata": {},
   "outputs": [],
   "source": []
  },
  {
   "cell_type": "code",
   "execution_count": 63,
   "id": "ac1444c5-7830-4f47-a4d5-405f96a4a185",
   "metadata": {},
   "outputs": [],
   "source": [
    "# reshape()\n",
    "\n",
    "# random"
   ]
  },
  {
   "cell_type": "code",
   "execution_count": 64,
   "id": "7f0568a0-e60a-4869-8ca9-37c06d51f23a",
   "metadata": {},
   "outputs": [],
   "source": [
    "# reshape() ---> it help us to chnage the dimennsions of the ndaary\n",
    "\n",
    "# model"
   ]
  },
  {
   "cell_type": "code",
   "execution_count": 65,
   "id": "ddc3d740-df33-40c5-b8fa-3abbe65d4ff9",
   "metadata": {},
   "outputs": [],
   "source": [
    "# 1-D ---- 2-D"
   ]
  },
  {
   "cell_type": "code",
   "execution_count": 66,
   "id": "79ad3de3-642a-4533-a854-003e6e6a6258",
   "metadata": {},
   "outputs": [],
   "source": [
    "x = np.array([1, 2, 3, 2, 3, 2, 3, 4, 4, 5, 6, 7, 5, 4])"
   ]
  },
  {
   "cell_type": "code",
   "execution_count": 67,
   "id": "5e4abcbd-a449-45eb-9214-bd74d8fd551f",
   "metadata": {},
   "outputs": [
    {
     "data": {
      "text/plain": [
       "14"
      ]
     },
     "execution_count": 67,
     "metadata": {},
     "output_type": "execute_result"
    }
   ],
   "source": [
    "len(x)"
   ]
  },
  {
   "cell_type": "code",
   "execution_count": 68,
   "id": "cd081171-b6d8-4073-9a4d-588137dc986f",
   "metadata": {},
   "outputs": [
    {
     "data": {
      "text/plain": [
       "1"
      ]
     },
     "execution_count": 68,
     "metadata": {},
     "output_type": "execute_result"
    }
   ],
   "source": [
    "x.ndim"
   ]
  },
  {
   "cell_type": "code",
   "execution_count": 69,
   "id": "a0109bc8-5419-42e4-a4a7-eaf14b5e3984",
   "metadata": {},
   "outputs": [],
   "source": [
    "# 2-D"
   ]
  },
  {
   "cell_type": "code",
   "execution_count": 70,
   "id": "033e3d42-606a-46b2-b426-39bf651b2f91",
   "metadata": {},
   "outputs": [],
   "source": [
    "# np.reshape(objename, size)"
   ]
  },
  {
   "cell_type": "code",
   "execution_count": 71,
   "id": "fa92df13-9777-495d-bafe-10bb288508fa",
   "metadata": {},
   "outputs": [],
   "source": [
    "x = np.array([1, 2, 3, 2, 3, 2, 3, 4, 4, 5, 6, 7, 5, 4])"
   ]
  },
  {
   "cell_type": "code",
   "execution_count": 74,
   "id": "68f1e44e-80af-488c-8ab3-3ab0b8681193",
   "metadata": {},
   "outputs": [
    {
     "data": {
      "text/plain": [
       "array([[1, 2, 3, 2, 3, 2, 3],\n",
       "       [4, 4, 5, 6, 7, 5, 4]])"
      ]
     },
     "execution_count": 74,
     "metadata": {},
     "output_type": "execute_result"
    }
   ],
   "source": [
    "np.reshape(x, (2, 7))"
   ]
  },
  {
   "cell_type": "code",
   "execution_count": null,
   "id": "5f504bc1-4339-4a34-8610-7cb145374540",
   "metadata": {},
   "outputs": [],
   "source": []
  },
  {
   "cell_type": "code",
   "execution_count": 76,
   "id": "f2bf138c-bd8b-43d8-94de-09e41dc1795b",
   "metadata": {},
   "outputs": [],
   "source": [
    "u = np.reshape(x, (7, 2))"
   ]
  },
  {
   "cell_type": "code",
   "execution_count": 77,
   "id": "e56f7c8e-4133-4ab6-a15f-cd26febd370a",
   "metadata": {},
   "outputs": [
    {
     "data": {
      "text/plain": [
       "(7, 2)"
      ]
     },
     "execution_count": 77,
     "metadata": {},
     "output_type": "execute_result"
    }
   ],
   "source": [
    "u.shape"
   ]
  },
  {
   "cell_type": "code",
   "execution_count": 78,
   "id": "78a8bea8-daa1-42b9-9388-deb71f6a05b9",
   "metadata": {},
   "outputs": [
    {
     "data": {
      "text/plain": [
       "array([[1, 2],\n",
       "       [3, 2],\n",
       "       [3, 2],\n",
       "       [3, 4],\n",
       "       [4, 5],\n",
       "       [6, 7],\n",
       "       [5, 4]])"
      ]
     },
     "execution_count": 78,
     "metadata": {},
     "output_type": "execute_result"
    }
   ],
   "source": [
    "u"
   ]
  },
  {
   "cell_type": "code",
   "execution_count": null,
   "id": "9b36f903-80c1-4012-888e-72f2bb683418",
   "metadata": {},
   "outputs": [],
   "source": []
  },
  {
   "cell_type": "code",
   "execution_count": 79,
   "id": "71a15840-b52c-4e1a-bfc9-872fb9b3e864",
   "metadata": {},
   "outputs": [],
   "source": [
    "# 1-3d"
   ]
  },
  {
   "cell_type": "code",
   "execution_count": 88,
   "id": "e4348fc3-4f04-4388-8a3d-14ac5fda71c5",
   "metadata": {},
   "outputs": [],
   "source": [
    "xy = np.arange(1, 19)"
   ]
  },
  {
   "cell_type": "code",
   "execution_count": 89,
   "id": "5f5582e6-6f94-4622-8f46-e472427d9edb",
   "metadata": {},
   "outputs": [
    {
     "data": {
      "text/plain": [
       "array([ 1,  2,  3,  4,  5,  6,  7,  8,  9, 10, 11, 12, 13, 14, 15, 16, 17,\n",
       "       18])"
      ]
     },
     "execution_count": 89,
     "metadata": {},
     "output_type": "execute_result"
    }
   ],
   "source": [
    "xy"
   ]
  },
  {
   "cell_type": "code",
   "execution_count": 90,
   "id": "677f868f-f22e-4f38-8bb0-40bb7038080f",
   "metadata": {},
   "outputs": [
    {
     "data": {
      "text/plain": [
       "18"
      ]
     },
     "execution_count": 90,
     "metadata": {},
     "output_type": "execute_result"
    }
   ],
   "source": [
    "len(xy)"
   ]
  },
  {
   "cell_type": "code",
   "execution_count": null,
   "id": "060e5bda-388a-4c8d-b9b3-ce3c48f08bc2",
   "metadata": {},
   "outputs": [],
   "source": []
  },
  {
   "cell_type": "code",
   "execution_count": 91,
   "id": "8c9979a3-d005-4141-ad1f-d9482558dd01",
   "metadata": {},
   "outputs": [
    {
     "data": {
      "text/plain": [
       "array([[[ 1,  2],\n",
       "        [ 3,  4],\n",
       "        [ 5,  6]],\n",
       "\n",
       "       [[ 7,  8],\n",
       "        [ 9, 10],\n",
       "        [11, 12]],\n",
       "\n",
       "       [[13, 14],\n",
       "        [15, 16],\n",
       "        [17, 18]]])"
      ]
     },
     "execution_count": 91,
     "metadata": {},
     "output_type": "execute_result"
    }
   ],
   "source": [
    "np.reshape(xy, (3, 3, 2))"
   ]
  },
  {
   "cell_type": "code",
   "execution_count": null,
   "id": "dba35724-7dcd-4a9a-b2bb-a9a6b7ad4ac6",
   "metadata": {},
   "outputs": [],
   "source": []
  },
  {
   "cell_type": "code",
   "execution_count": 93,
   "id": "3e9774c0-5cda-4cb7-838f-9f42d0bf0808",
   "metadata": {},
   "outputs": [],
   "source": [
    "# -1 ---> automatically"
   ]
  },
  {
   "cell_type": "code",
   "execution_count": null,
   "id": "0ade566c-7ca5-4c0d-b2f7-0d343d906115",
   "metadata": {},
   "outputs": [],
   "source": []
  },
  {
   "cell_type": "code",
   "execution_count": 101,
   "id": "b6fae367-09c9-4d86-8e06-4ef86ec86c1c",
   "metadata": {},
   "outputs": [],
   "source": [
    "x = np.arange(1, 13)"
   ]
  },
  {
   "cell_type": "code",
   "execution_count": 102,
   "id": "6cb9a22e-b331-491b-bad9-149baf4829b2",
   "metadata": {},
   "outputs": [
    {
     "data": {
      "text/plain": [
       "array([ 1,  2,  3,  4,  5,  6,  7,  8,  9, 10, 11, 12])"
      ]
     },
     "execution_count": 102,
     "metadata": {},
     "output_type": "execute_result"
    }
   ],
   "source": [
    "x"
   ]
  },
  {
   "cell_type": "code",
   "execution_count": 104,
   "id": "3d6cbc92-6bfa-4da1-b119-e1b5b181516f",
   "metadata": {},
   "outputs": [
    {
     "data": {
      "text/plain": [
       "array([[ 1,  2,  3],\n",
       "       [ 4,  5,  6],\n",
       "       [ 7,  8,  9],\n",
       "       [10, 11, 12]])"
      ]
     },
     "execution_count": 104,
     "metadata": {},
     "output_type": "execute_result"
    }
   ],
   "source": [
    "np.reshape(x, (4, -1))"
   ]
  },
  {
   "cell_type": "code",
   "execution_count": null,
   "id": "956760d9-b9b5-49be-8439-81d51a079463",
   "metadata": {},
   "outputs": [],
   "source": []
  },
  {
   "cell_type": "code",
   "execution_count": 107,
   "id": "224208ff-b21b-4337-80c1-a23ebc2bbbf6",
   "metadata": {},
   "outputs": [
    {
     "data": {
      "text/plain": [
       "array([[ 1,  2,  3],\n",
       "       [ 4,  5,  6],\n",
       "       [ 7,  8,  9],\n",
       "       [10, 11, 12]])"
      ]
     },
     "execution_count": 107,
     "metadata": {},
     "output_type": "execute_result"
    }
   ],
   "source": [
    "np.reshape(x, (-1, 3))"
   ]
  },
  {
   "cell_type": "code",
   "execution_count": null,
   "id": "7f28cbd1-2d89-48f6-a71f-26ada2f054d2",
   "metadata": {},
   "outputs": [],
   "source": []
  },
  {
   "cell_type": "code",
   "execution_count": 108,
   "id": "95d689ed-12ba-4312-9cda-3c0c803da286",
   "metadata": {},
   "outputs": [],
   "source": [
    "# 2D -- 1D"
   ]
  },
  {
   "cell_type": "code",
   "execution_count": 109,
   "id": "81824b0c-8cd6-4b9f-933a-abd06af0dcac",
   "metadata": {},
   "outputs": [],
   "source": [
    "zx = np.array([[12, 34, 45, 56], [45, 34, 56, 4]])"
   ]
  },
  {
   "cell_type": "code",
   "execution_count": 111,
   "id": "daf7b73d-5e3b-4671-82b6-910067f72384",
   "metadata": {},
   "outputs": [
    {
     "data": {
      "text/plain": [
       "array([[12, 34, 45, 56],\n",
       "       [45, 34, 56,  4]])"
      ]
     },
     "execution_count": 111,
     "metadata": {},
     "output_type": "execute_result"
    }
   ],
   "source": [
    "zx"
   ]
  },
  {
   "cell_type": "code",
   "execution_count": 113,
   "id": "d37b9ca7-187f-4892-8597-81ae2035d973",
   "metadata": {},
   "outputs": [
    {
     "data": {
      "text/plain": [
       "array([12, 34, 45, 56, 45, 34, 56,  4])"
      ]
     },
     "execution_count": 113,
     "metadata": {},
     "output_type": "execute_result"
    }
   ],
   "source": [
    "# 1-D \n",
    "\n",
    "np.reshape(zx, -1)"
   ]
  },
  {
   "cell_type": "code",
   "execution_count": null,
   "id": "1aa7b86e-ac65-4f96-bb1d-3db8063d6e71",
   "metadata": {},
   "outputs": [],
   "source": []
  },
  {
   "cell_type": "code",
   "execution_count": 114,
   "id": "f86485c4-fe5e-45e9-a79b-7582d1c8b582",
   "metadata": {},
   "outputs": [
    {
     "data": {
      "text/plain": [
       "array([12, 34, 45, 56, 45, 34, 56,  4])"
      ]
     },
     "execution_count": 114,
     "metadata": {},
     "output_type": "execute_result"
    }
   ],
   "source": [
    "zx.reshape(-1)"
   ]
  },
  {
   "cell_type": "code",
   "execution_count": null,
   "id": "f88d9215-f655-4f7e-9868-137da75f5938",
   "metadata": {},
   "outputs": [],
   "source": []
  }
 ],
 "metadata": {
  "kernelspec": {
   "display_name": "Python 3 (ipykernel)",
   "language": "python",
   "name": "python3"
  },
  "language_info": {
   "codemirror_mode": {
    "name": "ipython",
    "version": 3
   },
   "file_extension": ".py",
   "mimetype": "text/x-python",
   "name": "python",
   "nbconvert_exporter": "python",
   "pygments_lexer": "ipython3",
   "version": "3.12.3"
  }
 },
 "nbformat": 4,
 "nbformat_minor": 5
}
