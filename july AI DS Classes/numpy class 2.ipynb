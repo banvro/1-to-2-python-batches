{
 "cells": [
  {
   "cell_type": "code",
   "execution_count": 1,
   "id": "0fcd41f4-0675-4cb4-9c30-7592ab82074b",
   "metadata": {},
   "outputs": [],
   "source": [
    "# Numpy --> numariacal python"
   ]
  },
  {
   "cell_type": "code",
   "execution_count": null,
   "id": "281d58ca-bea8-4316-a4fb-272b01bcd370",
   "metadata": {},
   "outputs": [],
   "source": [
    "intro\n",
    "arrays\n",
    "numpy --- list\n",
    "ndarrays\n",
    "build\n",
    "    1-D ndarray\n",
    "    2-D ndarray\n",
    "    3-D ndarray\n",
    "Attributes:\n",
    "    1) Shape\n",
    "    2) ndim"
   ]
  },
  {
   "cell_type": "code",
   "execution_count": null,
   "id": "89ea51da-9c04-4158-8bb7-3763c9464072",
   "metadata": {},
   "outputs": [],
   "source": []
  },
  {
   "cell_type": "code",
   "execution_count": 2,
   "id": "201ccd44-9e07-41a2-a2b6-66806ff708db",
   "metadata": {},
   "outputs": [],
   "source": [
    "import numpy as np"
   ]
  },
  {
   "cell_type": "markdown",
   "id": "c04fb5fd-e1e2-47f6-b6c1-34f7e704eaf1",
   "metadata": {},
   "source": [
    "### Indexing or Slicing"
   ]
  },
  {
   "cell_type": "code",
   "execution_count": 3,
   "id": "8686a170-ac2e-4046-8de2-26fc2b1f5db5",
   "metadata": {},
   "outputs": [],
   "source": [
    "# indexing ---> get single element\n",
    "# slicing ----> piece of data"
   ]
  },
  {
   "cell_type": "code",
   "execution_count": null,
   "id": "95259a08-dbdb-46f5-9210-8468c64a7d4f",
   "metadata": {},
   "outputs": [],
   "source": []
  },
  {
   "cell_type": "code",
   "execution_count": 4,
   "id": "07db93cd-c70e-4c69-9af5-e3f1ae3c2607",
   "metadata": {},
   "outputs": [],
   "source": [
    "# 1-D ndarray --> indexing slicing"
   ]
  },
  {
   "cell_type": "code",
   "execution_count": 5,
   "id": "7d25aa6f-8068-4316-8850-428a2cecff1d",
   "metadata": {},
   "outputs": [],
   "source": [
    "arr = np.array([12, 34, 45, 56, 34, 45, 67, 78, 5, 6, 8, 45, 3])"
   ]
  },
  {
   "cell_type": "code",
   "execution_count": 6,
   "id": "62496b11-38a7-40c6-bd02-3f860358ead4",
   "metadata": {},
   "outputs": [
    {
     "data": {
      "text/plain": [
       "array([12, 34, 45, 56, 34, 45, 67, 78,  5,  6,  8, 45,  3])"
      ]
     },
     "execution_count": 6,
     "metadata": {},
     "output_type": "execute_result"
    }
   ],
   "source": [
    "arr"
   ]
  },
  {
   "cell_type": "code",
   "execution_count": 7,
   "id": "0740ec48-529c-47ef-a602-5e3984a7a872",
   "metadata": {},
   "outputs": [
    {
     "data": {
      "text/plain": [
       "1"
      ]
     },
     "execution_count": 7,
     "metadata": {},
     "output_type": "execute_result"
    }
   ],
   "source": [
    "arr.ndim"
   ]
  },
  {
   "cell_type": "code",
   "execution_count": 8,
   "id": "930d4114-f9b1-4816-b8dd-89a1dda96885",
   "metadata": {},
   "outputs": [
    {
     "data": {
      "text/plain": [
       "(13,)"
      ]
     },
     "execution_count": 8,
     "metadata": {},
     "output_type": "execute_result"
    }
   ],
   "source": [
    "arr.shape"
   ]
  },
  {
   "cell_type": "code",
   "execution_count": null,
   "id": "11098663-fa8c-480c-8f5d-42888b591c80",
   "metadata": {},
   "outputs": [],
   "source": []
  },
  {
   "cell_type": "code",
   "execution_count": 9,
   "id": "629b9fa9-b3d2-4ff9-bef9-b8a3bd54cea7",
   "metadata": {},
   "outputs": [],
   "source": [
    "arr = np.array([12, 34, 45, 56, 34, 45, 67, 78, 5, 6, 8, 45, 3])"
   ]
  },
  {
   "cell_type": "code",
   "execution_count": null,
   "id": "c8498534-8f37-494e-8f36-8fe24dcb1bb0",
   "metadata": {},
   "outputs": [],
   "source": [
    "# indexing:\n",
    "#     syntex:\n",
    "\n",
    "objectname[inedxnumebr]"
   ]
  },
  {
   "cell_type": "code",
   "execution_count": 10,
   "id": "161fb5e7-b46f-4da1-ab39-4b7abb3cad1b",
   "metadata": {},
   "outputs": [
    {
     "data": {
      "text/plain": [
       "45"
      ]
     },
     "execution_count": 10,
     "metadata": {},
     "output_type": "execute_result"
    }
   ],
   "source": [
    "arr[2]"
   ]
  },
  {
   "cell_type": "code",
   "execution_count": 11,
   "id": "1c43e07e-ecec-4dcc-947f-3f55b988e713",
   "metadata": {},
   "outputs": [
    {
     "data": {
      "text/plain": [
       "67"
      ]
     },
     "execution_count": 11,
     "metadata": {},
     "output_type": "execute_result"
    }
   ],
   "source": [
    "arr[6]"
   ]
  },
  {
   "cell_type": "code",
   "execution_count": 12,
   "id": "67813a89-303b-47f1-90cf-435e38b973fe",
   "metadata": {},
   "outputs": [],
   "source": [
    "# negtive indeixng"
   ]
  },
  {
   "cell_type": "code",
   "execution_count": 13,
   "id": "f1bb5502-af23-47e1-89e8-1b5d56f1d955",
   "metadata": {},
   "outputs": [],
   "source": [
    "arr = np.array([12, 34, 45, 56, 34, 45, 67, 78, 5, 6, 8, 45, 3])"
   ]
  },
  {
   "cell_type": "code",
   "execution_count": 14,
   "id": "2a456b2f-6e4d-4116-bc3d-d18611c8ddf8",
   "metadata": {},
   "outputs": [
    {
     "data": {
      "text/plain": [
       "8"
      ]
     },
     "execution_count": 14,
     "metadata": {},
     "output_type": "execute_result"
    }
   ],
   "source": [
    "arr[-3]"
   ]
  },
  {
   "cell_type": "code",
   "execution_count": 15,
   "id": "b6956545-b37d-4a20-af03-1050d803335c",
   "metadata": {},
   "outputs": [
    {
     "data": {
      "text/plain": [
       "8"
      ]
     },
     "execution_count": 15,
     "metadata": {},
     "output_type": "execute_result"
    }
   ],
   "source": [
    "arr[10]"
   ]
  },
  {
   "cell_type": "code",
   "execution_count": null,
   "id": "c8b05051-c469-4f80-91ca-ba35b4e5246f",
   "metadata": {},
   "outputs": [],
   "source": []
  },
  {
   "cell_type": "code",
   "execution_count": 16,
   "id": "ca8b459e-9661-4243-b328-09d57ec071c2",
   "metadata": {},
   "outputs": [],
   "source": [
    "# Slicing:\n",
    "    # list, range()\n"
   ]
  },
  {
   "cell_type": "code",
   "execution_count": 17,
   "id": "b5f8a66c-773a-4194-8d44-44862288d2f0",
   "metadata": {},
   "outputs": [],
   "source": [
    "# objectname[start_index_number : end_index_number : increment(steps)]\n",
    "\n",
    "# default values:\n",
    "#     start_index_number = 0\n",
    "#     end_index_number = n - 1\n",
    "#                     n  = totle number of elements\n",
    "#     indecreamnt = 1"
   ]
  },
  {
   "cell_type": "code",
   "execution_count": null,
   "id": "a0fcab1b-3aa2-4b64-b595-9dd5d8819f43",
   "metadata": {},
   "outputs": [],
   "source": []
  },
  {
   "cell_type": "code",
   "execution_count": 18,
   "id": "0e3d2735-bb69-4775-838d-339d8112f45a",
   "metadata": {},
   "outputs": [],
   "source": [
    "arr = np.array([12, 34, 45, 56, 34, 45, 67, 78, 5, 6, 8, 45, 3])"
   ]
  },
  {
   "cell_type": "code",
   "execution_count": 20,
   "id": "2914085f-780e-44ee-bf3d-2ee550b10eff",
   "metadata": {},
   "outputs": [
    {
     "data": {
      "text/plain": [
       "array([34, 45, 67, 78,  5])"
      ]
     },
     "execution_count": 20,
     "metadata": {},
     "output_type": "execute_result"
    }
   ],
   "source": [
    "x = arr[4 : 9 : 1]\n",
    "x"
   ]
  },
  {
   "cell_type": "code",
   "execution_count": null,
   "id": "285bf8de-798c-4cd7-a8bd-728769284f59",
   "metadata": {},
   "outputs": [],
   "source": []
  },
  {
   "cell_type": "code",
   "execution_count": 21,
   "id": "630b8496-bd5a-42a8-ae7e-54a288c08261",
   "metadata": {},
   "outputs": [],
   "source": [
    "arr = np.array([12, 34, 45, 56, 34, 45, 67, 78, 5, 6, 8, 45, 3])"
   ]
  },
  {
   "cell_type": "code",
   "execution_count": 23,
   "id": "ecdc8a91-9910-4665-891d-3da98f419f24",
   "metadata": {},
   "outputs": [
    {
     "data": {
      "text/plain": [
       "array([34, 45, 56, 34, 45])"
      ]
     },
     "execution_count": 23,
     "metadata": {},
     "output_type": "execute_result"
    }
   ],
   "source": [
    "arr[1 : 6 : 1]"
   ]
  },
  {
   "cell_type": "code",
   "execution_count": 24,
   "id": "461fc8dd-f91d-4b74-a544-97c9a4b66e4d",
   "metadata": {},
   "outputs": [
    {
     "data": {
      "text/plain": [
       "array([34, 45, 56, 34, 45])"
      ]
     },
     "execution_count": 24,
     "metadata": {},
     "output_type": "execute_result"
    }
   ],
   "source": [
    "arr[1 : 6 : 1]"
   ]
  },
  {
   "cell_type": "code",
   "execution_count": null,
   "id": "b8e72cf0-4104-416d-90e9-61ebf3f3399f",
   "metadata": {},
   "outputs": [],
   "source": []
  },
  {
   "cell_type": "code",
   "execution_count": 25,
   "id": "d57d1260-fb8a-44b3-ac9b-e517257aab47",
   "metadata": {},
   "outputs": [],
   "source": [
    "arr = np.array([12, 34, 45, 56, 34, 45, 67, 78, 5, 6, 8, 45, 3])"
   ]
  },
  {
   "cell_type": "code",
   "execution_count": 26,
   "id": "587bb160-658d-4e21-b511-bc898357b031",
   "metadata": {},
   "outputs": [
    {
     "data": {
      "text/plain": [
       "array([34, 45, 67, 78,  5,  6,  8, 45,  3])"
      ]
     },
     "execution_count": 26,
     "metadata": {},
     "output_type": "execute_result"
    }
   ],
   "source": [
    "arr[4 : ]"
   ]
  },
  {
   "cell_type": "code",
   "execution_count": null,
   "id": "f38a3ad1-c33d-46e2-a5c9-18cb146ba195",
   "metadata": {},
   "outputs": [],
   "source": []
  },
  {
   "cell_type": "code",
   "execution_count": 27,
   "id": "2f000ff1-3a9b-421a-bce4-84196780a806",
   "metadata": {},
   "outputs": [
    {
     "data": {
      "text/plain": [
       "array([12, 34, 45, 56, 34, 45])"
      ]
     },
     "execution_count": 27,
     "metadata": {},
     "output_type": "execute_result"
    }
   ],
   "source": [
    "arr[ : 6]"
   ]
  },
  {
   "cell_type": "code",
   "execution_count": null,
   "id": "d4fc5dda-97f1-4a33-afb1-7b70fc9ef5a6",
   "metadata": {},
   "outputs": [],
   "source": []
  },
  {
   "cell_type": "code",
   "execution_count": 32,
   "id": "3cd274d5-f86f-467e-a2e2-44211be145ee",
   "metadata": {},
   "outputs": [],
   "source": [
    "arr = np.array([12, 34, 45, 56, 34, 45, 67, 78, 5, 6, 8, 45, 3])"
   ]
  },
  {
   "cell_type": "code",
   "execution_count": 31,
   "id": "633312dd-8059-4333-8db2-0344fc46c290",
   "metadata": {},
   "outputs": [
    {
     "data": {
      "text/plain": [
       "array([12, 45, 34, 67])"
      ]
     },
     "execution_count": 31,
     "metadata": {},
     "output_type": "execute_result"
    }
   ],
   "source": [
    "arr[0 : 8 : 2]"
   ]
  },
  {
   "cell_type": "code",
   "execution_count": null,
   "id": "8d1d1568-5a65-4330-a7b7-5fa76f3f2705",
   "metadata": {},
   "outputs": [],
   "source": []
  },
  {
   "cell_type": "code",
   "execution_count": 34,
   "id": "37b3df15-1b23-4e73-b7b5-6239dd66c13e",
   "metadata": {},
   "outputs": [
    {
     "data": {
      "text/plain": [
       "array([12, 56, 67,  6,  3])"
      ]
     },
     "execution_count": 34,
     "metadata": {},
     "output_type": "execute_result"
    }
   ],
   "source": [
    "arr[: : 3]"
   ]
  },
  {
   "cell_type": "code",
   "execution_count": 35,
   "id": "422fc16c-106b-4e7b-bbba-08a131e7e1cc",
   "metadata": {},
   "outputs": [],
   "source": [
    "\n",
    "arr = np.array([12, 34, 45, 56, 34, 45, 67, 78, 5, 6, 8, 45, 3])"
   ]
  },
  {
   "cell_type": "code",
   "execution_count": 36,
   "id": "4c1797fe-1a57-4add-a933-144638eae63a",
   "metadata": {},
   "outputs": [
    {
     "data": {
      "text/plain": [
       "array([ 3, 45,  8,  6,  5, 78, 67, 45, 34, 56, 45, 34, 12])"
      ]
     },
     "execution_count": 36,
     "metadata": {},
     "output_type": "execute_result"
    }
   ],
   "source": [
    "# reverse\n",
    "\n",
    "arr[: : -1]"
   ]
  },
  {
   "cell_type": "code",
   "execution_count": null,
   "id": "cb779f91-abde-4918-8d53-485d44616c81",
   "metadata": {},
   "outputs": [],
   "source": []
  },
  {
   "cell_type": "code",
   "execution_count": null,
   "id": "3e39a417-0659-4d34-b328-65b21c7101ec",
   "metadata": {},
   "outputs": [],
   "source": []
  },
  {
   "cell_type": "code",
   "execution_count": 37,
   "id": "242fc6be-00e6-4d5b-8e79-74f1c9ee6f95",
   "metadata": {},
   "outputs": [],
   "source": [
    "# 2-D ndarray --> indexing or slicing"
   ]
  },
  {
   "cell_type": "code",
   "execution_count": 43,
   "id": "9d469afc-e2fe-4673-9337-59561bfd3dc4",
   "metadata": {},
   "outputs": [],
   "source": [
    "arr = np.array([[12, 23, 34, 45, 676, 45, 34, 23], [34, 5, 34, 23, 45, 23, 345, 23]])"
   ]
  },
  {
   "cell_type": "code",
   "execution_count": 44,
   "id": "333cbe9a-6162-4578-9050-3a534642be00",
   "metadata": {},
   "outputs": [
    {
     "data": {
      "text/plain": [
       "array([[ 12,  23,  34,  45, 676,  45,  34,  23],\n",
       "       [ 34,   5,  34,  23,  45,  23, 345,  23]])"
      ]
     },
     "execution_count": 44,
     "metadata": {},
     "output_type": "execute_result"
    }
   ],
   "source": [
    "arr"
   ]
  },
  {
   "cell_type": "code",
   "execution_count": 45,
   "id": "00684971-0640-4d75-9355-beaba2c7b3bb",
   "metadata": {},
   "outputs": [
    {
     "data": {
      "text/plain": [
       "2"
      ]
     },
     "execution_count": 45,
     "metadata": {},
     "output_type": "execute_result"
    }
   ],
   "source": [
    "arr.ndim"
   ]
  },
  {
   "cell_type": "code",
   "execution_count": 46,
   "id": "c0b446bc-1c5c-4976-8e2b-3bbfe25a54ea",
   "metadata": {},
   "outputs": [
    {
     "data": {
      "text/plain": [
       "(2, 8)"
      ]
     },
     "execution_count": 46,
     "metadata": {},
     "output_type": "execute_result"
    }
   ],
   "source": [
    "arr.shape"
   ]
  },
  {
   "cell_type": "code",
   "execution_count": null,
   "id": "992f13c5-b6c6-4ddc-8bdc-23db43d13e27",
   "metadata": {},
   "outputs": [],
   "source": []
  },
  {
   "cell_type": "code",
   "execution_count": 47,
   "id": "e21dd901-ebcd-4e83-8192-e0c86590209e",
   "metadata": {},
   "outputs": [],
   "source": [
    "arr = np.array([[12, 23, 34, 45, 676, 45, 34, 23], [34, 5, 34, 23, 45, 23, 345, 23]])"
   ]
  },
  {
   "cell_type": "code",
   "execution_count": 49,
   "id": "726f401d-a02c-45bb-8c61-f785b373f86b",
   "metadata": {},
   "outputs": [
    {
     "data": {
      "text/plain": [
       "676"
      ]
     },
     "execution_count": 49,
     "metadata": {},
     "output_type": "execute_result"
    }
   ],
   "source": [
    "# syntex : indexing\n",
    "\n",
    "# objectname[array_number][elemt_index_number]\n",
    "\n",
    "arr[0][4]"
   ]
  },
  {
   "cell_type": "code",
   "execution_count": null,
   "id": "0d8e4345-c6be-41c5-9051-845ada96e9ed",
   "metadata": {},
   "outputs": [],
   "source": []
  },
  {
   "cell_type": "code",
   "execution_count": 50,
   "id": "52c9a76f-d1a9-4d2c-859e-8c2af262cd82",
   "metadata": {},
   "outputs": [
    {
     "data": {
      "text/plain": [
       "345"
      ]
     },
     "execution_count": 50,
     "metadata": {},
     "output_type": "execute_result"
    }
   ],
   "source": [
    "arr[1][6]"
   ]
  },
  {
   "cell_type": "code",
   "execution_count": 51,
   "id": "d0edf83d-3e4e-4773-8f3e-7a53ee381efe",
   "metadata": {},
   "outputs": [
    {
     "data": {
      "text/plain": [
       "345"
      ]
     },
     "execution_count": 51,
     "metadata": {},
     "output_type": "execute_result"
    }
   ],
   "source": [
    "arr[1][-2]"
   ]
  },
  {
   "cell_type": "code",
   "execution_count": null,
   "id": "6f99abcd-c7b6-409c-a433-053732bd62c5",
   "metadata": {},
   "outputs": [],
   "source": []
  },
  {
   "cell_type": "code",
   "execution_count": 52,
   "id": "e89dadab-46f8-4298-aa92-ad79058bc825",
   "metadata": {},
   "outputs": [],
   "source": [
    "xyz = np.array([[23, 4, 45, 45], [45, 3, 34, 23], [8, 9, 6, 5], [23, 4, 23, 2]])"
   ]
  },
  {
   "cell_type": "code",
   "execution_count": 53,
   "id": "3352986e-1c7d-4ad4-9297-59d6e04554bc",
   "metadata": {},
   "outputs": [
    {
     "data": {
      "text/plain": [
       "array([[23,  4, 45, 45],\n",
       "       [45,  3, 34, 23],\n",
       "       [ 8,  9,  6,  5],\n",
       "       [23,  4, 23,  2]])"
      ]
     },
     "execution_count": 53,
     "metadata": {},
     "output_type": "execute_result"
    }
   ],
   "source": [
    "xyz"
   ]
  },
  {
   "cell_type": "code",
   "execution_count": 54,
   "id": "cb84c193-b57b-4fa4-aca8-8f83622daf2b",
   "metadata": {},
   "outputs": [
    {
     "data": {
      "text/plain": [
       "(4, 4)"
      ]
     },
     "execution_count": 54,
     "metadata": {},
     "output_type": "execute_result"
    }
   ],
   "source": [
    "xyz.shape"
   ]
  },
  {
   "cell_type": "code",
   "execution_count": null,
   "id": "bc2785cd-7b01-4521-b142-ccef2e58d1ca",
   "metadata": {},
   "outputs": [],
   "source": []
  },
  {
   "cell_type": "code",
   "execution_count": 55,
   "id": "fb1b8581-6e6c-49ba-bef5-57faa76981d3",
   "metadata": {},
   "outputs": [],
   "source": [
    "xyz = np.array([[23, 4, 45, 45], [45, 3, 34, 23], [8, 9, 6, 5], [23, 4, 23, 2]])"
   ]
  },
  {
   "cell_type": "code",
   "execution_count": 58,
   "id": "c9501ae7-7826-4308-b3ef-7a6a791a5643",
   "metadata": {},
   "outputs": [
    {
     "data": {
      "text/plain": [
       "2"
      ]
     },
     "execution_count": 58,
     "metadata": {},
     "output_type": "execute_result"
    }
   ],
   "source": [
    "xyz[3][-1]"
   ]
  },
  {
   "cell_type": "code",
   "execution_count": null,
   "id": "87f7a963-cd4a-4a44-8662-310eebfd00ec",
   "metadata": {},
   "outputs": [],
   "source": []
  },
  {
   "cell_type": "code",
   "execution_count": 59,
   "id": "a9f500cf-c5d1-40ed-909b-c77413283bef",
   "metadata": {},
   "outputs": [],
   "source": [
    "# slicng"
   ]
  },
  {
   "cell_type": "code",
   "execution_count": 60,
   "id": "1b8a49d9-2f01-41c4-a370-a5bf26019c89",
   "metadata": {},
   "outputs": [],
   "source": [
    "xyz = np.array([[23, 4, 45, 45], [45, 3, 34, 23], [8, 9, 6, 5], [23, 4, 23, 2]])"
   ]
  },
  {
   "cell_type": "code",
   "execution_count": 62,
   "id": "e5b9cd00-3e28-428f-994a-d0e06cc8951f",
   "metadata": {},
   "outputs": [
    {
     "data": {
      "text/plain": [
       "array([ 3, 34, 23])"
      ]
     },
     "execution_count": 62,
     "metadata": {},
     "output_type": "execute_result"
    }
   ],
   "source": [
    "xyz[1][1 : ]"
   ]
  },
  {
   "cell_type": "code",
   "execution_count": null,
   "id": "4338231e-76dc-4113-80d6-a2f151fea5fe",
   "metadata": {},
   "outputs": [],
   "source": []
  },
  {
   "cell_type": "code",
   "execution_count": 63,
   "id": "9d06ae99-78b0-4df5-bf94-991d50148593",
   "metadata": {},
   "outputs": [],
   "source": [
    "# 3-D ndarray --- indexing / slicing"
   ]
  },
  {
   "cell_type": "code",
   "execution_count": 64,
   "id": "620b16b4-2248-4363-9729-1b2a0d66084b",
   "metadata": {},
   "outputs": [],
   "source": [
    "arr3 = np.array([[[12, 23, 4, 2], [45, 56, 3, 4]], [[45, 34, 45, 34], [45, 34, 45, 2]]])"
   ]
  },
  {
   "cell_type": "code",
   "execution_count": 65,
   "id": "e57e4ac0-4a3b-456c-8c58-27dee9891f3e",
   "metadata": {},
   "outputs": [
    {
     "data": {
      "text/plain": [
       "array([[[12, 23,  4,  2],\n",
       "        [45, 56,  3,  4]],\n",
       "\n",
       "       [[45, 34, 45, 34],\n",
       "        [45, 34, 45,  2]]])"
      ]
     },
     "execution_count": 65,
     "metadata": {},
     "output_type": "execute_result"
    }
   ],
   "source": [
    "arr3"
   ]
  },
  {
   "cell_type": "code",
   "execution_count": 66,
   "id": "5a149a91-d5ff-45a1-83d0-60e3e247e58c",
   "metadata": {},
   "outputs": [
    {
     "data": {
      "text/plain": [
       "(2, 2, 4)"
      ]
     },
     "execution_count": 66,
     "metadata": {},
     "output_type": "execute_result"
    }
   ],
   "source": [
    "arr3.shape"
   ]
  },
  {
   "cell_type": "code",
   "execution_count": 67,
   "id": "b2380019-03f7-4ff2-b60c-0f175ea22482",
   "metadata": {},
   "outputs": [
    {
     "data": {
      "text/plain": [
       "3"
      ]
     },
     "execution_count": 67,
     "metadata": {},
     "output_type": "execute_result"
    }
   ],
   "source": [
    "arr3.ndim"
   ]
  },
  {
   "cell_type": "code",
   "execution_count": null,
   "id": "1d1b4199-6b28-4fa1-a110-b5cc9904127e",
   "metadata": {},
   "outputs": [],
   "source": []
  },
  {
   "cell_type": "code",
   "execution_count": 68,
   "id": "1f6d07ce-f4e0-4906-b7a7-3e0a802cf5e6",
   "metadata": {},
   "outputs": [],
   "source": [
    "arr3 = np.array([[[12, 23, 4, 2], [45, 56, 3, 4]], [[45, 34, 45, 34], [45, 34, 45, 2]]])"
   ]
  },
  {
   "cell_type": "code",
   "execution_count": 71,
   "id": "8ac50b27-dbfe-4e01-9c79-ba331db1a972",
   "metadata": {},
   "outputs": [
    {
     "data": {
      "text/plain": [
       "3"
      ]
     },
     "execution_count": 71,
     "metadata": {},
     "output_type": "execute_result"
    }
   ],
   "source": [
    "arr3[0][1][2]"
   ]
  },
  {
   "cell_type": "code",
   "execution_count": 75,
   "id": "f8b021aa-5261-4ab0-9713-57f44141f791",
   "metadata": {},
   "outputs": [
    {
     "data": {
      "text/plain": [
       "2"
      ]
     },
     "execution_count": 75,
     "metadata": {},
     "output_type": "execute_result"
    }
   ],
   "source": [
    "arr3[1][1][-1]"
   ]
  },
  {
   "cell_type": "code",
   "execution_count": null,
   "id": "5bdb584d-827c-4e1d-9828-3688f78cdbad",
   "metadata": {},
   "outputs": [],
   "source": []
  },
  {
   "cell_type": "code",
   "execution_count": 79,
   "id": "6481dc84-a4a5-405e-af19-0b6f0f4e0ecc",
   "metadata": {},
   "outputs": [
    {
     "data": {
      "text/plain": [
       "array([23,  4,  2])"
      ]
     },
     "execution_count": 79,
     "metadata": {},
     "output_type": "execute_result"
    }
   ],
   "source": [
    "arr3[0][0][1 : ]"
   ]
  },
  {
   "cell_type": "code",
   "execution_count": null,
   "id": "25b0c2dc-4e1c-4e40-b992-fe633c88432c",
   "metadata": {},
   "outputs": [],
   "source": []
  }
 ],
 "metadata": {
  "kernelspec": {
   "display_name": "Python 3 (ipykernel)",
   "language": "python",
   "name": "python3"
  },
  "language_info": {
   "codemirror_mode": {
    "name": "ipython",
    "version": 3
   },
   "file_extension": ".py",
   "mimetype": "text/x-python",
   "name": "python",
   "nbconvert_exporter": "python",
   "pygments_lexer": "ipython3",
   "version": "3.12.3"
  }
 },
 "nbformat": 4,
 "nbformat_minor": 5
}
