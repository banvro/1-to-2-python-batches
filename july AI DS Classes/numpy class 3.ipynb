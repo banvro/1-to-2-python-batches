{
 "cells": [
  {
   "cell_type": "code",
   "execution_count": 1,
   "id": "19d70eb5-beac-4fe2-8f05-c50a480391f4",
   "metadata": {},
   "outputs": [],
   "source": [
    "# Numpy:\n",
    "# Numpy\n",
    "# ndim\n",
    "# shape\n",
    "# ndarryas\n",
    "# indexing\n",
    "# slicing"
   ]
  },
  {
   "cell_type": "code",
   "execution_count": null,
   "id": "046dc0cd-5ada-45ce-876a-342d0cc5364b",
   "metadata": {},
   "outputs": [],
   "source": []
  },
  {
   "cell_type": "code",
   "execution_count": null,
   "id": "edd744b1-d33e-43bc-b08c-39de7edbf785",
   "metadata": {},
   "outputs": [],
   "source": [
    "where() ----> return indexnuber of a perticuler element from the ndarray."
   ]
  },
  {
   "cell_type": "code",
   "execution_count": null,
   "id": "1be9451f-b4c3-4a09-990c-6b62b2bfb479",
   "metadata": {},
   "outputs": [],
   "source": []
  },
  {
   "cell_type": "code",
   "execution_count": 2,
   "id": "39bba3f1-a0ad-4eed-b976-40fbf3c8df6a",
   "metadata": {},
   "outputs": [],
   "source": [
    "import numpy as np"
   ]
  },
  {
   "cell_type": "code",
   "execution_count": null,
   "id": "3653b55b-7606-4110-94e9-5cbbe324c533",
   "metadata": {},
   "outputs": [],
   "source": []
  },
  {
   "cell_type": "code",
   "execution_count": 3,
   "id": "6206036f-7b90-46c8-b36f-4e5ea47dd27b",
   "metadata": {},
   "outputs": [],
   "source": [
    "arr = np.array([12, 34, 45, 23, 12, 34, 56, 768, 89, 90, 67, 56])"
   ]
  },
  {
   "cell_type": "code",
   "execution_count": null,
   "id": "43e80e91-47c9-4f4b-aefd-8e75c02adf5a",
   "metadata": {},
   "outputs": [],
   "source": []
  },
  {
   "cell_type": "code",
   "execution_count": 6,
   "id": "a8212b83-2c04-4956-aa2a-ff061cbc7072",
   "metadata": {},
   "outputs": [],
   "source": [
    "# arr[1]"
   ]
  },
  {
   "cell_type": "code",
   "execution_count": 11,
   "id": "83860b18-c563-4095-a97b-3a5cdf31cd4f",
   "metadata": {},
   "outputs": [],
   "source": [
    "# np.where(objectname operator element)\n",
    "\n",
    "# np.where(arr, 768)\n",
    "\n",
    "compersion operators:\n",
    "\n",
    "# 1) ==\n",
    "# 2) !=\n",
    "# 3) >\n",
    "# 4) <\n",
    "# 5) <=\n",
    "# 6) >="
   ]
  },
  {
   "cell_type": "code",
   "execution_count": 12,
   "id": "b627e402-5972-492f-bb01-7582434228f7",
   "metadata": {},
   "outputs": [],
   "source": [
    "# help(np.where)"
   ]
  },
  {
   "cell_type": "code",
   "execution_count": 16,
   "id": "a0eb2657-ef29-44d7-a509-4b55c2aeebc6",
   "metadata": {},
   "outputs": [],
   "source": [
    "# 10 != 11"
   ]
  },
  {
   "cell_type": "code",
   "execution_count": 17,
   "id": "93f26a6f-c481-4441-9930-fdfab84884c3",
   "metadata": {},
   "outputs": [],
   "source": [
    "arr = np.array([12, 34, 45, 23, 12, 34, 56, 768, 89, 90, 67, 56])"
   ]
  },
  {
   "cell_type": "code",
   "execution_count": 18,
   "id": "3c347934-9cdc-45f4-a50f-33cedf0ef471",
   "metadata": {},
   "outputs": [
    {
     "data": {
      "text/plain": [
       "(array([7], dtype=int64),)"
      ]
     },
     "execution_count": 18,
     "metadata": {},
     "output_type": "execute_result"
    }
   ],
   "source": [
    "np.where(arr == 768)"
   ]
  },
  {
   "cell_type": "code",
   "execution_count": null,
   "id": "7e5865a8-134e-4a37-a3de-2aafc4ee028f",
   "metadata": {},
   "outputs": [],
   "source": []
  },
  {
   "cell_type": "code",
   "execution_count": 19,
   "id": "f8016740-e7d0-490b-8544-5d09f2dee23d",
   "metadata": {},
   "outputs": [
    {
     "data": {
      "text/plain": [
       "(array([0, 4], dtype=int64),)"
      ]
     },
     "execution_count": 19,
     "metadata": {},
     "output_type": "execute_result"
    }
   ],
   "source": [
    "np.where(arr == 12)"
   ]
  },
  {
   "cell_type": "code",
   "execution_count": null,
   "id": "f2e06d95-46ae-46a3-8e7b-d0500a6bb8e3",
   "metadata": {},
   "outputs": [],
   "source": []
  },
  {
   "cell_type": "code",
   "execution_count": null,
   "id": "98a24785-481c-47de-8e48-4cba70f089fb",
   "metadata": {},
   "outputs": [],
   "source": []
  },
  {
   "cell_type": "code",
   "execution_count": 20,
   "id": "7b2e6311-eeda-4c0e-a6b0-bc6f4cb5cd76",
   "metadata": {},
   "outputs": [],
   "source": [
    "arr = np.array([12, 34, 45, 23, 12, 34, 56, 768, 89, 90, 67, 56])"
   ]
  },
  {
   "cell_type": "code",
   "execution_count": 21,
   "id": "eaa59187-589f-4c7a-9605-f8487a73a35b",
   "metadata": {},
   "outputs": [
    {
     "data": {
      "text/plain": [
       "(array([ 6,  7,  8,  9, 10, 11], dtype=int64),)"
      ]
     },
     "execution_count": 21,
     "metadata": {},
     "output_type": "execute_result"
    }
   ],
   "source": [
    "np.where(arr > 50)"
   ]
  },
  {
   "cell_type": "code",
   "execution_count": null,
   "id": "a37d50c4-b02f-4ad4-b7a5-4e8d9e39c95c",
   "metadata": {},
   "outputs": [],
   "source": []
  },
  {
   "cell_type": "code",
   "execution_count": 22,
   "id": "ed14ed68-eee7-4ed0-99fb-de893f921e25",
   "metadata": {},
   "outputs": [],
   "source": [
    "# where() ---> location/ indexnumber return"
   ]
  },
  {
   "cell_type": "code",
   "execution_count": 23,
   "id": "f34dc7ac-1eff-4936-a2c8-1d66f5b40c05",
   "metadata": {},
   "outputs": [],
   "source": [
    "arr = np.array([12, 34, 45, 23, 12, 34, 56, 768, 89, 90, 67, 56])"
   ]
  },
  {
   "cell_type": "code",
   "execution_count": null,
   "id": "e620ea12-42bf-43be-9dce-933f78aa204a",
   "metadata": {},
   "outputs": [],
   "source": []
  },
  {
   "cell_type": "code",
   "execution_count": 25,
   "id": "f5546022-dff8-406b-9df5-f184a0e44294",
   "metadata": {},
   "outputs": [
    {
     "data": {
      "text/plain": [
       "(array([ 0,  2,  3,  4,  6,  7,  8,  9, 10, 11], dtype=int64),)"
      ]
     },
     "execution_count": 25,
     "metadata": {},
     "output_type": "execute_result"
    }
   ],
   "source": [
    "np.where(arr != 34)"
   ]
  },
  {
   "cell_type": "code",
   "execution_count": 26,
   "id": "87ba3562-0cf3-49b6-936d-347defb6f4c0",
   "metadata": {},
   "outputs": [],
   "source": [
    "# indexing:"
   ]
  },
  {
   "cell_type": "code",
   "execution_count": 27,
   "id": "2c1cf7cf-d73b-40b5-aa6b-f9500f851e6f",
   "metadata": {},
   "outputs": [],
   "source": [
    "arr = np.array([12, 34, 45, 23, 12, 34, 56, 768, 89, 90, 67, 56])"
   ]
  },
  {
   "cell_type": "code",
   "execution_count": 28,
   "id": "2054bb1d-7891-4dc8-abf9-daac9fbb5e10",
   "metadata": {},
   "outputs": [
    {
     "data": {
      "text/plain": [
       "45"
      ]
     },
     "execution_count": 28,
     "metadata": {},
     "output_type": "execute_result"
    }
   ],
   "source": [
    "arr[2]"
   ]
  },
  {
   "cell_type": "code",
   "execution_count": null,
   "id": "e63465aa-ee5a-4238-98e1-0cec034c6222",
   "metadata": {},
   "outputs": [],
   "source": []
  },
  {
   "cell_type": "code",
   "execution_count": null,
   "id": "1bbc3640-818a-41e6-8282-4aa4379bd8d0",
   "metadata": {},
   "outputs": [],
   "source": []
  },
  {
   "cell_type": "code",
   "execution_count": 29,
   "id": "98170476-0113-4aef-8fda-d069626c1ac2",
   "metadata": {},
   "outputs": [],
   "source": [
    "# sort()  --> aranding data in order"
   ]
  },
  {
   "cell_type": "code",
   "execution_count": null,
   "id": "c0bd35b5-1776-406d-8d7e-c96c04f3be37",
   "metadata": {},
   "outputs": [],
   "source": []
  },
  {
   "cell_type": "code",
   "execution_count": 30,
   "id": "4e42a94c-0fc3-4c5c-9566-3f5098edd943",
   "metadata": {},
   "outputs": [],
   "source": [
    "x = np.array([12, 3, 4, 6, 3, 2, 4])"
   ]
  },
  {
   "cell_type": "code",
   "execution_count": 32,
   "id": "0e94f8b0-5961-4e2d-bd15-da6e06d248f7",
   "metadata": {},
   "outputs": [
    {
     "data": {
      "text/plain": [
       "array([ 2,  3,  3,  4,  4,  6, 12])"
      ]
     },
     "execution_count": 32,
     "metadata": {},
     "output_type": "execute_result"
    }
   ],
   "source": [
    "y = np.sort(x)\n",
    "y"
   ]
  },
  {
   "cell_type": "code",
   "execution_count": 33,
   "id": "7861a36b-5e07-44ed-9d6d-147b53f6038d",
   "metadata": {},
   "outputs": [
    {
     "data": {
      "text/plain": [
       "array([12,  6,  4,  4,  3,  3,  2])"
      ]
     },
     "execution_count": 33,
     "metadata": {},
     "output_type": "execute_result"
    }
   ],
   "source": [
    "y[: : -1]"
   ]
  },
  {
   "cell_type": "code",
   "execution_count": null,
   "id": "5f105c5d-390b-4d6e-861c-4c119d699919",
   "metadata": {},
   "outputs": [],
   "source": []
  },
  {
   "cell_type": "code",
   "execution_count": null,
   "id": "08d6fbcf-a826-4903-96d7-a3b2529940a9",
   "metadata": {},
   "outputs": [],
   "source": []
  },
  {
   "cell_type": "code",
   "execution_count": 34,
   "id": "5e7020a4-18a9-4d48-8aba-af818f6161eb",
   "metadata": {},
   "outputs": [],
   "source": [
    "# arange()\n",
    "    # to genrate data\n",
    "\n",
    "# python ---> range()  numpy -----> arange()"
   ]
  },
  {
   "cell_type": "code",
   "execution_count": 35,
   "id": "55df05b3-5af4-414e-8e5e-4240a8320b90",
   "metadata": {},
   "outputs": [],
   "source": [
    "# newarr = np.arange(start, end, increment)\n",
    "\n",
    "newarr = np.arange(1, 21)"
   ]
  },
  {
   "cell_type": "code",
   "execution_count": 36,
   "id": "763c16be-f621-4f1c-9dbd-65143693ef3e",
   "metadata": {},
   "outputs": [
    {
     "data": {
      "text/plain": [
       "array([ 1,  2,  3,  4,  5,  6,  7,  8,  9, 10, 11, 12, 13, 14, 15, 16, 17,\n",
       "       18, 19, 20])"
      ]
     },
     "execution_count": 36,
     "metadata": {},
     "output_type": "execute_result"
    }
   ],
   "source": [
    "newarr"
   ]
  },
  {
   "cell_type": "code",
   "execution_count": null,
   "id": "c27d3406-2f2d-4e7c-9973-fb22244ffc0c",
   "metadata": {},
   "outputs": [],
   "source": []
  },
  {
   "cell_type": "code",
   "execution_count": 39,
   "id": "91455d82-6144-42b0-b8bd-08c8afeb6b71",
   "metadata": {},
   "outputs": [
    {
     "data": {
      "text/plain": [
       "array([10, 12, 14, 16, 18, 20, 22, 24, 26, 28, 30, 32, 34, 36, 38, 40, 42,\n",
       "       44, 46, 48])"
      ]
     },
     "execution_count": 39,
     "metadata": {},
     "output_type": "execute_result"
    }
   ],
   "source": [
    "newarr = np.arange(10, 50, 2)\n",
    "newarr"
   ]
  },
  {
   "cell_type": "code",
   "execution_count": null,
   "id": "523d13db-f8b2-4fb6-b504-daa6af9434b4",
   "metadata": {},
   "outputs": [],
   "source": []
  },
  {
   "cell_type": "code",
   "execution_count": 40,
   "id": "dec4fb88-ec6c-488b-bc23-db804438cdd4",
   "metadata": {},
   "outputs": [],
   "source": [
    "# where()\n",
    "# sort()\n",
    "# arange()"
   ]
  },
  {
   "cell_type": "code",
   "execution_count": 41,
   "id": "c938800f-241f-4f42-aed5-a14d15ceaef5",
   "metadata": {},
   "outputs": [],
   "source": [
    "# ones() ----> "
   ]
  },
  {
   "cell_type": "code",
   "execution_count": null,
   "id": "57728323-d23a-4b29-9b71-5737bb614295",
   "metadata": {},
   "outputs": [],
   "source": [
    "# np.ones(size)"
   ]
  },
  {
   "cell_type": "code",
   "execution_count": 42,
   "id": "3d52caba-eb0b-4c33-a960-afbdda1447e7",
   "metadata": {},
   "outputs": [
    {
     "data": {
      "text/plain": [
       "array([1., 1., 1., 1.])"
      ]
     },
     "execution_count": 42,
     "metadata": {},
     "output_type": "execute_result"
    }
   ],
   "source": [
    "np.ones(4)"
   ]
  },
  {
   "cell_type": "code",
   "execution_count": 44,
   "id": "ad43649b-0c8a-412e-ad35-584b4aca2895",
   "metadata": {},
   "outputs": [
    {
     "data": {
      "text/plain": [
       "array([[1., 1., 1.],\n",
       "       [1., 1., 1.],\n",
       "       [1., 1., 1.]])"
      ]
     },
     "execution_count": 44,
     "metadata": {},
     "output_type": "execute_result"
    }
   ],
   "source": [
    "np.ones((3, 3))"
   ]
  },
  {
   "cell_type": "code",
   "execution_count": null,
   "id": "f93763c2-0b83-4c09-9c8c-2481a677bb5c",
   "metadata": {},
   "outputs": [],
   "source": []
  },
  {
   "cell_type": "code",
   "execution_count": 45,
   "id": "b161fce2-3a8d-4b32-9a68-0f34a566afa1",
   "metadata": {},
   "outputs": [
    {
     "data": {
      "text/plain": [
       "array([[1., 1., 1., 1., 1., 1., 1., 1., 1.],\n",
       "       [1., 1., 1., 1., 1., 1., 1., 1., 1.],\n",
       "       [1., 1., 1., 1., 1., 1., 1., 1., 1.],\n",
       "       [1., 1., 1., 1., 1., 1., 1., 1., 1.],\n",
       "       [1., 1., 1., 1., 1., 1., 1., 1., 1.],\n",
       "       [1., 1., 1., 1., 1., 1., 1., 1., 1.],\n",
       "       [1., 1., 1., 1., 1., 1., 1., 1., 1.],\n",
       "       [1., 1., 1., 1., 1., 1., 1., 1., 1.]])"
      ]
     },
     "execution_count": 45,
     "metadata": {},
     "output_type": "execute_result"
    }
   ],
   "source": [
    "np.ones((8, 9))"
   ]
  },
  {
   "cell_type": "code",
   "execution_count": null,
   "id": "902465a3-e143-411b-bd98-80565dab557b",
   "metadata": {},
   "outputs": [],
   "source": []
  },
  {
   "cell_type": "code",
   "execution_count": 46,
   "id": "35d9098b-4142-4057-8389-a35edcdf87d3",
   "metadata": {},
   "outputs": [
    {
     "data": {
      "text/plain": [
       "array([[[1., 1., 1., 1.],\n",
       "        [1., 1., 1., 1.],\n",
       "        [1., 1., 1., 1.]],\n",
       "\n",
       "       [[1., 1., 1., 1.],\n",
       "        [1., 1., 1., 1.],\n",
       "        [1., 1., 1., 1.]]])"
      ]
     },
     "execution_count": 46,
     "metadata": {},
     "output_type": "execute_result"
    }
   ],
   "source": [
    "np.ones((2, 3, 4))"
   ]
  },
  {
   "cell_type": "code",
   "execution_count": null,
   "id": "d04e38cb-1156-48d8-8b13-045041dea487",
   "metadata": {},
   "outputs": [],
   "source": []
  },
  {
   "cell_type": "code",
   "execution_count": 47,
   "id": "9ba3da79-a37e-42c3-8e45-0aaaf69a54d2",
   "metadata": {},
   "outputs": [],
   "source": [
    "# zeros()"
   ]
  },
  {
   "cell_type": "code",
   "execution_count": 48,
   "id": "3070fd87-b4ea-484d-9a5a-dee22abb0564",
   "metadata": {},
   "outputs": [
    {
     "data": {
      "text/plain": [
       "array([0., 0., 0., 0., 0., 0., 0., 0.])"
      ]
     },
     "execution_count": 48,
     "metadata": {},
     "output_type": "execute_result"
    }
   ],
   "source": [
    "np.zeros(8)"
   ]
  },
  {
   "cell_type": "code",
   "execution_count": null,
   "id": "92403a65-4ea9-4c17-9e28-6a185f88c0c4",
   "metadata": {},
   "outputs": [],
   "source": []
  },
  {
   "cell_type": "code",
   "execution_count": 49,
   "id": "43d5ca69-9167-44d8-bc2a-b26ccca59647",
   "metadata": {},
   "outputs": [
    {
     "data": {
      "text/plain": [
       "array([[0., 0., 0., 0., 0., 0.],\n",
       "       [0., 0., 0., 0., 0., 0.],\n",
       "       [0., 0., 0., 0., 0., 0.],\n",
       "       [0., 0., 0., 0., 0., 0.]])"
      ]
     },
     "execution_count": 49,
     "metadata": {},
     "output_type": "execute_result"
    }
   ],
   "source": [
    "np.zeros((4, 6))"
   ]
  },
  {
   "cell_type": "code",
   "execution_count": null,
   "id": "1723777c-23e7-49b0-aabc-118f1b295da5",
   "metadata": {},
   "outputs": [],
   "source": []
  },
  {
   "cell_type": "code",
   "execution_count": 51,
   "id": "512f1924-67d9-4de0-b748-092cf2012c77",
   "metadata": {},
   "outputs": [
    {
     "data": {
      "text/plain": [
       "array([[[0., 0., 0., 0., 0., 0.],\n",
       "        [0., 0., 0., 0., 0., 0.],\n",
       "        [0., 0., 0., 0., 0., 0.],\n",
       "        [0., 0., 0., 0., 0., 0.]],\n",
       "\n",
       "       [[0., 0., 0., 0., 0., 0.],\n",
       "        [0., 0., 0., 0., 0., 0.],\n",
       "        [0., 0., 0., 0., 0., 0.],\n",
       "        [0., 0., 0., 0., 0., 0.]],\n",
       "\n",
       "       [[0., 0., 0., 0., 0., 0.],\n",
       "        [0., 0., 0., 0., 0., 0.],\n",
       "        [0., 0., 0., 0., 0., 0.],\n",
       "        [0., 0., 0., 0., 0., 0.]]])"
      ]
     },
     "execution_count": 51,
     "metadata": {},
     "output_type": "execute_result"
    }
   ],
   "source": [
    "np.zeros((3, 4, 6))"
   ]
  },
  {
   "cell_type": "code",
   "execution_count": null,
   "id": "24e9fa05-cf29-451f-a28d-8d490d1b6a6a",
   "metadata": {},
   "outputs": [],
   "source": []
  },
  {
   "cell_type": "code",
   "execution_count": 52,
   "id": "231d312a-fdfd-407c-9ca1-4fb5330eb5df",
   "metadata": {},
   "outputs": [],
   "source": [
    "# dignal mertix"
   ]
  },
  {
   "cell_type": "code",
   "execution_count": 53,
   "id": "4f28d1cb-b5b8-46cf-9170-6261842d2375",
   "metadata": {},
   "outputs": [],
   "source": [
    "# eye()\n"
   ]
  },
  {
   "cell_type": "code",
   "execution_count": 55,
   "id": "d445780f-89e2-4018-9499-a313420120cc",
   "metadata": {},
   "outputs": [
    {
     "data": {
      "text/plain": [
       "array([[1., 0., 0., 0.],\n",
       "       [0., 1., 0., 0.],\n",
       "       [0., 0., 1., 0.],\n",
       "       [0., 0., 0., 1.]])"
      ]
     },
     "execution_count": 55,
     "metadata": {},
     "output_type": "execute_result"
    }
   ],
   "source": [
    "np.eye(4, 4)"
   ]
  },
  {
   "cell_type": "code",
   "execution_count": null,
   "id": "b0ac7c3c-53c0-4842-b9b8-a0460fc946e9",
   "metadata": {},
   "outputs": [],
   "source": []
  },
  {
   "cell_type": "code",
   "execution_count": 56,
   "id": "3821ac6c-7725-4181-831d-762d895d057b",
   "metadata": {},
   "outputs": [],
   "source": [
    "# where()\n",
    "# sort()\n",
    "# arange()\n",
    "# ones()\n",
    "# zeros()\n",
    "# eye()\n"
   ]
  },
  {
   "cell_type": "code",
   "execution_count": 57,
   "id": "d5c0f0eb-12ce-4cd7-9e9b-6e625cefbed8",
   "metadata": {},
   "outputs": [],
   "source": [
    "# list -> mutable\n",
    "\n",
    "# ndarrays --> mutable\n",
    "    # 1) adding elements\n",
    "    # 2) replace elements\n",
    "    # 3) update elemets\n",
    "    # 4) delete elements"
   ]
  },
  {
   "cell_type": "code",
   "execution_count": null,
   "id": "fb445edc-3bff-4aea-9ba1-aee970afb4df",
   "metadata": {},
   "outputs": [],
   "source": []
  },
  {
   "cell_type": "code",
   "execution_count": 58,
   "id": "55ae17c5-f035-4e99-aa38-4988a640dac6",
   "metadata": {},
   "outputs": [],
   "source": [
    "xyz = np.array([12, 34, 45, 67, 34])"
   ]
  },
  {
   "cell_type": "code",
   "execution_count": 59,
   "id": "c6f83c42-5cfe-40fc-8416-770bf54cef2c",
   "metadata": {},
   "outputs": [],
   "source": [
    "# replace elements"
   ]
  },
  {
   "cell_type": "code",
   "execution_count": 61,
   "id": "e71aa8ab-5000-4c2b-9eb9-f94673ac8ca8",
   "metadata": {},
   "outputs": [],
   "source": [
    "# syntex:\n",
    "    # objectname[indexnumber] = newelement"
   ]
  },
  {
   "cell_type": "code",
   "execution_count": 62,
   "id": "bac3c979-6037-4cbc-bf77-39ca356bbeb7",
   "metadata": {},
   "outputs": [],
   "source": [
    "xyz[1] = 100"
   ]
  },
  {
   "cell_type": "code",
   "execution_count": 63,
   "id": "adae5f0c-b639-4647-8aaf-6d2686511c73",
   "metadata": {},
   "outputs": [
    {
     "data": {
      "text/plain": [
       "array([ 12, 100,  45,  67,  34])"
      ]
     },
     "execution_count": 63,
     "metadata": {},
     "output_type": "execute_result"
    }
   ],
   "source": [
    "xyz"
   ]
  },
  {
   "cell_type": "code",
   "execution_count": null,
   "id": "ddfe428e-b222-4e5c-ae1c-fe2c117e0ccf",
   "metadata": {},
   "outputs": [],
   "source": []
  },
  {
   "cell_type": "code",
   "execution_count": 64,
   "id": "00bc17d9-9f9a-4b8e-ba8e-7a92fdeec7ed",
   "metadata": {},
   "outputs": [],
   "source": [
    "xy = np.array([1, 2, 3, 4, 5, 6, 7, 8, 9, 10])"
   ]
  },
  {
   "cell_type": "code",
   "execution_count": null,
   "id": "9b9b9b65-d2bb-4e73-a5a4-9392edd617a7",
   "metadata": {},
   "outputs": [],
   "source": []
  },
  {
   "cell_type": "code",
   "execution_count": 66,
   "id": "26cefd73-c63e-4eb2-976d-0ba34de7a973",
   "metadata": {},
   "outputs": [],
   "source": [
    "xy[-2] = 90"
   ]
  },
  {
   "cell_type": "code",
   "execution_count": 67,
   "id": "a7062656-9074-45ae-923c-1c9a565ea740",
   "metadata": {},
   "outputs": [
    {
     "data": {
      "text/plain": [
       "array([ 1,  2,  3,  4,  5,  6,  7,  8, 90, 10])"
      ]
     },
     "execution_count": 67,
     "metadata": {},
     "output_type": "execute_result"
    }
   ],
   "source": [
    "xy"
   ]
  },
  {
   "cell_type": "code",
   "execution_count": null,
   "id": "c46043bd-c24c-4823-a204-827598be78c4",
   "metadata": {},
   "outputs": [],
   "source": []
  },
  {
   "cell_type": "code",
   "execution_count": null,
   "id": "ea53a6d8-2eeb-41c5-bd06-0b5eebe35b92",
   "metadata": {},
   "outputs": [],
   "source": []
  },
  {
   "cell_type": "code",
   "execution_count": 68,
   "id": "9b44f4ce-f1c8-483e-8f32-0e940952b1df",
   "metadata": {},
   "outputs": [],
   "source": [
    "xy = np.array([1, 2, 3, 4, 5, 6, 7, 8, 9, 10])"
   ]
  },
  {
   "cell_type": "code",
   "execution_count": 71,
   "id": "d7de2098-f2b6-4eea-86e9-e6dff53002bc",
   "metadata": {},
   "outputs": [],
   "source": [
    "inx = [1, 4, 9]\n",
    "new_elements = [200, 500, 900]\n",
    "\n",
    "xy[inx] = new_elements"
   ]
  },
  {
   "cell_type": "code",
   "execution_count": 72,
   "id": "7bd0a3a2-9504-40ad-b6fb-0acd03006daf",
   "metadata": {},
   "outputs": [
    {
     "data": {
      "text/plain": [
       "array([  1, 200,   3,   4, 500,   6,   7,   8,   9, 900])"
      ]
     },
     "execution_count": 72,
     "metadata": {},
     "output_type": "execute_result"
    }
   ],
   "source": [
    "xy"
   ]
  },
  {
   "cell_type": "code",
   "execution_count": null,
   "id": "169abe56-6074-4e23-8c7e-daeef34fb966",
   "metadata": {},
   "outputs": [],
   "source": []
  },
  {
   "cell_type": "code",
   "execution_count": 73,
   "id": "48777168-effe-4245-a45b-5428c93a1b17",
   "metadata": {},
   "outputs": [],
   "source": [
    "xy[[1, 4, 9]] = [200, 500, 900]"
   ]
  },
  {
   "cell_type": "code",
   "execution_count": 74,
   "id": "28048753-6d91-4b51-8b61-3e8deeb9e4d4",
   "metadata": {},
   "outputs": [
    {
     "data": {
      "text/plain": [
       "array([  1, 200,   3,   4, 500,   6,   7,   8,   9, 900])"
      ]
     },
     "execution_count": 74,
     "metadata": {},
     "output_type": "execute_result"
    }
   ],
   "source": [
    "xy"
   ]
  },
  {
   "cell_type": "code",
   "execution_count": null,
   "id": "ebbc45d0-9854-423d-9ea2-19224f38c419",
   "metadata": {},
   "outputs": [],
   "source": []
  }
 ],
 "metadata": {
  "kernelspec": {
   "display_name": "Python 3 (ipykernel)",
   "language": "python",
   "name": "python3"
  },
  "language_info": {
   "codemirror_mode": {
    "name": "ipython",
    "version": 3
   },
   "file_extension": ".py",
   "mimetype": "text/x-python",
   "name": "python",
   "nbconvert_exporter": "python",
   "pygments_lexer": "ipython3",
   "version": "3.12.3"
  }
 },
 "nbformat": 4,
 "nbformat_minor": 5
}
