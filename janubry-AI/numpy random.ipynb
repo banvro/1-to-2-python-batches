{
 "cells": [
  {
   "cell_type": "markdown",
   "id": "18db25fe-3e95-473c-879a-4d36d0eb5fcd",
   "metadata": {},
   "source": [
    "# Numpy random"
   ]
  },
  {
   "cell_type": "code",
   "execution_count": 2,
   "id": "b6f54504-fcc0-471c-8a0f-178cb2de2453",
   "metadata": {},
   "outputs": [],
   "source": [
    "from numpy import random\n",
    "import numpy as np"
   ]
  },
  {
   "cell_type": "code",
   "execution_count": 3,
   "id": "6aa14278-d8af-4eb1-948d-8e98680ae413",
   "metadata": {},
   "outputs": [],
   "source": [
    "# import random"
   ]
  },
  {
   "cell_type": "code",
   "execution_count": 4,
   "id": "b3d685ea-fdcd-4ed8-9add-69e1ed807265",
   "metadata": {},
   "outputs": [],
   "source": [
    "zx = random.randint(100)"
   ]
  },
  {
   "cell_type": "code",
   "execution_count": 5,
   "id": "6925ccec-a5cc-4bc8-9be0-b749c2466da4",
   "metadata": {},
   "outputs": [
    {
     "data": {
      "text/plain": [
       "87"
      ]
     },
     "execution_count": 5,
     "metadata": {},
     "output_type": "execute_result"
    }
   ],
   "source": [
    "zx"
   ]
  },
  {
   "cell_type": "code",
   "execution_count": 6,
   "id": "357fdbb9-7f07-456c-bfbc-a5ca87930225",
   "metadata": {},
   "outputs": [
    {
     "data": {
      "text/plain": [
       "0.6917497186064298"
      ]
     },
     "execution_count": 6,
     "metadata": {},
     "output_type": "execute_result"
    }
   ],
   "source": [
    "random.rand()"
   ]
  },
  {
   "cell_type": "code",
   "execution_count": null,
   "id": "f309952e-1b2d-43f0-8532-4fefbdf8efd8",
   "metadata": {},
   "outputs": [],
   "source": []
  },
  {
   "cell_type": "code",
   "execution_count": 7,
   "id": "c44dff1c-88f8-4b98-b98d-b24156318f17",
   "metadata": {},
   "outputs": [],
   "source": [
    "zx = random.randint(100, size = (7))"
   ]
  },
  {
   "cell_type": "code",
   "execution_count": 8,
   "id": "97a9137e-3c4f-4fde-94d3-c545b49300b1",
   "metadata": {},
   "outputs": [
    {
     "data": {
      "text/plain": [
       "array([29, 41, 33, 15, 75, 54, 91])"
      ]
     },
     "execution_count": 8,
     "metadata": {},
     "output_type": "execute_result"
    }
   ],
   "source": [
    "zx"
   ]
  },
  {
   "cell_type": "code",
   "execution_count": null,
   "id": "860cd05a-7f8b-42b4-92f8-e73d6bea0d98",
   "metadata": {},
   "outputs": [],
   "source": []
  },
  {
   "cell_type": "code",
   "execution_count": 9,
   "id": "35a321f2-b408-47ea-bb76-70650fcbdb83",
   "metadata": {},
   "outputs": [],
   "source": [
    "zx = random.randint(100, size = (7, 3))"
   ]
  },
  {
   "cell_type": "code",
   "execution_count": 10,
   "id": "63f05e15-1191-4eef-90f0-231828e3a2dd",
   "metadata": {},
   "outputs": [
    {
     "data": {
      "text/plain": [
       "array([[16, 93, 51],\n",
       "       [50, 63, 47],\n",
       "       [23, 70, 58],\n",
       "       [42, 33, 91],\n",
       "       [50, 47, 59],\n",
       "       [87, 40, 41],\n",
       "       [82, 96, 87]])"
      ]
     },
     "execution_count": 10,
     "metadata": {},
     "output_type": "execute_result"
    }
   ],
   "source": [
    "zx"
   ]
  },
  {
   "cell_type": "code",
   "execution_count": null,
   "id": "d76410f4-bd3d-4489-8989-1e126a4e3fb2",
   "metadata": {},
   "outputs": [],
   "source": []
  },
  {
   "cell_type": "code",
   "execution_count": null,
   "id": "ea6f0cbe-c7d6-4eaf-87a9-c30748b10a0c",
   "metadata": {},
   "outputs": [],
   "source": []
  },
  {
   "cell_type": "code",
   "execution_count": 11,
   "id": "a3f3016a-e380-4937-ba18-5a3fb9306247",
   "metadata": {},
   "outputs": [
    {
     "data": {
      "text/plain": [
       "0.17095857827373417"
      ]
     },
     "execution_count": 11,
     "metadata": {},
     "output_type": "execute_result"
    }
   ],
   "source": [
    "random.rand()"
   ]
  },
  {
   "cell_type": "code",
   "execution_count": 12,
   "id": "d26f1d46-f8a0-497e-8000-6870909b471a",
   "metadata": {},
   "outputs": [
    {
     "data": {
      "text/plain": [
       "0.1782327193992117"
      ]
     },
     "execution_count": 12,
     "metadata": {},
     "output_type": "execute_result"
    }
   ],
   "source": [
    "random.rand()"
   ]
  },
  {
   "cell_type": "code",
   "execution_count": 13,
   "id": "8a3bc68f-46da-4872-a2ea-502516486ef1",
   "metadata": {},
   "outputs": [],
   "source": [
    "zx = []\n",
    "for i in range(1, 10):\n",
    "    zx.append(random.rand())"
   ]
  },
  {
   "cell_type": "code",
   "execution_count": 14,
   "id": "3cbc58bb-accc-4745-9c16-db9d74d179f0",
   "metadata": {},
   "outputs": [
    {
     "data": {
      "text/plain": [
       "array([0.08473088, 0.67248404, 0.18858398, 0.48805654, 0.91271816,\n",
       "       0.98442404, 0.89094126, 0.83589015, 0.79408677])"
      ]
     },
     "execution_count": 14,
     "metadata": {},
     "output_type": "execute_result"
    }
   ],
   "source": [
    "np.array(zx)"
   ]
  },
  {
   "cell_type": "code",
   "execution_count": null,
   "id": "554cb950-9b93-4fd2-afbf-48f551b0129e",
   "metadata": {},
   "outputs": [],
   "source": []
  },
  {
   "cell_type": "code",
   "execution_count": 15,
   "id": "d025ac97-f329-4775-aeae-113be3cf6084",
   "metadata": {},
   "outputs": [],
   "source": [
    "x = random.choice([12, 45, 34, 23, 56, 34, 78, 34, 100], size = (10, 4, 6))"
   ]
  },
  {
   "cell_type": "code",
   "execution_count": 16,
   "id": "9d8c074d-6348-4481-a078-a1981ba02424",
   "metadata": {},
   "outputs": [
    {
     "data": {
      "text/plain": [
       "array([[[ 12,  34,  12,  12,  34, 100],\n",
       "        [100,  56,  78,  34,  12,  45],\n",
       "        [ 34,  34,  34,  34,  45, 100],\n",
       "        [ 23,  78, 100,  34,  78,  34]],\n",
       "\n",
       "       [[ 34,  34,  23,  45, 100,  12],\n",
       "        [ 12,  34,  34,  78,  45,  34],\n",
       "        [ 45, 100,  45,  34,  45, 100],\n",
       "        [ 12,  34,  34,  12,  56,  34]],\n",
       "\n",
       "       [[ 12,  23,  34,  34,  23,  34],\n",
       "        [100,  12,  34,  56,  34,  34],\n",
       "        [ 45, 100,  34,  34,  23,  12],\n",
       "        [ 23,  12,  56, 100,  56,  45]],\n",
       "\n",
       "       [[ 23, 100,  34,  78,  56,  78],\n",
       "        [ 34,  23,  34,  34,  56,  34],\n",
       "        [ 12,  34,  34,  56,  23,  23],\n",
       "        [ 34,  12,  23,  56,  45,  34]],\n",
       "\n",
       "       [[ 45,  23,  34,  34,  34,  56],\n",
       "        [ 12, 100,  34,  34,  56,  56],\n",
       "        [ 34,  34, 100,  56,  23, 100],\n",
       "        [ 78,  12,  34,  34,  78,  56]],\n",
       "\n",
       "       [[ 34,  56,  12,  23,  12,  34],\n",
       "        [ 12,  34,  45,  23,  45,  34],\n",
       "        [ 34,  12,  34,  34,  34,  56],\n",
       "        [ 56,  34,  23,  34,  34,  34]],\n",
       "\n",
       "       [[ 34,  34,  12,  78,  34,  78],\n",
       "        [ 34,  45,  34,  34,  34,  34],\n",
       "        [ 12,  23, 100, 100,  34,  34],\n",
       "        [ 34,  34,  34, 100,  45, 100]],\n",
       "\n",
       "       [[ 34,  34,  78,  34,  45,  23],\n",
       "        [100, 100,  34, 100,  34, 100],\n",
       "        [ 34,  56,  34, 100,  23, 100],\n",
       "        [ 23,  34,  34,  34, 100,  34]],\n",
       "\n",
       "       [[ 34,  23,  56,  34,  12, 100],\n",
       "        [ 34,  34,  34,  78,  34,  45],\n",
       "        [ 34,  56,  34,  12,  23,  34],\n",
       "        [ 12,  78, 100,  34,  45, 100]],\n",
       "\n",
       "       [[100,  12,  45,  12,  12,  34],\n",
       "        [ 56,  34,  34,  45,  78,  34],\n",
       "        [ 23,  78,  34,  34,  34,  45],\n",
       "        [ 34,  23,  56,  23,  34,  34]]])"
      ]
     },
     "execution_count": 16,
     "metadata": {},
     "output_type": "execute_result"
    }
   ],
   "source": [
    "x"
   ]
  },
  {
   "cell_type": "code",
   "execution_count": null,
   "id": "1fffd09b-07d0-4b42-b03d-41718cfd99cf",
   "metadata": {},
   "outputs": [],
   "source": []
  },
  {
   "cell_type": "code",
   "execution_count": 17,
   "id": "cab122a2-8d96-4807-9df4-876515c93967",
   "metadata": {},
   "outputs": [
    {
     "ename": "NameError",
     "evalue": "name 'randint' is not defined",
     "output_type": "error",
     "traceback": [
      "\u001b[1;31m---------------------------------------------------------------------------\u001b[0m",
      "\u001b[1;31mNameError\u001b[0m                                 Traceback (most recent call last)",
      "Cell \u001b[1;32mIn[17], line 2\u001b[0m\n\u001b[0;32m      1\u001b[0m random\n\u001b[1;32m----> 2\u001b[0m \u001b[43mrandint\u001b[49m\n\u001b[0;32m      3\u001b[0m rand\n\u001b[0;32m      4\u001b[0m choice\n",
      "\u001b[1;31mNameError\u001b[0m: name 'randint' is not defined"
     ]
    }
   ],
   "source": [
    "random\n",
    "randint\n",
    "rand\n",
    "choice"
   ]
  },
  {
   "cell_type": "code",
   "execution_count": 18,
   "id": "754ab240-a30d-4e2f-9da5-66d67c2053f7",
   "metadata": {},
   "outputs": [
    {
     "name": "stdout",
     "output_type": "stream",
     "text": [
      "None\n"
     ]
    }
   ],
   "source": [
    "x = [23, 4, 12, 34, 12, 45, 23, 100]\n",
    "\n",
    "\n",
    "print(random.shuffle(x))"
   ]
  },
  {
   "cell_type": "code",
   "execution_count": null,
   "id": "ad389ecf-f480-4706-913e-6107b7d6afb5",
   "metadata": {},
   "outputs": [],
   "source": []
  },
  {
   "cell_type": "code",
   "execution_count": 20,
   "id": "76c747b6-3a40-47f7-8869-cc1db8725203",
   "metadata": {},
   "outputs": [
    {
     "name": "stdout",
     "output_type": "stream",
     "text": [
      "Help on built-in function shuffle:\n",
      "\n",
      "shuffle(...) method of numpy.random.mtrand.RandomState instance\n",
      "    shuffle(x)\n",
      "\n",
      "    Modify a sequence in-place by shuffling its contents.\n",
      "\n",
      "    This function only shuffles the array along the first axis of a\n",
      "    multi-dimensional array. The order of sub-arrays is changed but\n",
      "    their contents remains the same.\n",
      "\n",
      "    .. note::\n",
      "        New code should use the `~numpy.random.Generator.shuffle`\n",
      "        method of a `~numpy.random.Generator` instance instead;\n",
      "        please see the :ref:`random-quick-start`.\n",
      "\n",
      "    Parameters\n",
      "    ----------\n",
      "    x : ndarray or MutableSequence\n",
      "        The array, list or mutable sequence to be shuffled.\n",
      "\n",
      "    Returns\n",
      "    -------\n",
      "    None\n",
      "\n",
      "    See Also\n",
      "    --------\n",
      "    random.Generator.shuffle: which should be used for new code.\n",
      "\n",
      "    Examples\n",
      "    --------\n",
      "    >>> arr = np.arange(10)\n",
      "    >>> np.random.shuffle(arr)\n",
      "    >>> arr\n",
      "    [1 7 5 2 9 4 3 6 0 8] # random\n",
      "\n",
      "    Multi-dimensional arrays are only shuffled along the first axis:\n",
      "\n",
      "    >>> arr = np.arange(9).reshape((3, 3))\n",
      "    >>> np.random.shuffle(arr)\n",
      "    >>> arr\n",
      "    array([[3, 4, 5], # random\n",
      "           [6, 7, 8],\n",
      "           [0, 1, 2]])\n",
      "\n"
     ]
    }
   ],
   "source": [
    "help(random.shuffle)"
   ]
  },
  {
   "cell_type": "code",
   "execution_count": null,
   "id": "3d9fa29f-4ed8-4ad3-8aa0-5dbb2a43d706",
   "metadata": {},
   "outputs": [],
   "source": []
  },
  {
   "cell_type": "code",
   "execution_count": 26,
   "id": "a79007ce-f678-4b18-8d4d-11dffdec0b48",
   "metadata": {},
   "outputs": [],
   "source": [
    "x = [12, 23, 34, 67, 45, 34]"
   ]
  },
  {
   "cell_type": "code",
   "execution_count": 27,
   "id": "0001b632-30c1-4858-8f20-59a3fe6ebea3",
   "metadata": {},
   "outputs": [],
   "source": [
    "random.shuffle(x)"
   ]
  },
  {
   "cell_type": "code",
   "execution_count": 28,
   "id": "043b6031-b737-4871-9c4f-80d42ec1d6a5",
   "metadata": {},
   "outputs": [
    {
     "data": {
      "text/plain": [
       "[67, 23, 34, 12, 34, 45]"
      ]
     },
     "execution_count": 28,
     "metadata": {},
     "output_type": "execute_result"
    }
   ],
   "source": [
    "x"
   ]
  },
  {
   "cell_type": "code",
   "execution_count": null,
   "id": "e5ce27dd-d4ee-4ed1-b2a6-674ef0613a78",
   "metadata": {},
   "outputs": [],
   "source": []
  },
  {
   "cell_type": "code",
   "execution_count": null,
   "id": "bc202398-bcdf-4037-aed4-e75b5f445a72",
   "metadata": {},
   "outputs": [],
   "source": [
    "# arrange(start, end, increment)\n",
    "\n",
    "\n",
    "# range()\n",
    "\n",
    "# start = 0\n",
    "# end = n - 1\n",
    "# increment = 1"
   ]
  },
  {
   "cell_type": "code",
   "execution_count": null,
   "id": "f9fb1eed-1e17-46e6-a19b-6a55cb3bbcf1",
   "metadata": {},
   "outputs": [],
   "source": []
  },
  {
   "cell_type": "code",
   "execution_count": 32,
   "id": "9928482a-18a2-4c4b-bd40-817ee6b0b130",
   "metadata": {},
   "outputs": [],
   "source": [
    "zx = np.arange(2, 20, 2)"
   ]
  },
  {
   "cell_type": "code",
   "execution_count": 34,
   "id": "d09e1079-7c57-4a6f-b83a-1949a36429b5",
   "metadata": {},
   "outputs": [
    {
     "data": {
      "text/plain": [
       "array([[ 2,  4,  6],\n",
       "       [ 8, 10, 12],\n",
       "       [14, 16, 18]])"
      ]
     },
     "execution_count": 34,
     "metadata": {},
     "output_type": "execute_result"
    }
   ],
   "source": [
    "zx.reshape(3, 3)"
   ]
  },
  {
   "cell_type": "code",
   "execution_count": null,
   "id": "f8c60260-119a-44e2-ac66-f8db101c0600",
   "metadata": {},
   "outputs": [],
   "source": []
  },
  {
   "cell_type": "code",
   "execution_count": null,
   "id": "963dc837-42eb-48cd-8190-a7d097898162",
   "metadata": {},
   "outputs": [],
   "source": []
  }
 ],
 "metadata": {
  "kernelspec": {
   "display_name": "Python 3 (ipykernel)",
   "language": "python",
   "name": "python3"
  },
  "language_info": {
   "codemirror_mode": {
    "name": "ipython",
    "version": 3
   },
   "file_extension": ".py",
   "mimetype": "text/x-python",
   "name": "python",
   "nbconvert_exporter": "python",
   "pygments_lexer": "ipython3",
   "version": "3.12.0"
  }
 },
 "nbformat": 4,
 "nbformat_minor": 5
}
