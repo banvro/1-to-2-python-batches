{
 "cells": [
  {
   "cell_type": "code",
   "execution_count": 1,
   "id": "b900a172-1fdb-47bc-97a2-f75aeda83fda",
   "metadata": {},
   "outputs": [],
   "source": [
    "import numpy as np"
   ]
  },
  {
   "cell_type": "code",
   "execution_count": 2,
   "id": "51327903-4487-4c20-bbeb-887b786266fe",
   "metadata": {},
   "outputs": [],
   "source": [
    "zx = np.array([12, 34, 23, 12, 34, 67, 45, 67, 34 ,100])"
   ]
  },
  {
   "cell_type": "code",
   "execution_count": 3,
   "id": "e1f3729f-43bb-48f6-a317-0ea5a4635f6b",
   "metadata": {},
   "outputs": [
    {
     "data": {
      "text/plain": [
       "array([ 12,  34,  23,  12,  34,  67,  45,  67,  34, 100])"
      ]
     },
     "execution_count": 3,
     "metadata": {},
     "output_type": "execute_result"
    }
   ],
   "source": [
    "zx"
   ]
  },
  {
   "cell_type": "code",
   "execution_count": 4,
   "id": "696594ba-3521-4dcb-bf79-344a6d217b50",
   "metadata": {},
   "outputs": [],
   "source": [
    "zx[2] = 100\n",
    "zx[3] = 1000"
   ]
  },
  {
   "cell_type": "code",
   "execution_count": 5,
   "id": "ae8b3d08-2e21-454d-9948-6b3ef326c992",
   "metadata": {},
   "outputs": [
    {
     "data": {
      "text/plain": [
       "array([  12,   34,  100, 1000,   34,   67,   45,   67,   34,  100])"
      ]
     },
     "execution_count": 5,
     "metadata": {},
     "output_type": "execute_result"
    }
   ],
   "source": [
    "zx"
   ]
  },
  {
   "cell_type": "code",
   "execution_count": 6,
   "id": "1f403652-002a-4375-add4-2b6bbf5ce588",
   "metadata": {},
   "outputs": [],
   "source": [
    "b = np.array([12, 34, 23, 12, 34, 67, 45, 67, 34 ,100])"
   ]
  },
  {
   "cell_type": "code",
   "execution_count": 7,
   "id": "5a7cff18-2fb5-4cfe-a4aa-45b055111e0b",
   "metadata": {},
   "outputs": [],
   "source": [
    "b[[2, 3]] = [20000, 4000] "
   ]
  },
  {
   "cell_type": "code",
   "execution_count": 8,
   "id": "9a5d0309-f813-4e18-baf8-aaa6249f4e47",
   "metadata": {},
   "outputs": [
    {
     "data": {
      "text/plain": [
       "array([   12,    34, 20000,  4000,    34,    67,    45,    67,    34,\n",
       "         100])"
      ]
     },
     "execution_count": 8,
     "metadata": {},
     "output_type": "execute_result"
    }
   ],
   "source": [
    "b"
   ]
  },
  {
   "cell_type": "code",
   "execution_count": null,
   "id": "312dbe46-ab16-4756-8980-89dec8499095",
   "metadata": {},
   "outputs": [],
   "source": []
  },
  {
   "cell_type": "code",
   "execution_count": null,
   "id": "f2260d63-960c-427a-a869-4abcd3c19871",
   "metadata": {},
   "outputs": [],
   "source": []
  },
  {
   "cell_type": "code",
   "execution_count": 9,
   "id": "2598fae7-a5ab-41e7-bc63-90b38fa99b31",
   "metadata": {},
   "outputs": [],
   "source": [
    "x = np.array([1, 2, 3, 4, 5, 6, 7, 8, 9, 10])"
   ]
  },
  {
   "cell_type": "code",
   "execution_count": 10,
   "id": "fadee7d1-8421-474c-a453-89eff88ce5c9",
   "metadata": {},
   "outputs": [],
   "source": [
    "indexes = [2, -2, 4]"
   ]
  },
  {
   "cell_type": "code",
   "execution_count": 11,
   "id": "71656555-63d4-4e14-a6e2-107d703f9e44",
   "metadata": {},
   "outputs": [],
   "source": [
    "chnage_elemets = [20, 100, 500]"
   ]
  },
  {
   "cell_type": "code",
   "execution_count": 12,
   "id": "10b8cf0b-2862-4ce6-b965-6e5d4e2c5919",
   "metadata": {},
   "outputs": [],
   "source": [
    "x[indexes] = chnage_elemets"
   ]
  },
  {
   "cell_type": "code",
   "execution_count": 13,
   "id": "bf8b1d38-0d32-47b9-9c35-080b327568b4",
   "metadata": {},
   "outputs": [
    {
     "data": {
      "text/plain": [
       "array([  1,   2,  20,   4, 500,   6,   7,   8, 100,  10])"
      ]
     },
     "execution_count": 13,
     "metadata": {},
     "output_type": "execute_result"
    }
   ],
   "source": [
    "x"
   ]
  },
  {
   "cell_type": "code",
   "execution_count": null,
   "id": "979a5d31-c19b-4d77-8175-bb41df0c6f9e",
   "metadata": {},
   "outputs": [],
   "source": []
  },
  {
   "cell_type": "code",
   "execution_count": null,
   "id": "e6b10a64-1659-4df0-97ec-e87c22d67ced",
   "metadata": {},
   "outputs": [],
   "source": []
  },
  {
   "cell_type": "code",
   "execution_count": null,
   "id": "4862d20f-ccfc-483c-a664-608b39b25b92",
   "metadata": {},
   "outputs": [],
   "source": [
    "# unique()  => help us to get unique elements only from a ndarray."
   ]
  },
  {
   "cell_type": "code",
   "execution_count": 14,
   "id": "b4a77d44-56f2-4297-9c67-7c4c7cece096",
   "metadata": {},
   "outputs": [],
   "source": [
    "pq = np.array([12, 34, 1, 1, 2, 3, 12, 56, 34, 12, 67, 23, 1, 21, 12, 100])"
   ]
  },
  {
   "cell_type": "code",
   "execution_count": 15,
   "id": "3f68455d-8b18-4117-beb5-641eb619b35f",
   "metadata": {},
   "outputs": [
    {
     "data": {
      "text/plain": [
       "array([ 12,  34,   1,   1,   2,   3,  12,  56,  34,  12,  67,  23,   1,\n",
       "        21,  12, 100])"
      ]
     },
     "execution_count": 15,
     "metadata": {},
     "output_type": "execute_result"
    }
   ],
   "source": [
    "pq"
   ]
  },
  {
   "cell_type": "code",
   "execution_count": null,
   "id": "f7b4b6c4-1944-4505-a33d-c9cf2e4a01e2",
   "metadata": {},
   "outputs": [],
   "source": []
  },
  {
   "cell_type": "code",
   "execution_count": 16,
   "id": "9fbea727-0110-49fe-952a-4bd63d86e5ea",
   "metadata": {},
   "outputs": [],
   "source": [
    "y = np.unique(pq)"
   ]
  },
  {
   "cell_type": "code",
   "execution_count": 17,
   "id": "e06cb0fc-e3d5-4120-8c05-39e687ddd0fc",
   "metadata": {},
   "outputs": [
    {
     "data": {
      "text/plain": [
       "array([  1,   2,   3,  12,  21,  23,  34,  56,  67, 100])"
      ]
     },
     "execution_count": 17,
     "metadata": {},
     "output_type": "execute_result"
    }
   ],
   "source": [
    "y"
   ]
  },
  {
   "cell_type": "code",
   "execution_count": null,
   "id": "94e123ef-a061-4efd-85c6-9a27c2630489",
   "metadata": {},
   "outputs": [],
   "source": []
  },
  {
   "cell_type": "markdown",
   "id": "ff4a5052-82bc-4f38-a1d1-429c655fe253",
   "metadata": {},
   "source": [
    "# resize()"
   ]
  },
  {
   "cell_type": "code",
   "execution_count": null,
   "id": "14451c67-ed37-4f66-a1e8-293f3971e908",
   "metadata": {},
   "outputs": [],
   "source": []
  },
  {
   "cell_type": "code",
   "execution_count": 24,
   "id": "aa1bc890-27f3-48cb-b6df-d3886f4ca2d5",
   "metadata": {},
   "outputs": [],
   "source": [
    "arr = np.array([34, 23, 12, 45, 10, 100])"
   ]
  },
  {
   "cell_type": "code",
   "execution_count": 25,
   "id": "2c0d7c6d-7b68-4f9b-8e53-db1d94b4238c",
   "metadata": {},
   "outputs": [],
   "source": [
    "we = np.resize(arr, (5, 8))"
   ]
  },
  {
   "cell_type": "code",
   "execution_count": 26,
   "id": "c56a5731-8c2d-4045-90f1-5b31fe201a38",
   "metadata": {},
   "outputs": [
    {
     "data": {
      "text/plain": [
       "array([[ 34,  23,  12,  45,  10, 100,  34,  23],\n",
       "       [ 12,  45,  10, 100,  34,  23,  12,  45],\n",
       "       [ 10, 100,  34,  23,  12,  45,  10, 100],\n",
       "       [ 34,  23,  12,  45,  10, 100,  34,  23],\n",
       "       [ 12,  45,  10, 100,  34,  23,  12,  45]])"
      ]
     },
     "execution_count": 26,
     "metadata": {},
     "output_type": "execute_result"
    }
   ],
   "source": [
    "we"
   ]
  },
  {
   "cell_type": "code",
   "execution_count": null,
   "id": "56690a56-b545-47c4-bb69-25d3a53cbab3",
   "metadata": {},
   "outputs": [],
   "source": []
  },
  {
   "cell_type": "code",
   "execution_count": 35,
   "id": "986699ef-58a5-46fb-bab3-4e70d0727761",
   "metadata": {},
   "outputs": [],
   "source": [
    "# trim_zero()"
   ]
  },
  {
   "cell_type": "code",
   "execution_count": 45,
   "id": "d4544afc-47b2-4ec0-9173-839412ddd54c",
   "metadata": {},
   "outputs": [],
   "source": [
    "a = np.array([0, 0, 0, 7, 5, 3, 0, 8, 0, 0, 0, 0, 12, 4, 4, 1, 0, 0, 0])"
   ]
  },
  {
   "cell_type": "code",
   "execution_count": 46,
   "id": "68d9b3e8-19b9-413d-adfc-56222af2bc18",
   "metadata": {},
   "outputs": [],
   "source": [
    "x = np.trim_zeros(a)"
   ]
  },
  {
   "cell_type": "code",
   "execution_count": 47,
   "id": "af8f236e-d15e-48c2-bd51-a74652364a3c",
   "metadata": {},
   "outputs": [
    {
     "data": {
      "text/plain": [
       "array([ 7,  5,  3,  0,  8,  0,  0,  0,  0, 12,  4,  4,  1])"
      ]
     },
     "execution_count": 47,
     "metadata": {},
     "output_type": "execute_result"
    }
   ],
   "source": [
    "x"
   ]
  },
  {
   "cell_type": "code",
   "execution_count": null,
   "id": "e3460af6-3d99-4c19-b2af-237d52edc8e2",
   "metadata": {},
   "outputs": [],
   "source": []
  },
  {
   "cell_type": "code",
   "execution_count": null,
   "id": "347479a4-97a7-473d-95f9-b651cef1cc47",
   "metadata": {},
   "outputs": [],
   "source": [
    "# fency indexing : mask"
   ]
  },
  {
   "cell_type": "code",
   "execution_count": 49,
   "id": "e80511ba-7262-4247-b0f6-052b1bbf22e6",
   "metadata": {},
   "outputs": [],
   "source": [
    "# True False"
   ]
  },
  {
   "cell_type": "code",
   "execution_count": null,
   "id": "7fc2b259-fbe7-46bc-8fcc-42361980c8d6",
   "metadata": {},
   "outputs": [],
   "source": []
  },
  {
   "cell_type": "code",
   "execution_count": 55,
   "id": "2d9d15f5-1648-4ae8-9dd6-27ae2330b3ef",
   "metadata": {},
   "outputs": [],
   "source": [
    "zx = np.arange(1, 17)"
   ]
  },
  {
   "cell_type": "code",
   "execution_count": 56,
   "id": "7fe0ce6d-24b4-4bea-a142-2e2b24c4ede8",
   "metadata": {},
   "outputs": [
    {
     "data": {
      "text/plain": [
       "array([ 1,  2,  3,  4,  5,  6,  7,  8,  9, 10, 11, 12, 13, 14, 15, 16])"
      ]
     },
     "execution_count": 56,
     "metadata": {},
     "output_type": "execute_result"
    }
   ],
   "source": [
    "zx"
   ]
  },
  {
   "cell_type": "code",
   "execution_count": 59,
   "id": "6559789e-7349-468b-838e-f897e1213407",
   "metadata": {},
   "outputs": [],
   "source": [
    "zx = zx.reshape(4, 4)"
   ]
  },
  {
   "cell_type": "code",
   "execution_count": 61,
   "id": "affd9d9e-c53a-44cf-b10d-88f93807e4f7",
   "metadata": {},
   "outputs": [
    {
     "data": {
      "text/plain": [
       "array([[ 1,  2,  3,  4],\n",
       "       [ 5,  6,  7,  8],\n",
       "       [ 9, 10, 11, 12],\n",
       "       [13, 14, 15, 16]])"
      ]
     },
     "execution_count": 61,
     "metadata": {},
     "output_type": "execute_result"
    }
   ],
   "source": [
    "zx"
   ]
  },
  {
   "cell_type": "code",
   "execution_count": 60,
   "id": "1e083284-5fd0-41a6-b95e-738770807b64",
   "metadata": {},
   "outputs": [
    {
     "data": {
      "text/plain": [
       "array([[False,  True, False,  True],\n",
       "       [False,  True, False,  True],\n",
       "       [False,  True, False,  True],\n",
       "       [False,  True, False,  True]])"
      ]
     },
     "execution_count": 60,
     "metadata": {},
     "output_type": "execute_result"
    }
   ],
   "source": [
    "zx % 2 == 0"
   ]
  },
  {
   "cell_type": "code",
   "execution_count": 62,
   "id": "1027dbc0-9d14-4caf-9a9f-2b76998376fc",
   "metadata": {},
   "outputs": [
    {
     "data": {
      "text/plain": [
       "array([[False, False, False, False],\n",
       "       [False, False, False, False],\n",
       "       [False, False, False, False],\n",
       "       [False, False,  True, False]])"
      ]
     },
     "execution_count": 62,
     "metadata": {},
     "output_type": "execute_result"
    }
   ],
   "source": [
    "zx == 15"
   ]
  },
  {
   "cell_type": "code",
   "execution_count": null,
   "id": "baaebb89-0eeb-4f6e-89aa-32e1f89a5a7d",
   "metadata": {},
   "outputs": [],
   "source": []
  },
  {
   "cell_type": "code",
   "execution_count": 68,
   "id": "2aba69ce-2108-42dc-89b3-f052623583d5",
   "metadata": {},
   "outputs": [
    {
     "data": {
      "text/plain": [
       "array([[ 1,  2,  3,  4],\n",
       "       [ 5,  6,  7,  8],\n",
       "       [ 9, 10, 11, 12],\n",
       "       [13, 14, 15, 16]])"
      ]
     },
     "execution_count": 68,
     "metadata": {},
     "output_type": "execute_result"
    }
   ],
   "source": [
    "zx"
   ]
  },
  {
   "cell_type": "code",
   "execution_count": 66,
   "id": "af9d5d7a-8278-4245-9310-7d839480df2e",
   "metadata": {},
   "outputs": [],
   "source": [
    "p = zx % 2 == 0"
   ]
  },
  {
   "cell_type": "code",
   "execution_count": 67,
   "id": "850b6971-f7f2-463a-bde2-4cfd1f401930",
   "metadata": {},
   "outputs": [
    {
     "data": {
      "text/plain": [
       "array([ 2,  4,  6,  8, 10, 12, 14, 16])"
      ]
     },
     "execution_count": 67,
     "metadata": {},
     "output_type": "execute_result"
    }
   ],
   "source": [
    "zx[p]"
   ]
  },
  {
   "cell_type": "code",
   "execution_count": null,
   "id": "8292b61f-0c0e-4a55-b51d-8419b0c7f377",
   "metadata": {},
   "outputs": [],
   "source": []
  },
  {
   "cell_type": "code",
   "execution_count": 69,
   "id": "c3d5fc7d-de55-42f5-9fba-98d66983416a",
   "metadata": {},
   "outputs": [],
   "source": [
    "zeros = np.array([12, 4, 0, 5, 0, 4, 0, 5, 3, 0, 4, 8, 0])"
   ]
  },
  {
   "cell_type": "code",
   "execution_count": 70,
   "id": "0e9afe6f-8540-4b09-bb14-a843a26cb900",
   "metadata": {},
   "outputs": [
    {
     "data": {
      "text/plain": [
       "array([12,  4,  0,  5,  0,  4,  0,  5,  3,  0,  4,  8,  0])"
      ]
     },
     "execution_count": 70,
     "metadata": {},
     "output_type": "execute_result"
    }
   ],
   "source": [
    "zeros"
   ]
  },
  {
   "cell_type": "code",
   "execution_count": null,
   "id": "9a2a6a16-cfc7-4732-9fe8-3d3d4c7790c3",
   "metadata": {},
   "outputs": [],
   "source": []
  },
  {
   "cell_type": "code",
   "execution_count": 78,
   "id": "ea066cd5-16cd-4bee-98cc-8e29db1c0bc7",
   "metadata": {},
   "outputs": [],
   "source": [
    "x = (zeros != 0) | (zeros == 3)"
   ]
  },
  {
   "cell_type": "code",
   "execution_count": null,
   "id": "95cff2eb-8554-4482-a146-ebea9821a107",
   "metadata": {},
   "outputs": [],
   "source": []
  },
  {
   "cell_type": "code",
   "execution_count": 74,
   "id": "3c4fc6e0-a48c-4cc9-be1f-693cd32bb3e8",
   "metadata": {},
   "outputs": [
    {
     "data": {
      "text/plain": [
       "array([12,  4,  5,  4,  5,  3,  4,  8])"
      ]
     },
     "execution_count": 74,
     "metadata": {},
     "output_type": "execute_result"
    }
   ],
   "source": [
    "zeros[x]"
   ]
  },
  {
   "cell_type": "code",
   "execution_count": null,
   "id": "b3f53a34-677a-4e1f-ba5f-79459e1e75f5",
   "metadata": {},
   "outputs": [],
   "source": []
  },
  {
   "cell_type": "code",
   "execution_count": null,
   "id": "e66a9eb9-e0b4-4224-b59d-1937e921ecd0",
   "metadata": {},
   "outputs": [],
   "source": [
    "1 ---- 100\n",
    "\n",
    "devisbile by 3 and devisible by 5"
   ]
  }
 ],
 "metadata": {
  "kernelspec": {
   "display_name": "Python 3 (ipykernel)",
   "language": "python",
   "name": "python3"
  },
  "language_info": {
   "codemirror_mode": {
    "name": "ipython",
    "version": 3
   },
   "file_extension": ".py",
   "mimetype": "text/x-python",
   "name": "python",
   "nbconvert_exporter": "python",
   "pygments_lexer": "ipython3",
   "version": "3.12.0"
  }
 },
 "nbformat": 4,
 "nbformat_minor": 5
}
