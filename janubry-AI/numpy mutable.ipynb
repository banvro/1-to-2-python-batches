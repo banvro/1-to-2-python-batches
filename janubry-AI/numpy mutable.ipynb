{
 "cells": [
  {
   "cell_type": "code",
   "execution_count": 1,
   "id": "40542304-5481-4a19-a9d2-fd818633d2c6",
   "metadata": {},
   "outputs": [],
   "source": [
    "import numpy as np"
   ]
  },
  {
   "cell_type": "code",
   "execution_count": 2,
   "id": "96fc3cd5-ad0c-40c4-bea2-58dc0bd2f640",
   "metadata": {},
   "outputs": [],
   "source": [
    "# mutable:"
   ]
  },
  {
   "cell_type": "code",
   "execution_count": 3,
   "id": "9f8eed6c-a8bf-4975-97fc-c7b425d5672a",
   "metadata": {},
   "outputs": [],
   "source": [
    "zx = np.array([12, 56, 34, 23, 12, 56, 78, 100])"
   ]
  },
  {
   "cell_type": "code",
   "execution_count": null,
   "id": "8d1cd511-a4c4-4262-950a-64bcecad640b",
   "metadata": {},
   "outputs": [],
   "source": [
    "# replace krna hai...."
   ]
  },
  {
   "cell_type": "code",
   "execution_count": 6,
   "id": "de420be7-33d3-4456-aca9-9ce9fe22792c",
   "metadata": {},
   "outputs": [],
   "source": [
    "zx[2] = 500"
   ]
  },
  {
   "cell_type": "code",
   "execution_count": 7,
   "id": "b1d3d9b7-8b50-47e0-b036-90d2a69b1dfa",
   "metadata": {},
   "outputs": [
    {
     "data": {
      "text/plain": [
       "array([ 12,  56, 500,  23,  12,  56,  78, 100])"
      ]
     },
     "execution_count": 7,
     "metadata": {},
     "output_type": "execute_result"
    }
   ],
   "source": [
    "zx"
   ]
  },
  {
   "cell_type": "code",
   "execution_count": 8,
   "id": "39199d11-18a4-41db-be45-df0601f823e2",
   "metadata": {},
   "outputs": [],
   "source": [
    "zx[0] = 1"
   ]
  },
  {
   "cell_type": "code",
   "execution_count": 9,
   "id": "212d20c9-2c00-46a6-b054-8c353e633f4a",
   "metadata": {},
   "outputs": [
    {
     "data": {
      "text/plain": [
       "array([  1,  56, 500,  23,  12,  56,  78, 100])"
      ]
     },
     "execution_count": 9,
     "metadata": {},
     "output_type": "execute_result"
    }
   ],
   "source": [
    "zx"
   ]
  },
  {
   "cell_type": "code",
   "execution_count": 11,
   "id": "65282871-d9bf-450d-86b2-df0ae12c0b69",
   "metadata": {},
   "outputs": [],
   "source": [
    "zx[1] = 78"
   ]
  },
  {
   "cell_type": "code",
   "execution_count": 12,
   "id": "4fdb41c0-4c0a-4cdd-b3e4-c9e4bd3bc6ef",
   "metadata": {},
   "outputs": [
    {
     "data": {
      "text/plain": [
       "array([  1,  78, 500,  23,  12,  56,  78, 100])"
      ]
     },
     "execution_count": 12,
     "metadata": {},
     "output_type": "execute_result"
    }
   ],
   "source": [
    "zx"
   ]
  },
  {
   "cell_type": "code",
   "execution_count": 13,
   "id": "503465cb-3674-49cc-9786-fd51ccb73c67",
   "metadata": {},
   "outputs": [],
   "source": [
    "zx[0] = 78"
   ]
  },
  {
   "cell_type": "code",
   "execution_count": 14,
   "id": "6e5f0f5b-71d5-4b4b-b81f-bad0a74981c6",
   "metadata": {},
   "outputs": [
    {
     "data": {
      "text/plain": [
       "array([ 78,  78, 500,  23,  12,  56,  78, 100])"
      ]
     },
     "execution_count": 14,
     "metadata": {},
     "output_type": "execute_result"
    }
   ],
   "source": [
    "zx"
   ]
  },
  {
   "cell_type": "code",
   "execution_count": 15,
   "id": "bfef74a1-548f-4682-bca3-14ae1ff8152f",
   "metadata": {},
   "outputs": [],
   "source": [
    "zx[0] = 9000"
   ]
  },
  {
   "cell_type": "code",
   "execution_count": null,
   "id": "0c65bbfb-21dc-4c91-a43b-5eea9abc4abf",
   "metadata": {},
   "outputs": [],
   "source": []
  },
  {
   "cell_type": "code",
   "execution_count": null,
   "id": "0ee2f415-f805-442a-88b3-0bea46ea651b",
   "metadata": {},
   "outputs": [],
   "source": []
  },
  {
   "cell_type": "code",
   "execution_count": 22,
   "id": "19183d19-4724-4ae4-9d50-9a6df3622df5",
   "metadata": {},
   "outputs": [],
   "source": [
    "x = np.append(zx, 1000)"
   ]
  },
  {
   "cell_type": "code",
   "execution_count": 23,
   "id": "c90c98c7-c81a-4cbb-aad3-d0d40f3fa7a7",
   "metadata": {},
   "outputs": [
    {
     "data": {
      "text/plain": [
       "array([   2,    5,    1,    6,    3,    8,   10, 1000, 1000])"
      ]
     },
     "execution_count": 23,
     "metadata": {},
     "output_type": "execute_result"
    }
   ],
   "source": [
    "x"
   ]
  },
  {
   "cell_type": "code",
   "execution_count": null,
   "id": "0bcdeb49-86fa-4369-b442-91d593683dc4",
   "metadata": {},
   "outputs": [],
   "source": []
  },
  {
   "cell_type": "code",
   "execution_count": 24,
   "id": "38bece66-1c00-4251-8e16-533637466782",
   "metadata": {},
   "outputs": [],
   "source": [
    "x = np.array([45, 34, 23, 10])"
   ]
  },
  {
   "cell_type": "code",
   "execution_count": 26,
   "id": "69a06526-c8df-44f2-ac1a-80c50cefea36",
   "metadata": {},
   "outputs": [
    {
     "data": {
      "text/plain": [
       "array([ 45,  34,  23,  10,  12,  34, 100])"
      ]
     },
     "execution_count": 26,
     "metadata": {},
     "output_type": "execute_result"
    }
   ],
   "source": [
    "np.append(x, [12, 34, 100])"
   ]
  },
  {
   "cell_type": "code",
   "execution_count": null,
   "id": "d134b6a3-be85-4962-8268-137dc9fd43be",
   "metadata": {},
   "outputs": [],
   "source": []
  },
  {
   "cell_type": "code",
   "execution_count": 27,
   "id": "e67a9f2a-65dc-46f5-bda5-9a141b38910a",
   "metadata": {},
   "outputs": [],
   "source": [
    "# insert()"
   ]
  },
  {
   "cell_type": "code",
   "execution_count": 28,
   "id": "97ce368e-55b6-4152-8f03-d1195819ff3a",
   "metadata": {},
   "outputs": [
    {
     "data": {
      "text/plain": [
       "array([45, 34, 23, 10])"
      ]
     },
     "execution_count": 28,
     "metadata": {},
     "output_type": "execute_result"
    }
   ],
   "source": [
    "x"
   ]
  },
  {
   "cell_type": "code",
   "execution_count": 29,
   "id": "30bf82d3-558a-4953-94ea-eb8ff013b60c",
   "metadata": {},
   "outputs": [
    {
     "data": {
      "text/plain": [
       "array([  45, 2000,   34,   23,   10])"
      ]
     },
     "execution_count": 29,
     "metadata": {},
     "output_type": "execute_result"
    }
   ],
   "source": [
    "np.insert(x, 1, 2000)"
   ]
  },
  {
   "cell_type": "code",
   "execution_count": 30,
   "id": "3ed6bdee-b42f-46a3-b918-4d4adfcb4c6e",
   "metadata": {},
   "outputs": [
    {
     "data": {
      "text/plain": [
       "array([ 45,  20,  34,  23,  23, 455,  10,  56])"
      ]
     },
     "execution_count": 30,
     "metadata": {},
     "output_type": "execute_result"
    }
   ],
   "source": [
    "np.insert(x, [1, 3, 4, 2], [20, 455, 56, 23])"
   ]
  },
  {
   "cell_type": "code",
   "execution_count": null,
   "id": "551fd56d-351e-4e53-899a-28d241ec4e31",
   "metadata": {},
   "outputs": [],
   "source": []
  },
  {
   "cell_type": "code",
   "execution_count": null,
   "id": "68d095f5-b39a-49a4-a58b-b9e19ed77fee",
   "metadata": {},
   "outputs": [],
   "source": []
  },
  {
   "cell_type": "code",
   "execution_count": 31,
   "id": "a0851526-48cf-459d-9074-dc7c11bdc855",
   "metadata": {},
   "outputs": [],
   "source": [
    "zx = np.array([1, 2, 3, 4, 5, 6, 7])"
   ]
  },
  {
   "cell_type": "code",
   "execution_count": null,
   "id": "5862414c-3a4d-4bc7-a115-4d35952b340d",
   "metadata": {},
   "outputs": [],
   "source": []
  },
  {
   "cell_type": "code",
   "execution_count": 32,
   "id": "4874cc64-029f-40ce-9c7a-42b85f4db4f8",
   "metadata": {},
   "outputs": [],
   "source": [
    "y = np.insert(zx, 2, 20)"
   ]
  },
  {
   "cell_type": "code",
   "execution_count": 33,
   "id": "bbcef29a-ae75-4326-885d-6c79f081bfba",
   "metadata": {},
   "outputs": [
    {
     "data": {
      "text/plain": [
       "array([ 1,  2, 20,  3,  4,  5,  6,  7])"
      ]
     },
     "execution_count": 33,
     "metadata": {},
     "output_type": "execute_result"
    }
   ],
   "source": [
    "y"
   ]
  },
  {
   "cell_type": "code",
   "execution_count": null,
   "id": "6b55a957-74db-40f5-9bfd-c68056c3c6f0",
   "metadata": {},
   "outputs": [],
   "source": []
  },
  {
   "cell_type": "code",
   "execution_count": 34,
   "id": "9b3054d7-42c0-4b1f-8dd3-75bf27f0c8ae",
   "metadata": {},
   "outputs": [
    {
     "data": {
      "text/plain": [
       "array([1, 2, 3, 4, 5, 6, 7])"
      ]
     },
     "execution_count": 34,
     "metadata": {},
     "output_type": "execute_result"
    }
   ],
   "source": [
    "zx"
   ]
  },
  {
   "cell_type": "code",
   "execution_count": 36,
   "id": "fc724ba2-3a3f-4643-9092-4f28dc5e67c0",
   "metadata": {},
   "outputs": [],
   "source": [
    "tk = np.insert(zx, [1, 3], [100, 200])"
   ]
  },
  {
   "cell_type": "code",
   "execution_count": null,
   "id": "dc665412-ecfb-46a8-bdc0-eedc8d6c869d",
   "metadata": {},
   "outputs": [],
   "source": []
  },
  {
   "cell_type": "code",
   "execution_count": 37,
   "id": "b1011e6c-e093-44dd-a564-31478e07cf01",
   "metadata": {},
   "outputs": [
    {
     "data": {
      "text/plain": [
       "array([  1, 100,   2,   3, 200,   4,   5,   6,   7])"
      ]
     },
     "execution_count": 37,
     "metadata": {},
     "output_type": "execute_result"
    }
   ],
   "source": [
    "tk"
   ]
  },
  {
   "cell_type": "code",
   "execution_count": 38,
   "id": "e371b0f1-408c-4dc8-9539-09a57f5bbe58",
   "metadata": {},
   "outputs": [],
   "source": [
    "tk[4] = 95"
   ]
  },
  {
   "cell_type": "code",
   "execution_count": 39,
   "id": "3447a331-bbc9-4e8c-b370-3c1150186cb4",
   "metadata": {},
   "outputs": [
    {
     "data": {
      "text/plain": [
       "array([  1, 100,   2,   3,  95,   4,   5,   6,   7])"
      ]
     },
     "execution_count": 39,
     "metadata": {},
     "output_type": "execute_result"
    }
   ],
   "source": [
    "tk"
   ]
  },
  {
   "cell_type": "code",
   "execution_count": null,
   "id": "64eeb381-1282-454e-a50f-de9f5ba48112",
   "metadata": {},
   "outputs": [],
   "source": []
  },
  {
   "cell_type": "code",
   "execution_count": 44,
   "id": "89e8c045-7689-4f08-89b5-b21ab84cb4dd",
   "metadata": {},
   "outputs": [
    {
     "data": {
      "text/plain": [
       "array([ 1,  2, 95,  4,  5,  6,  7])"
      ]
     },
     "execution_count": 44,
     "metadata": {},
     "output_type": "execute_result"
    }
   ],
   "source": [
    "np.delete(tk, [1, 3])"
   ]
  },
  {
   "cell_type": "code",
   "execution_count": null,
   "id": "a7ecc8cf-3910-493b-8abb-9ab2a959b2b9",
   "metadata": {},
   "outputs": [],
   "source": []
  },
  {
   "cell_type": "code",
   "execution_count": null,
   "id": "53bbe986-68ef-44f8-acc2-a84a799535a6",
   "metadata": {},
   "outputs": [],
   "source": [
    "['2 x 1 = 2', '2 x 2 = 4', .......]"
   ]
  },
  {
   "cell_type": "code",
   "execution_count": null,
   "id": "0b148efa-06a0-4baa-ab3c-1465535ccc93",
   "metadata": {},
   "outputs": [],
   "source": []
  },
  {
   "cell_type": "code",
   "execution_count": 73,
   "id": "3e4d4590-688e-4d37-83f6-366dec962539",
   "metadata": {},
   "outputs": [],
   "source": [
    "table = np.array([\"car\"])"
   ]
  },
  {
   "cell_type": "code",
   "execution_count": 74,
   "id": "13831875-a5ad-4541-bcc3-9c2c274a0154",
   "metadata": {},
   "outputs": [],
   "source": [
    "for i in range(1, 11):\n",
    "    table = np.append(table, f\"2 x {i} = {2 * i}\")"
   ]
  },
  {
   "cell_type": "code",
   "execution_count": 75,
   "id": "3780a018-df1e-4b25-922d-1cea62beaf4d",
   "metadata": {},
   "outputs": [
    {
     "data": {
      "text/plain": [
       "array(['car', '2 x 1 = 2', '2 x 2 = 4', '2 x 3 = 6', '2 x 4 = 8',\n",
       "       '2 x 5 = 10', '2 x 6 = 12', '2 x 7 = 14', '2 x 8 = 16',\n",
       "       '2 x 9 = 18', '2 x 10 = 20'], dtype='<U11')"
      ]
     },
     "execution_count": 75,
     "metadata": {},
     "output_type": "execute_result"
    }
   ],
   "source": [
    "table"
   ]
  },
  {
   "cell_type": "code",
   "execution_count": 76,
   "id": "c081eafe-fea7-4f50-94e3-7ee2039bd7b0",
   "metadata": {},
   "outputs": [
    {
     "data": {
      "text/plain": [
       "array(['2 x 1 = 2', '2 x 2 = 4', '2 x 3 = 6', '2 x 4 = 8', '2 x 5 = 10',\n",
       "       '2 x 6 = 12', '2 x 7 = 14', '2 x 8 = 16', '2 x 9 = 18',\n",
       "       '2 x 10 = 20'], dtype='<U11')"
      ]
     },
     "execution_count": 76,
     "metadata": {},
     "output_type": "execute_result"
    }
   ],
   "source": [
    "np.delete(table, 0)"
   ]
  },
  {
   "cell_type": "code",
   "execution_count": null,
   "id": "4487f586-50ef-4640-b0db-e967abb4126e",
   "metadata": {},
   "outputs": [],
   "source": []
  },
  {
   "cell_type": "code",
   "execution_count": null,
   "id": "b126da4e-8dfa-444c-9f98-0083b29a79e1",
   "metadata": {},
   "outputs": [],
   "source": [
    "if 2 % i != 0:"
   ]
  },
  {
   "cell_type": "code",
   "execution_count": null,
   "id": "3a8c489a-8269-41f9-a993-18632dfa9aab",
   "metadata": {},
   "outputs": [],
   "source": [
    "[1, 2, 333, 4, 55555, 6, 7777777, 8, 999999999, 10]"
   ]
  },
  {
   "cell_type": "code",
   "execution_count": 98,
   "id": "12e6dd12-291d-4e5f-83cb-280031080b4b",
   "metadata": {},
   "outputs": [
    {
     "data": {
      "text/plain": [
       "'333'"
      ]
     },
     "execution_count": 98,
     "metadata": {},
     "output_type": "execute_result"
    }
   ],
   "source": [
    "3 * \"3\""
   ]
  },
  {
   "cell_type": "code",
   "execution_count": null,
   "id": "41b19de4-7c37-424d-be6c-eafda41c8082",
   "metadata": {},
   "outputs": [],
   "source": []
  },
  {
   "cell_type": "code",
   "execution_count": 83,
   "id": "995b68e4-c8c6-46fa-88aa-785e0438ac35",
   "metadata": {},
   "outputs": [],
   "source": [
    "s = np.array([1])"
   ]
  },
  {
   "cell_type": "code",
   "execution_count": 84,
   "id": "d8206518-bb4c-4ff4-a865-4447bc8c2efb",
   "metadata": {},
   "outputs": [],
   "source": [
    "for i in range(1, 11):\n",
    "    if i % 2 == 0:\n",
    "        s = np.append(s, i)\n",
    "    else:\n",
    "        s = np.append(s, f\"{i}\" * i)"
   ]
  },
  {
   "cell_type": "code",
   "execution_count": 85,
   "id": "a0cc3031-7220-42cf-95f3-2758dbb9edca",
   "metadata": {},
   "outputs": [
    {
     "data": {
      "text/plain": [
       "array(['1', '1', '2', '333', '4', '55555', '6', '7777777', '8',\n",
       "       '999999999', '10'], dtype='<U11')"
      ]
     },
     "execution_count": 85,
     "metadata": {},
     "output_type": "execute_result"
    }
   ],
   "source": [
    "s"
   ]
  },
  {
   "cell_type": "code",
   "execution_count": null,
   "id": "dccceb57-5df2-4bd3-86fd-f12ac5e78ae2",
   "metadata": {},
   "outputs": [],
   "source": []
  },
  {
   "cell_type": "code",
   "execution_count": 91,
   "id": "f7cd1e36-da8a-4358-bdc2-392f61d03fc2",
   "metadata": {},
   "outputs": [],
   "source": [
    "zx = np.array(s, dtype = int)"
   ]
  },
  {
   "cell_type": "code",
   "execution_count": 94,
   "id": "e3deed9e-46a6-481f-9524-4a55c272b3ec",
   "metadata": {},
   "outputs": [
    {
     "data": {
      "text/plain": [
       "array([        1,         1,         2,       333,         4,     55555,\n",
       "               6,   7777777,         8, 999999999,        10])"
      ]
     },
     "execution_count": 94,
     "metadata": {},
     "output_type": "execute_result"
    }
   ],
   "source": [
    "pq = np.delete(zx, 1)\n",
    "\n",
    "zx"
   ]
  },
  {
   "cell_type": "code",
   "execution_count": 95,
   "id": "13e67b64-9a96-4f8c-82e2-1838ad54ad75",
   "metadata": {},
   "outputs": [
    {
     "data": {
      "text/plain": [
       "array([        1,         2,       333,         4,     55555,         6,\n",
       "         7777777,         8, 999999999,        10])"
      ]
     },
     "execution_count": 95,
     "metadata": {},
     "output_type": "execute_result"
    }
   ],
   "source": [
    "pq"
   ]
  },
  {
   "cell_type": "code",
   "execution_count": null,
   "id": "2399d333-46de-426d-b86b-31edd59ebf22",
   "metadata": {},
   "outputs": [],
   "source": []
  }
 ],
 "metadata": {
  "kernelspec": {
   "display_name": "Python 3 (ipykernel)",
   "language": "python",
   "name": "python3"
  },
  "language_info": {
   "codemirror_mode": {
    "name": "ipython",
    "version": 3
   },
   "file_extension": ".py",
   "mimetype": "text/x-python",
   "name": "python",
   "nbconvert_exporter": "python",
   "pygments_lexer": "ipython3",
   "version": "3.12.0"
  }
 },
 "nbformat": 4,
 "nbformat_minor": 5
}
