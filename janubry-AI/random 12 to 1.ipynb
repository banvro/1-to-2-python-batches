{
 "cells": [
  {
   "cell_type": "code",
   "execution_count": 1,
   "id": "b2808009-fce3-4042-90bb-7e22334266b0",
   "metadata": {},
   "outputs": [],
   "source": [
    "import numpy as np"
   ]
  },
  {
   "cell_type": "code",
   "execution_count": 2,
   "id": "c05c35eb-1922-49ce-a627-2e2787dce130",
   "metadata": {},
   "outputs": [],
   "source": [
    "zx = np.arange(2, 20)"
   ]
  },
  {
   "cell_type": "code",
   "execution_count": 3,
   "id": "35a64081-905f-408d-8b19-00d832399b05",
   "metadata": {},
   "outputs": [
    {
     "data": {
      "text/plain": [
       "array([ 2,  3,  4,  5,  6,  7,  8,  9, 10, 11, 12, 13, 14, 15, 16, 17, 18,\n",
       "       19])"
      ]
     },
     "execution_count": 3,
     "metadata": {},
     "output_type": "execute_result"
    }
   ],
   "source": [
    "zx"
   ]
  },
  {
   "cell_type": "code",
   "execution_count": 5,
   "id": "dd5b8f16-059f-4d35-864d-ece80eb9e770",
   "metadata": {},
   "outputs": [
    {
     "data": {
      "text/plain": [
       "18"
      ]
     },
     "execution_count": 5,
     "metadata": {},
     "output_type": "execute_result"
    }
   ],
   "source": [
    "len(zx)"
   ]
  },
  {
   "cell_type": "code",
   "execution_count": 4,
   "id": "b38cef7a-3569-49c0-a4f3-68d72e0879fc",
   "metadata": {},
   "outputs": [
    {
     "data": {
      "text/plain": [
       "1"
      ]
     },
     "execution_count": 4,
     "metadata": {},
     "output_type": "execute_result"
    }
   ],
   "source": [
    "zx.ndim"
   ]
  },
  {
   "cell_type": "code",
   "execution_count": 6,
   "id": "21b34e41-7074-4b33-9816-4c85ef929125",
   "metadata": {},
   "outputs": [],
   "source": [
    "xy = zx.reshape(6, 3)"
   ]
  },
  {
   "cell_type": "code",
   "execution_count": 7,
   "id": "0e52b19d-e698-4cd1-94ff-c42394cc7b49",
   "metadata": {},
   "outputs": [
    {
     "data": {
      "text/plain": [
       "array([[ 2,  3,  4],\n",
       "       [ 5,  6,  7],\n",
       "       [ 8,  9, 10],\n",
       "       [11, 12, 13],\n",
       "       [14, 15, 16],\n",
       "       [17, 18, 19]])"
      ]
     },
     "execution_count": 7,
     "metadata": {},
     "output_type": "execute_result"
    }
   ],
   "source": [
    "xy"
   ]
  },
  {
   "cell_type": "code",
   "execution_count": null,
   "id": "67cff4a2-758c-4f05-a287-2864f2530258",
   "metadata": {},
   "outputs": [],
   "source": []
  },
  {
   "cell_type": "code",
   "execution_count": null,
   "id": "c399adb7-400c-469c-a6aa-cce3041c1f3e",
   "metadata": {},
   "outputs": [],
   "source": [
    "# random:"
   ]
  },
  {
   "cell_type": "code",
   "execution_count": 8,
   "id": "7169685c-ca65-4020-ad0f-89288e8beab0",
   "metadata": {},
   "outputs": [],
   "source": [
    "from numpy import random"
   ]
  },
  {
   "cell_type": "code",
   "execution_count": 27,
   "id": "1617f16c-50c2-4587-ae46-40038b171080",
   "metadata": {},
   "outputs": [
    {
     "data": {
      "text/plain": [
       "array([[81, 74, 62, 51, 52],\n",
       "       [86, 78, 58, 57, 62],\n",
       "       [82, 82, 54, 53, 67],\n",
       "       [70, 67, 71, 64, 79],\n",
       "       [66, 74, 78, 81, 63],\n",
       "       [77, 76, 52, 82, 50]])"
      ]
     },
     "execution_count": 27,
     "metadata": {},
     "output_type": "execute_result"
    }
   ],
   "source": [
    "random.randint(50, 90, size = (6, 5))"
   ]
  },
  {
   "cell_type": "code",
   "execution_count": null,
   "id": "a5c15263-48aa-4340-865c-50d4480ca972",
   "metadata": {},
   "outputs": [],
   "source": []
  },
  {
   "cell_type": "code",
   "execution_count": 41,
   "id": "338488e3-d3da-4232-95ce-f4344deeee18",
   "metadata": {},
   "outputs": [
    {
     "data": {
      "text/plain": [
       "array([[0.33451397, 0.32055109],\n",
       "       [0.89490081, 0.83651882],\n",
       "       [0.60235346, 0.2560191 ],\n",
       "       [0.9388228 , 0.35037405],\n",
       "       [0.99553228, 0.78911116],\n",
       "       [0.75837527, 0.93618558],\n",
       "       [0.12808799, 0.58402531],\n",
       "       [0.84624967, 0.39740279],\n",
       "       [0.81468254, 0.44161896],\n",
       "       [0.84682859, 0.08891677],\n",
       "       [0.51144692, 0.28284996],\n",
       "       [0.21291571, 0.65298544]])"
      ]
     },
     "execution_count": 41,
     "metadata": {},
     "output_type": "execute_result"
    }
   ],
   "source": [
    "random.rand(12, 2)"
   ]
  },
  {
   "cell_type": "code",
   "execution_count": null,
   "id": "175bbff3-4438-4f64-9f7a-76069cc02499",
   "metadata": {},
   "outputs": [],
   "source": []
  },
  {
   "cell_type": "code",
   "execution_count": 43,
   "id": "e64c60ff-049f-4116-ac4a-dffabcc54f29",
   "metadata": {},
   "outputs": [],
   "source": [
    "zx = []\n",
    "\n",
    "for i in range(1, 21):\n",
    "    zx.append(random.rand())"
   ]
  },
  {
   "cell_type": "code",
   "execution_count": 44,
   "id": "e72f25e1-0b2a-415b-be46-e57048d8601b",
   "metadata": {},
   "outputs": [
    {
     "data": {
      "text/plain": [
       "[0.6971458025934539,\n",
       " 0.4763883853687423,\n",
       " 0.948652071955328,\n",
       " 0.9415437091726907,\n",
       " 0.9503006461067497,\n",
       " 0.7413740069262023,\n",
       " 0.5842894369190679,\n",
       " 0.562528483761879,\n",
       " 0.5301700698328896,\n",
       " 0.5438513552965448,\n",
       " 0.2298186165167979,\n",
       " 0.54572939814155,\n",
       " 0.5579899156384188,\n",
       " 0.23662285682870976,\n",
       " 0.9708751074650506,\n",
       " 0.4994178164617349,\n",
       " 0.022584346670184385,\n",
       " 0.7805895315699857,\n",
       " 0.3595665632034558,\n",
       " 0.7816209941940641]"
      ]
     },
     "execution_count": 44,
     "metadata": {},
     "output_type": "execute_result"
    }
   ],
   "source": [
    "zx"
   ]
  },
  {
   "cell_type": "code",
   "execution_count": 45,
   "id": "b806d5af-07fb-4240-b33c-807014c6d470",
   "metadata": {},
   "outputs": [
    {
     "data": {
      "text/plain": [
       "list"
      ]
     },
     "execution_count": 45,
     "metadata": {},
     "output_type": "execute_result"
    }
   ],
   "source": [
    "type(zx)"
   ]
  },
  {
   "cell_type": "code",
   "execution_count": 46,
   "id": "417644da-a7b4-4535-b300-c1b736351c49",
   "metadata": {},
   "outputs": [],
   "source": [
    "xz = np.array(zx)"
   ]
  },
  {
   "cell_type": "code",
   "execution_count": 47,
   "id": "cf631933-b655-408c-b792-508a45e67976",
   "metadata": {},
   "outputs": [
    {
     "data": {
      "text/plain": [
       "numpy.ndarray"
      ]
     },
     "execution_count": 47,
     "metadata": {},
     "output_type": "execute_result"
    }
   ],
   "source": [
    "type(xz)"
   ]
  },
  {
   "cell_type": "code",
   "execution_count": 48,
   "id": "bea5d795-34e3-464d-b26a-037f7e1cd67b",
   "metadata": {},
   "outputs": [
    {
     "data": {
      "text/plain": [
       "array([0.6971458 , 0.47638839, 0.94865207, 0.94154371, 0.95030065,\n",
       "       0.74137401, 0.58428944, 0.56252848, 0.53017007, 0.54385136,\n",
       "       0.22981862, 0.5457294 , 0.55798992, 0.23662286, 0.97087511,\n",
       "       0.49941782, 0.02258435, 0.78058953, 0.35956656, 0.78162099])"
      ]
     },
     "execution_count": 48,
     "metadata": {},
     "output_type": "execute_result"
    }
   ],
   "source": [
    "xz"
   ]
  },
  {
   "cell_type": "code",
   "execution_count": 49,
   "id": "beb17c61-9857-46b1-a514-0ee4b2aa1491",
   "metadata": {},
   "outputs": [
    {
     "data": {
      "text/plain": [
       "20"
      ]
     },
     "execution_count": 49,
     "metadata": {},
     "output_type": "execute_result"
    }
   ],
   "source": [
    "len(xz)"
   ]
  },
  {
   "cell_type": "code",
   "execution_count": 50,
   "id": "efc7786d-15ca-4772-9f57-56918dd5a136",
   "metadata": {},
   "outputs": [
    {
     "data": {
      "text/plain": [
       "array([[0.6971458 , 0.47638839, 0.94865207, 0.94154371],\n",
       "       [0.95030065, 0.74137401, 0.58428944, 0.56252848],\n",
       "       [0.53017007, 0.54385136, 0.22981862, 0.5457294 ],\n",
       "       [0.55798992, 0.23662286, 0.97087511, 0.49941782],\n",
       "       [0.02258435, 0.78058953, 0.35956656, 0.78162099]])"
      ]
     },
     "execution_count": 50,
     "metadata": {},
     "output_type": "execute_result"
    }
   ],
   "source": [
    "xz.reshape(5, 4)"
   ]
  },
  {
   "cell_type": "code",
   "execution_count": null,
   "id": "1bd0059f-4d25-429a-ae7a-256f285a1e3f",
   "metadata": {},
   "outputs": [],
   "source": []
  },
  {
   "cell_type": "code",
   "execution_count": null,
   "id": "86a0635f-3417-436a-86a3-d2e5cabdd804",
   "metadata": {},
   "outputs": [],
   "source": [
    "# choose()"
   ]
  },
  {
   "cell_type": "code",
   "execution_count": 70,
   "id": "ded148db-d28b-486d-8192-a7c59ec7bc30",
   "metadata": {},
   "outputs": [],
   "source": [
    "zx = random.choice([1, 2, 3, 4, 5, 6])"
   ]
  },
  {
   "cell_type": "code",
   "execution_count": 71,
   "id": "42319036-c7b6-45f1-adf0-6b9bf6891f88",
   "metadata": {},
   "outputs": [
    {
     "data": {
      "text/plain": [
       "3"
      ]
     },
     "execution_count": 71,
     "metadata": {},
     "output_type": "execute_result"
    }
   ],
   "source": [
    "zx"
   ]
  },
  {
   "cell_type": "code",
   "execution_count": null,
   "id": "8ce02172-97b8-45e8-9131-12bbb12372bd",
   "metadata": {},
   "outputs": [],
   "source": []
  },
  {
   "cell_type": "code",
   "execution_count": 74,
   "id": "cb260511-42de-4278-8382-01378578b863",
   "metadata": {},
   "outputs": [],
   "source": [
    "zx = random.choice([1, 2, 3, 4, 5, 6], size = (5, 6))"
   ]
  },
  {
   "cell_type": "code",
   "execution_count": 75,
   "id": "5d1074d0-6de5-4e4d-8c25-76da28c7a7a0",
   "metadata": {},
   "outputs": [
    {
     "data": {
      "text/plain": [
       "array([[4, 2, 3, 3, 3, 3],\n",
       "       [6, 6, 1, 2, 4, 1],\n",
       "       [6, 1, 5, 5, 5, 4],\n",
       "       [6, 5, 1, 2, 4, 6],\n",
       "       [3, 3, 3, 1, 2, 1]])"
      ]
     },
     "execution_count": 75,
     "metadata": {},
     "output_type": "execute_result"
    }
   ],
   "source": [
    "zx"
   ]
  },
  {
   "cell_type": "code",
   "execution_count": null,
   "id": "bee61319-8ae5-4766-8ebb-54c5e9b99cfe",
   "metadata": {},
   "outputs": [],
   "source": []
  },
  {
   "cell_type": "code",
   "execution_count": null,
   "id": "4ef05a79-c5cb-4839-8bb6-f1c695f54482",
   "metadata": {},
   "outputs": [],
   "source": [
    "# shuffle"
   ]
  },
  {
   "cell_type": "code",
   "execution_count": 76,
   "id": "2e7bea7d-f916-4685-9fcb-ebb4bc852c5e",
   "metadata": {},
   "outputs": [],
   "source": [
    "zx = np.arange(2, 10)"
   ]
  },
  {
   "cell_type": "code",
   "execution_count": 80,
   "id": "e2ac626d-e678-48fe-9167-52c8ab121568",
   "metadata": {},
   "outputs": [
    {
     "data": {
      "text/plain": [
       "array([3, 4, 5, 2, 9, 8, 7, 6])"
      ]
     },
     "execution_count": 80,
     "metadata": {},
     "output_type": "execute_result"
    }
   ],
   "source": [
    "zx"
   ]
  },
  {
   "cell_type": "code",
   "execution_count": 81,
   "id": "058ab8d5-2cd5-4962-8ab2-07ee1290a9a2",
   "metadata": {},
   "outputs": [],
   "source": [
    "random.shuffle(zx)"
   ]
  },
  {
   "cell_type": "code",
   "execution_count": 82,
   "id": "3f579561-3f19-4e9a-98ce-f20a9fe35d13",
   "metadata": {},
   "outputs": [
    {
     "data": {
      "text/plain": [
       "array([8, 5, 9, 2, 6, 4, 3, 7])"
      ]
     },
     "execution_count": 82,
     "metadata": {},
     "output_type": "execute_result"
    }
   ],
   "source": [
    "zx"
   ]
  },
  {
   "cell_type": "code",
   "execution_count": null,
   "id": "783689c3-03c2-40c0-9e4c-4c561ad3e90b",
   "metadata": {},
   "outputs": [],
   "source": [
    "\n",
    "random\n",
    "randint\n",
    "rand\n",
    "arange\n",
    "choice\n",
    "shuffle\n"
   ]
  }
 ],
 "metadata": {
  "kernelspec": {
   "display_name": "Python 3 (ipykernel)",
   "language": "python",
   "name": "python3"
  },
  "language_info": {
   "codemirror_mode": {
    "name": "ipython",
    "version": 3
   },
   "file_extension": ".py",
   "mimetype": "text/x-python",
   "name": "python",
   "nbconvert_exporter": "python",
   "pygments_lexer": "ipython3",
   "version": "3.12.0"
  }
 },
 "nbformat": 4,
 "nbformat_minor": 5
}
