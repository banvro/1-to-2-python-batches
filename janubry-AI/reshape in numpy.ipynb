{
 "cells": [
  {
   "cell_type": "markdown",
   "id": "34a6a95c-3092-48db-a5cb-98a63a4b5612",
   "metadata": {},
   "source": [
    "# Reshape in Numpy"
   ]
  },
  {
   "cell_type": "code",
   "execution_count": 1,
   "id": "88a3b29d-4b6d-4e5e-ad41-b670782a628d",
   "metadata": {},
   "outputs": [],
   "source": [
    "import numpy as np"
   ]
  },
  {
   "cell_type": "code",
   "execution_count": null,
   "id": "45762ace-2448-4cf7-8099-df062ad235cc",
   "metadata": {},
   "outputs": [],
   "source": []
  },
  {
   "cell_type": "code",
   "execution_count": 6,
   "id": "cb98fad0-beb0-4d48-a16d-73038befea16",
   "metadata": {},
   "outputs": [],
   "source": [
    "arr = np.array([12, 43, 5, 56, 23, 67, 20, 100, 34, 10])"
   ]
  },
  {
   "cell_type": "code",
   "execution_count": 7,
   "id": "75811db2-7035-4da8-bc78-c54e2d6e5617",
   "metadata": {},
   "outputs": [
    {
     "data": {
      "text/plain": [
       "(10,)"
      ]
     },
     "execution_count": 7,
     "metadata": {},
     "output_type": "execute_result"
    }
   ],
   "source": [
    "arr.shape"
   ]
  },
  {
   "cell_type": "code",
   "execution_count": 8,
   "id": "46867ae8-74e8-4c72-b34d-6013730a2ad1",
   "metadata": {},
   "outputs": [
    {
     "data": {
      "text/plain": [
       "10"
      ]
     },
     "execution_count": 8,
     "metadata": {},
     "output_type": "execute_result"
    }
   ],
   "source": [
    "len(arr)"
   ]
  },
  {
   "cell_type": "code",
   "execution_count": 9,
   "id": "11ba3da6-9610-4134-8405-1b9c8e473a8f",
   "metadata": {},
   "outputs": [
    {
     "data": {
      "text/plain": [
       "1"
      ]
     },
     "execution_count": 9,
     "metadata": {},
     "output_type": "execute_result"
    }
   ],
   "source": [
    "arr.ndim"
   ]
  },
  {
   "cell_type": "code",
   "execution_count": null,
   "id": "7d6b73f4-8621-4848-b22e-f75324445eb8",
   "metadata": {},
   "outputs": [],
   "source": [
    "# reshape\n",
    "\n",
    "# 1d to 2d"
   ]
  },
  {
   "cell_type": "code",
   "execution_count": 12,
   "id": "d295e175-5b8c-4b33-b4bf-1b8cd04394c1",
   "metadata": {},
   "outputs": [],
   "source": [
    "xyz = arr.reshape(5, 2)"
   ]
  },
  {
   "cell_type": "code",
   "execution_count": 14,
   "id": "574311eb-9b0e-407e-93dc-36e411f66c6d",
   "metadata": {},
   "outputs": [
    {
     "data": {
      "text/plain": [
       "array([[ 12,  43],\n",
       "       [  5,  56],\n",
       "       [ 23,  67],\n",
       "       [ 20, 100],\n",
       "       [ 34,  10]])"
      ]
     },
     "execution_count": 14,
     "metadata": {},
     "output_type": "execute_result"
    }
   ],
   "source": [
    "xyz"
   ]
  },
  {
   "cell_type": "code",
   "execution_count": null,
   "id": "2708caf4-4f94-4607-a9a9-568c923b6ba0",
   "metadata": {},
   "outputs": [],
   "source": []
  },
  {
   "cell_type": "code",
   "execution_count": 20,
   "id": "7e8375d9-bf54-4552-acc0-e06706df34cd",
   "metadata": {},
   "outputs": [],
   "source": [
    "arr = np.array([12, 43, 5, 56, 23, 67, 20, 100, 56, 34, 23, 11, 56, 34, 100])"
   ]
  },
  {
   "cell_type": "code",
   "execution_count": 21,
   "id": "e1a29c27-7178-4716-ab37-6404174f26ea",
   "metadata": {},
   "outputs": [
    {
     "data": {
      "text/plain": [
       "15"
      ]
     },
     "execution_count": 21,
     "metadata": {},
     "output_type": "execute_result"
    }
   ],
   "source": [
    "len(arr)"
   ]
  },
  {
   "cell_type": "code",
   "execution_count": 22,
   "id": "156d4437-6b64-40db-b673-6fe0228fbbda",
   "metadata": {},
   "outputs": [],
   "source": [
    "c = arr.reshape(5, 3)"
   ]
  },
  {
   "cell_type": "code",
   "execution_count": 23,
   "id": "e99dc299-d5c4-4715-b304-4803ce7f1176",
   "metadata": {},
   "outputs": [
    {
     "data": {
      "text/plain": [
       "array([[ 12,  43,   5],\n",
       "       [ 56,  23,  67],\n",
       "       [ 20, 100,  56],\n",
       "       [ 34,  23,  11],\n",
       "       [ 56,  34, 100]])"
      ]
     },
     "execution_count": 23,
     "metadata": {},
     "output_type": "execute_result"
    }
   ],
   "source": [
    "c"
   ]
  },
  {
   "cell_type": "code",
   "execution_count": 26,
   "id": "c34e9bde-7ce1-420e-987b-77d03e6ad9e0",
   "metadata": {},
   "outputs": [],
   "source": []
  },
  {
   "cell_type": "code",
   "execution_count": 28,
   "id": "0e4af643-3e98-430c-8ae4-3db798c3f11c",
   "metadata": {},
   "outputs": [],
   "source": [
    "arr = np.array([12, 43, 5, 56, 23, 67, 20, 100, 34, 10, 10, 100])"
   ]
  },
  {
   "cell_type": "code",
   "execution_count": null,
   "id": "982c0dce-6328-44bd-86cf-398eed0fbc8e",
   "metadata": {},
   "outputs": [],
   "source": []
  },
  {
   "cell_type": "code",
   "execution_count": 33,
   "id": "dde77a69-5c7e-4069-9946-bb5a70cb86ba",
   "metadata": {},
   "outputs": [],
   "source": [
    "cy = arr.reshape(4, -1)"
   ]
  },
  {
   "cell_type": "code",
   "execution_count": 34,
   "id": "c8cbfafa-88d0-45cb-8563-e4846c54d84e",
   "metadata": {},
   "outputs": [
    {
     "data": {
      "text/plain": [
       "array([[ 12,  43,   5],\n",
       "       [ 56,  23,  67],\n",
       "       [ 20, 100,  34],\n",
       "       [ 10,  10, 100]])"
      ]
     },
     "execution_count": 34,
     "metadata": {},
     "output_type": "execute_result"
    }
   ],
   "source": [
    "cy"
   ]
  },
  {
   "cell_type": "code",
   "execution_count": null,
   "id": "9976dcd1-d2c2-4f13-b521-76d29198ab76",
   "metadata": {},
   "outputs": [],
   "source": []
  },
  {
   "cell_type": "code",
   "execution_count": 37,
   "id": "0995d735-a40b-42cf-a923-d2483a7ce672",
   "metadata": {},
   "outputs": [],
   "source": [
    "zx = arr.reshape(-1, 4)"
   ]
  },
  {
   "cell_type": "code",
   "execution_count": 38,
   "id": "55413bd8-ac2f-49ef-9759-e1e5f66ba863",
   "metadata": {},
   "outputs": [
    {
     "data": {
      "text/plain": [
       "array([[ 12,  43,   5,  56],\n",
       "       [ 23,  67,  20, 100],\n",
       "       [ 34,  10,  10, 100]])"
      ]
     },
     "execution_count": 38,
     "metadata": {},
     "output_type": "execute_result"
    }
   ],
   "source": [
    "zx"
   ]
  },
  {
   "cell_type": "markdown",
   "id": "5a8513a0-6c75-4e4f-b44a-500b01c6af8f",
   "metadata": {},
   "source": [
    "# 1d to 3d"
   ]
  },
  {
   "cell_type": "code",
   "execution_count": 27,
   "id": "22ca980c-62f3-46c6-bafc-80a1efc8aae9",
   "metadata": {},
   "outputs": [],
   "source": [
    "arr = np.array([12, 43, 5, 56, 23, 67, 20, 100, 34, 10, 10, 100])"
   ]
  },
  {
   "cell_type": "code",
   "execution_count": 25,
   "id": "e44e0ad0-9def-490d-ab38-d7ad687d84ae",
   "metadata": {},
   "outputs": [
    {
     "data": {
      "text/plain": [
       "12"
      ]
     },
     "execution_count": 25,
     "metadata": {},
     "output_type": "execute_result"
    }
   ],
   "source": [
    "len(arr)"
   ]
  },
  {
   "cell_type": "code",
   "execution_count": 39,
   "id": "a1e8e2bf-f087-4a52-8469-5672565bf010",
   "metadata": {},
   "outputs": [],
   "source": [
    "xy = arr.reshape(2, 3, 2)"
   ]
  },
  {
   "cell_type": "code",
   "execution_count": 40,
   "id": "7704cd78-9a29-4e7b-a485-302ee5ff714b",
   "metadata": {},
   "outputs": [
    {
     "data": {
      "text/plain": [
       "array([[[ 12,  43],\n",
       "        [  5,  56],\n",
       "        [ 23,  67]],\n",
       "\n",
       "       [[ 20, 100],\n",
       "        [ 34,  10],\n",
       "        [ 10, 100]]])"
      ]
     },
     "execution_count": 40,
     "metadata": {},
     "output_type": "execute_result"
    }
   ],
   "source": [
    "xy"
   ]
  },
  {
   "cell_type": "code",
   "execution_count": 43,
   "id": "f11c5e86-34d6-47fb-8739-b1fd85df0fd8",
   "metadata": {},
   "outputs": [
    {
     "data": {
      "text/plain": [
       "(2, 3, 2)"
      ]
     },
     "execution_count": 43,
     "metadata": {},
     "output_type": "execute_result"
    }
   ],
   "source": [
    "xy.shape"
   ]
  },
  {
   "cell_type": "code",
   "execution_count": 44,
   "id": "9eb072d0-2f65-402d-a827-422fd20759b3",
   "metadata": {},
   "outputs": [
    {
     "data": {
      "text/plain": [
       "3"
      ]
     },
     "execution_count": 44,
     "metadata": {},
     "output_type": "execute_result"
    }
   ],
   "source": [
    "xy.ndim"
   ]
  },
  {
   "cell_type": "code",
   "execution_count": null,
   "id": "acb56f5b-0047-470c-bb2a-231d7213767d",
   "metadata": {},
   "outputs": [],
   "source": []
  },
  {
   "cell_type": "markdown",
   "id": "447574ce-2af6-4dfa-8e0c-e68d5afcd5bb",
   "metadata": {},
   "source": [
    "# 2d to 1d"
   ]
  },
  {
   "cell_type": "code",
   "execution_count": 63,
   "id": "afa4e738-fc8b-47dc-b91c-65fce3463394",
   "metadata": {},
   "outputs": [],
   "source": [
    "zx = np.array([[12, 45, 34, 12, 43 ,100], [56, 34, 2, 67, 34, 23]])"
   ]
  },
  {
   "cell_type": "code",
   "execution_count": 64,
   "id": "5b1df348-075f-420c-bc7e-74f4425ad558",
   "metadata": {},
   "outputs": [
    {
     "data": {
      "text/plain": [
       "array([[ 12,  45,  34,  12,  43, 100],\n",
       "       [ 56,  34,   2,  67,  34,  23]])"
      ]
     },
     "execution_count": 64,
     "metadata": {},
     "output_type": "execute_result"
    }
   ],
   "source": [
    "zx"
   ]
  },
  {
   "cell_type": "code",
   "execution_count": 65,
   "id": "93f1eb7c-6b06-48af-aec0-67fceecede46",
   "metadata": {},
   "outputs": [
    {
     "data": {
      "text/plain": [
       "2"
      ]
     },
     "execution_count": 65,
     "metadata": {},
     "output_type": "execute_result"
    }
   ],
   "source": [
    "zx.ndim"
   ]
  },
  {
   "cell_type": "code",
   "execution_count": 69,
   "id": "6bd5a189-d092-4323-ae1f-b7cb87920451",
   "metadata": {},
   "outputs": [],
   "source": [
    "xyz = zx.reshape(12)"
   ]
  },
  {
   "cell_type": "code",
   "execution_count": 70,
   "id": "550ca406-1929-4462-a24d-0471c6340809",
   "metadata": {},
   "outputs": [
    {
     "data": {
      "text/plain": [
       "array([ 12,  45,  34,  12,  43, 100,  56,  34,   2,  67,  34,  23])"
      ]
     },
     "execution_count": 70,
     "metadata": {},
     "output_type": "execute_result"
    }
   ],
   "source": [
    "xyz"
   ]
  },
  {
   "cell_type": "code",
   "execution_count": 71,
   "id": "1f38c26f-481f-4ea5-8480-9480c9264080",
   "metadata": {},
   "outputs": [],
   "source": [
    "xyz1 = zx.reshape(-1)"
   ]
  },
  {
   "cell_type": "code",
   "execution_count": 72,
   "id": "bb5f3b9f-26a5-4497-80fe-2b7934686df9",
   "metadata": {},
   "outputs": [
    {
     "data": {
      "text/plain": [
       "array([ 12,  45,  34,  12,  43, 100,  56,  34,   2,  67,  34,  23])"
      ]
     },
     "execution_count": 72,
     "metadata": {},
     "output_type": "execute_result"
    }
   ],
   "source": [
    "xyz1"
   ]
  },
  {
   "cell_type": "code",
   "execution_count": null,
   "id": "12c00e98-ec55-4417-8a37-81f1abdfc038",
   "metadata": {},
   "outputs": [],
   "source": []
  },
  {
   "cell_type": "code",
   "execution_count": null,
   "id": "e824750d-591c-42a2-a878-e5ebb205bf2b",
   "metadata": {},
   "outputs": [],
   "source": []
  },
  {
   "cell_type": "markdown",
   "id": "a16dfe13-6b0a-4359-8e31-4250d69adca3",
   "metadata": {},
   "source": [
    "# 3d to 1d"
   ]
  },
  {
   "cell_type": "code",
   "execution_count": 102,
   "id": "c638fc4d-eaf7-43b0-bf58-095980acfa31",
   "metadata": {},
   "outputs": [],
   "source": [
    "zx = np.array([[[[[12, 45, 34, 12, 43], [56, 34, 2, 67, 34]], [[34, 23, 12, 34, 2], [34, 45, 23, 12, 12]]]]])"
   ]
  },
  {
   "cell_type": "code",
   "execution_count": 103,
   "id": "f7aa7fab-c0c4-4eb5-9f42-eea610e9d8f6",
   "metadata": {},
   "outputs": [
    {
     "data": {
      "text/plain": [
       "5"
      ]
     },
     "execution_count": 103,
     "metadata": {},
     "output_type": "execute_result"
    }
   ],
   "source": [
    "zx.ndim"
   ]
  },
  {
   "cell_type": "code",
   "execution_count": 104,
   "id": "21d5da81-f769-4d30-99e4-6b3f7f986b18",
   "metadata": {},
   "outputs": [
    {
     "data": {
      "text/plain": [
       "(1, 1, 2, 2, 5)"
      ]
     },
     "execution_count": 104,
     "metadata": {},
     "output_type": "execute_result"
    }
   ],
   "source": [
    "zx.shape"
   ]
  },
  {
   "cell_type": "code",
   "execution_count": 105,
   "id": "2ca4a77f-52db-42d2-bc0c-1462ff0ba5e3",
   "metadata": {},
   "outputs": [
    {
     "data": {
      "text/plain": [
       "array([[[[[12, 45, 34, 12, 43],\n",
       "          [56, 34,  2, 67, 34]],\n",
       "\n",
       "         [[34, 23, 12, 34,  2],\n",
       "          [34, 45, 23, 12, 12]]]]])"
      ]
     },
     "execution_count": 105,
     "metadata": {},
     "output_type": "execute_result"
    }
   ],
   "source": [
    "zx"
   ]
  },
  {
   "cell_type": "code",
   "execution_count": 106,
   "id": "66cc22fe-e386-46e9-94e0-2dfdd389ef2e",
   "metadata": {},
   "outputs": [],
   "source": [
    "kl = zx.reshape(-1)"
   ]
  },
  {
   "cell_type": "code",
   "execution_count": 107,
   "id": "6ec52d28-8f09-41d5-be01-5111e7e04672",
   "metadata": {},
   "outputs": [
    {
     "data": {
      "text/plain": [
       "(20,)"
      ]
     },
     "execution_count": 107,
     "metadata": {},
     "output_type": "execute_result"
    }
   ],
   "source": [
    "kl.shape"
   ]
  },
  {
   "cell_type": "code",
   "execution_count": 108,
   "id": "a941f526-07bd-4b65-ba7d-ac330ef4f318",
   "metadata": {},
   "outputs": [
    {
     "data": {
      "text/plain": [
       "1"
      ]
     },
     "execution_count": 108,
     "metadata": {},
     "output_type": "execute_result"
    }
   ],
   "source": [
    "kl.ndim"
   ]
  },
  {
   "cell_type": "code",
   "execution_count": 109,
   "id": "7103adef-6f78-4ac7-b291-64ac4e1fe2e3",
   "metadata": {},
   "outputs": [
    {
     "data": {
      "text/plain": [
       "array([12, 45, 34, 12, 43, 56, 34,  2, 67, 34, 34, 23, 12, 34,  2, 34, 45,\n",
       "       23, 12, 12])"
      ]
     },
     "execution_count": 109,
     "metadata": {},
     "output_type": "execute_result"
    }
   ],
   "source": [
    "kl"
   ]
  },
  {
   "cell_type": "code",
   "execution_count": 110,
   "id": "71719005-c293-4bfe-90c0-f397b6bae557",
   "metadata": {},
   "outputs": [],
   "source": [
    "# zx.reshape(, -1)"
   ]
  },
  {
   "cell_type": "code",
   "execution_count": null,
   "id": "4474c086-0280-44aa-a332-69dd133353a5",
   "metadata": {},
   "outputs": [],
   "source": []
  },
  {
   "cell_type": "code",
   "execution_count": null,
   "id": "550c9c84-e8f2-4793-80fb-4e0df816ef91",
   "metadata": {},
   "outputs": [],
   "source": [
    "random"
   ]
  }
 ],
 "metadata": {
  "kernelspec": {
   "display_name": "Python 3 (ipykernel)",
   "language": "python",
   "name": "python3"
  },
  "language_info": {
   "codemirror_mode": {
    "name": "ipython",
    "version": 3
   },
   "file_extension": ".py",
   "mimetype": "text/x-python",
   "name": "python",
   "nbconvert_exporter": "python",
   "pygments_lexer": "ipython3",
   "version": "3.12.0"
  }
 },
 "nbformat": 4,
 "nbformat_minor": 5
}
