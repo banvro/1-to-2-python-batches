{
 "cells": [
  {
   "cell_type": "code",
   "execution_count": 3,
   "id": "ff961fac-054b-405d-bc95-f52b16326a0f",
   "metadata": {},
   "outputs": [
    {
     "name": "stdout",
     "output_type": "stream",
     "text": [
      "hello wolrd\n"
     ]
    }
   ],
   "source": [
    "print(\"hello wolrd\")"
   ]
  },
  {
   "cell_type": "code",
   "execution_count": 4,
   "id": "c7edcd96-412c-4ee0-a3e2-ae90182cc0c3",
   "metadata": {},
   "outputs": [],
   "source": [
    "a = 10"
   ]
  },
  {
   "cell_type": "code",
   "execution_count": 5,
   "id": "0e1e0c37-2c44-4be7-b20d-76a973ac884b",
   "metadata": {},
   "outputs": [
    {
     "name": "stdout",
     "output_type": "stream",
     "text": [
      "10\n"
     ]
    }
   ],
   "source": [
    "print(a)"
   ]
  },
  {
   "cell_type": "code",
   "execution_count": 6,
   "id": "7da4c73c-2e99-4ca6-9a4d-27d44a033061",
   "metadata": {},
   "outputs": [
    {
     "data": {
      "text/plain": [
       "10"
      ]
     },
     "execution_count": 6,
     "metadata": {},
     "output_type": "execute_result"
    }
   ],
   "source": [
    "a"
   ]
  },
  {
   "cell_type": "code",
   "execution_count": 7,
   "id": "24f1e1df-666f-4d49-adfc-c4e4aa112642",
   "metadata": {},
   "outputs": [],
   "source": [
    "b = 20"
   ]
  },
  {
   "cell_type": "code",
   "execution_count": 8,
   "id": "af571c9d-6f87-4ae3-a018-678fdffe5f69",
   "metadata": {},
   "outputs": [],
   "source": [
    "c = a + b\n"
   ]
  },
  {
   "cell_type": "code",
   "execution_count": 9,
   "id": "4dc0ec05-0735-4146-bdcb-751f11717702",
   "metadata": {},
   "outputs": [
    {
     "data": {
      "text/plain": [
       "30"
      ]
     },
     "execution_count": 9,
     "metadata": {},
     "output_type": "execute_result"
    }
   ],
   "source": [
    "c"
   ]
  },
  {
   "cell_type": "code",
   "execution_count": 10,
   "id": "7a0d4aab-eabe-42a9-862c-9c74c0dc6575",
   "metadata": {},
   "outputs": [],
   "source": [
    "a = 300\n",
    "b = 400\n",
    "c = a + b"
   ]
  },
  {
   "cell_type": "code",
   "execution_count": 11,
   "id": "44511b4e-6623-41ca-b7e8-3d992b80f228",
   "metadata": {},
   "outputs": [
    {
     "data": {
      "text/plain": [
       "700"
      ]
     },
     "execution_count": 11,
     "metadata": {},
     "output_type": "execute_result"
    }
   ],
   "source": [
    "c"
   ]
  },
  {
   "cell_type": "code",
   "execution_count": null,
   "id": "f0e3ac1c-0a35-4467-98c9-f7551cfd242c",
   "metadata": {},
   "outputs": [],
   "source": [
    "\n"
   ]
  },
  {
   "cell_type": "markdown",
   "id": "888054e9-1936-4217-a6e2-02175d576a90",
   "metadata": {},
   "source": []
  },
  {
   "cell_type": "markdown",
   "id": "e972ba1a-cadc-49cf-96f5-4917cee892f6",
   "metadata": {},
   "source": [
    "# Start Numpy"
   ]
  },
  {
   "cell_type": "code",
   "execution_count": null,
   "id": "6c07f27f-27c4-446f-bbbb-c19a7544a318",
   "metadata": {},
   "outputs": [],
   "source": [
    "# Numpy => 2005\n"
   ]
  },
  {
   "cell_type": "code",
   "execution_count": null,
   "id": "2ecca782-2cbe-40ea-b9e1-ab55849eb484",
   "metadata": {},
   "outputs": [],
   "source": [
    "# array []"
   ]
  },
  {
   "cell_type": "code",
   "execution_count": 12,
   "id": "c897cede-45a6-49c8-b4a6-a901f4f8b95c",
   "metadata": {},
   "outputs": [],
   "source": [
    "# list[]\n",
    "\n",
    "lst = [10, 45, 67, 34, 56, 34, \"hlo\", \"car\", True]"
   ]
  },
  {
   "cell_type": "code",
   "execution_count": null,
   "id": "6eb68f40-1636-448f-854c-eef792c4f410",
   "metadata": {},
   "outputs": [],
   "source": []
  },
  {
   "cell_type": "code",
   "execution_count": null,
   "id": "c9d08462-fa5f-42e2-ab7b-e09186bfe299",
   "metadata": {},
   "outputs": [],
   "source": [
    "# numpy ====>  arrays\n",
    "[\n",
    "    numarical Python."
   ]
  },
  {
   "cell_type": "code",
   "execution_count": null,
   "id": "6dd79d3f-ab36-4884-959f-9f6a1dd7409d",
   "metadata": {},
   "outputs": [],
   "source": []
  },
  {
   "cell_type": "code",
   "execution_count": 13,
   "id": "f10efe60-b11a-4e73-8dfd-eb1af60adfba",
   "metadata": {},
   "outputs": [
    {
     "name": "stdout",
     "output_type": "stream",
     "text": [
      "Requirement already satisfied: numpy in c:\\users\\17nru\\appdata\\local\\programs\\python\\python312\\lib\\site-packages (1.26.2)\n"
     ]
    },
    {
     "name": "stderr",
     "output_type": "stream",
     "text": [
      "DEPRECATION: textract 1.6.5 has a non-standard dependency specifier extract-msg<=0.29.*. pip 24.0 will enforce this behaviour change. A possible replacement is to upgrade to a newer version of textract or contact the author to suggest that they release a version with a conforming dependency specifiers. Discussion can be found at https://github.com/pypa/pip/issues/12063\n"
     ]
    }
   ],
   "source": [
    "!pip install numpy"
   ]
  },
  {
   "cell_type": "code",
   "execution_count": null,
   "id": "94300489-bde8-4b3f-9f20-d4d084ff14b2",
   "metadata": {},
   "outputs": [],
   "source": []
  },
  {
   "cell_type": "code",
   "execution_count": 16,
   "id": "a4c14bd2-cb7f-4aef-beba-1dddac2cdf26",
   "metadata": {},
   "outputs": [],
   "source": [
    "import numpy as np"
   ]
  },
  {
   "cell_type": "code",
   "execution_count": null,
   "id": "c6bd4591-4005-40b1-b5b1-9c04183f4b30",
   "metadata": {},
   "outputs": [],
   "source": []
  },
  {
   "cell_type": "code",
   "execution_count": null,
   "id": "f1c50dc5-82ce-4524-b1f6-6cda4b0a1e82",
   "metadata": {},
   "outputs": [],
   "source": [
    "ndarray => those objects which are making using array method is called ndarray.\n",
    "\n",
    "n dimetional arrays"
   ]
  },
  {
   "cell_type": "code",
   "execution_count": null,
   "id": "bca1dae1-3b65-41bc-8d3f-f2fc4d6d1e12",
   "metadata": {},
   "outputs": [],
   "source": []
  },
  {
   "cell_type": "code",
   "execution_count": 17,
   "id": "4e4f3f81-b146-4e2c-b2bb-06c5c020270f",
   "metadata": {},
   "outputs": [],
   "source": [
    "arr = np.array(12)"
   ]
  },
  {
   "cell_type": "code",
   "execution_count": 18,
   "id": "9c4433fd-c26d-413f-99d8-e15e33d319bf",
   "metadata": {},
   "outputs": [
    {
     "data": {
      "text/plain": [
       "array(12)"
      ]
     },
     "execution_count": 18,
     "metadata": {},
     "output_type": "execute_result"
    }
   ],
   "source": [
    "arr"
   ]
  },
  {
   "cell_type": "code",
   "execution_count": 19,
   "id": "8e090114-3d2f-40d2-9a40-6d5bcb4ccbc8",
   "metadata": {},
   "outputs": [
    {
     "data": {
      "text/plain": [
       "numpy.ndarray"
      ]
     },
     "execution_count": 19,
     "metadata": {},
     "output_type": "execute_result"
    }
   ],
   "source": [
    "type(arr)"
   ]
  },
  {
   "cell_type": "code",
   "execution_count": null,
   "id": "8a6b2a80-cc38-42f1-8a88-361f1583eb4d",
   "metadata": {},
   "outputs": [],
   "source": []
  },
  {
   "cell_type": "code",
   "execution_count": null,
   "id": "a4ae66e7-a4c7-4601-af46-938407704658",
   "metadata": {},
   "outputs": [],
   "source": [
    "ndim attribute: to check the demisonnksnsaksb of an array...."
   ]
  },
  {
   "cell_type": "code",
   "execution_count": 20,
   "id": "f0c45fc5-3e46-47b4-8930-aa8186ee1b04",
   "metadata": {},
   "outputs": [],
   "source": [
    "arr1 = np.array(100)"
   ]
  },
  {
   "cell_type": "code",
   "execution_count": 21,
   "id": "cfe0046e-530d-48da-9067-e515ef8d0b93",
   "metadata": {},
   "outputs": [
    {
     "data": {
      "text/plain": [
       "0"
      ]
     },
     "execution_count": 21,
     "metadata": {},
     "output_type": "execute_result"
    }
   ],
   "source": [
    "arr1.ndim"
   ]
  },
  {
   "cell_type": "code",
   "execution_count": null,
   "id": "1cfa594f-b2c6-46a3-a231-336bbc3182f4",
   "metadata": {},
   "outputs": [],
   "source": []
  },
  {
   "cell_type": "code",
   "execution_count": 22,
   "id": "907700da-ca0c-4370-8bc5-203d6e31c45e",
   "metadata": {},
   "outputs": [],
   "source": [
    "arr2 = np.array([12, 10, 56, 34, 100])"
   ]
  },
  {
   "cell_type": "code",
   "execution_count": 23,
   "id": "a422d4f9-a521-4a6a-9967-9f1c8029cd2b",
   "metadata": {},
   "outputs": [
    {
     "data": {
      "text/plain": [
       "array([ 12,  10,  56,  34, 100])"
      ]
     },
     "execution_count": 23,
     "metadata": {},
     "output_type": "execute_result"
    }
   ],
   "source": [
    "arr2"
   ]
  },
  {
   "cell_type": "code",
   "execution_count": 24,
   "id": "b0ee5f87-d16c-49e4-bb90-ec081ad8991c",
   "metadata": {},
   "outputs": [
    {
     "data": {
      "text/plain": [
       "1"
      ]
     },
     "execution_count": 24,
     "metadata": {},
     "output_type": "execute_result"
    }
   ],
   "source": [
    "arr2.ndim"
   ]
  },
  {
   "cell_type": "code",
   "execution_count": null,
   "id": "d35ad870-becb-4c1f-a06a-8a9895ddabd5",
   "metadata": {},
   "outputs": [],
   "source": []
  },
  {
   "cell_type": "code",
   "execution_count": 31,
   "id": "1f4524b1-5654-4d51-83ef-30597f6d9b50",
   "metadata": {},
   "outputs": [],
   "source": [
    "arrx = np.array([[12, 56, 334], [34, 56, 23], [34, 56, 223]])"
   ]
  },
  {
   "cell_type": "code",
   "execution_count": 32,
   "id": "8c4379ae-6d47-4b50-a9b0-f8fe93852963",
   "metadata": {},
   "outputs": [
    {
     "data": {
      "text/plain": [
       "array([[ 12,  56, 334],\n",
       "       [ 34,  56,  23],\n",
       "       [ 34,  56, 223]])"
      ]
     },
     "execution_count": 32,
     "metadata": {},
     "output_type": "execute_result"
    }
   ],
   "source": [
    "arrx"
   ]
  },
  {
   "cell_type": "code",
   "execution_count": 33,
   "id": "bef1f00d-2514-498f-a9fa-6df8fd4ea5d5",
   "metadata": {},
   "outputs": [
    {
     "data": {
      "text/plain": [
       "2"
      ]
     },
     "execution_count": 33,
     "metadata": {},
     "output_type": "execute_result"
    }
   ],
   "source": [
    "arrx.ndim"
   ]
  },
  {
   "cell_type": "code",
   "execution_count": 40,
   "id": "e9e2f884-a045-47f3-99d8-9b085c5313e9",
   "metadata": {},
   "outputs": [],
   "source": [
    "arr3d = np.array([[[12, 34, 45], [45, 34, 56]], [[45, 67, 34], [67, 45, 34]]])\n"
   ]
  },
  {
   "cell_type": "code",
   "execution_count": 41,
   "id": "89811c14-aa4c-4234-a247-d2b758c8adc6",
   "metadata": {},
   "outputs": [
    {
     "data": {
      "text/plain": [
       "array([[[12, 34, 45],\n",
       "        [45, 34, 56]],\n",
       "\n",
       "       [[45, 67, 34],\n",
       "        [67, 45, 34]]])"
      ]
     },
     "execution_count": 41,
     "metadata": {},
     "output_type": "execute_result"
    }
   ],
   "source": [
    "arr3d"
   ]
  },
  {
   "cell_type": "code",
   "execution_count": 42,
   "id": "a87b0c07-564a-4708-bf0c-05d29c9c0192",
   "metadata": {},
   "outputs": [
    {
     "data": {
      "text/plain": [
       "3"
      ]
     },
     "execution_count": 42,
     "metadata": {},
     "output_type": "execute_result"
    }
   ],
   "source": [
    "arr3d.ndim"
   ]
  },
  {
   "cell_type": "code",
   "execution_count": null,
   "id": "88012b7c-a5a1-436e-b1d2-82ef58329b93",
   "metadata": {},
   "outputs": [],
   "source": []
  },
  {
   "cell_type": "code",
   "execution_count": 43,
   "id": "034574f1-ced6-4e16-8afc-0bcf149404ac",
   "metadata": {},
   "outputs": [],
   "source": [
    "xyz = np.array([[[[[5]]]]])"
   ]
  },
  {
   "cell_type": "code",
   "execution_count": 44,
   "id": "2baf62b7-2e8d-4c86-a02c-505227a664c3",
   "metadata": {},
   "outputs": [
    {
     "data": {
      "text/plain": [
       "5"
      ]
     },
     "execution_count": 44,
     "metadata": {},
     "output_type": "execute_result"
    }
   ],
   "source": [
    "xyz.ndim"
   ]
  },
  {
   "cell_type": "code",
   "execution_count": null,
   "id": "e3592239-a5a2-4caf-8523-0b5243348f6d",
   "metadata": {},
   "outputs": [],
   "source": []
  },
  {
   "cell_type": "code",
   "execution_count": 45,
   "id": "9d3133ad-d8c9-4a05-925b-1bba305e1274",
   "metadata": {},
   "outputs": [],
   "source": [
    "# shape => "
   ]
  },
  {
   "cell_type": "code",
   "execution_count": 46,
   "id": "25a9b478-f251-49a1-b29b-becac1c08c9f",
   "metadata": {},
   "outputs": [],
   "source": [
    "arr2 = np.array([12, 10, 56, 34, 100])"
   ]
  },
  {
   "cell_type": "code",
   "execution_count": 47,
   "id": "e14c9f5f-d422-4283-b3ef-564a8d51a513",
   "metadata": {},
   "outputs": [
    {
     "data": {
      "text/plain": [
       "(5,)"
      ]
     },
     "execution_count": 47,
     "metadata": {},
     "output_type": "execute_result"
    }
   ],
   "source": [
    "arr2.shape"
   ]
  },
  {
   "cell_type": "code",
   "execution_count": 48,
   "id": "906ca8e5-e1eb-4606-9d27-ffd249b62f4e",
   "metadata": {},
   "outputs": [],
   "source": [
    "arrx = np.array([[12, 56, 334], [34, 56, 223]])"
   ]
  },
  {
   "cell_type": "code",
   "execution_count": 49,
   "id": "49e82285-ed54-4aad-9a8f-4285743ce1ef",
   "metadata": {},
   "outputs": [
    {
     "data": {
      "text/plain": [
       "(2, 3)"
      ]
     },
     "execution_count": 49,
     "metadata": {},
     "output_type": "execute_result"
    }
   ],
   "source": [
    "arrx.shape"
   ]
  },
  {
   "cell_type": "code",
   "execution_count": 50,
   "id": "b8af01d3-7f81-44ff-9dbf-6b6e82401355",
   "metadata": {},
   "outputs": [
    {
     "data": {
      "text/plain": [
       "array([[ 12,  56, 334],\n",
       "       [ 34,  56, 223]])"
      ]
     },
     "execution_count": 50,
     "metadata": {},
     "output_type": "execute_result"
    }
   ],
   "source": [
    "arrx"
   ]
  },
  {
   "cell_type": "code",
   "execution_count": null,
   "id": "b8f9569c-9d9a-40b3-bca3-844201598726",
   "metadata": {},
   "outputs": [],
   "source": []
  },
  {
   "cell_type": "code",
   "execution_count": 51,
   "id": "6e47712b-e250-46ae-a306-7840193e637e",
   "metadata": {},
   "outputs": [],
   "source": [
    "arr3d = np.array([[[12, 34, 45], [45, 34, 56]], [[45, 67, 34], [67, 45, 34]]])\n"
   ]
  },
  {
   "cell_type": "code",
   "execution_count": 52,
   "id": "2c9f8290-4675-40e7-80f8-d99ecf760cfa",
   "metadata": {},
   "outputs": [
    {
     "data": {
      "text/plain": [
       "(2, 2, 3)"
      ]
     },
     "execution_count": 52,
     "metadata": {},
     "output_type": "execute_result"
    }
   ],
   "source": [
    "arr3d.shape"
   ]
  },
  {
   "cell_type": "code",
   "execution_count": 53,
   "id": "3f0a20ac-1160-499c-971c-bbbeaae047ea",
   "metadata": {},
   "outputs": [
    {
     "data": {
      "text/plain": [
       "array([[[12, 34, 45],\n",
       "        [45, 34, 56]],\n",
       "\n",
       "       [[45, 67, 34],\n",
       "        [67, 45, 34]]])"
      ]
     },
     "execution_count": 53,
     "metadata": {},
     "output_type": "execute_result"
    }
   ],
   "source": [
    "arr3d"
   ]
  },
  {
   "cell_type": "code",
   "execution_count": null,
   "id": "d8208962-7323-4e68-a8db-0a58230fca06",
   "metadata": {},
   "outputs": [],
   "source": []
  },
  {
   "cell_type": "code",
   "execution_count": 54,
   "id": "cc737673-c048-4f29-9c8c-5d338e64dde3",
   "metadata": {},
   "outputs": [
    {
     "name": "stdout",
     "output_type": "stream",
     "text": [
      "Help on built-in function print in module builtins:\n",
      "\n",
      "print(*args, sep=' ', end='\\n', file=None, flush=False)\n",
      "    Prints the values to a stream, or to sys.stdout by default.\n",
      "\n",
      "    sep\n",
      "      string inserted between values, default a space.\n",
      "    end\n",
      "      string appended after the last value, default a newline.\n",
      "    file\n",
      "      a file-like object (stream); defaults to the current sys.stdout.\n",
      "    flush\n",
      "      whether to forcibly flush the stream.\n",
      "\n"
     ]
    }
   ],
   "source": [
    "help(print)"
   ]
  },
  {
   "cell_type": "code",
   "execution_count": 56,
   "id": "206c7361-7715-46a6-a3e7-797e9c7a26a7",
   "metadata": {},
   "outputs": [
    {
     "name": "stdout",
     "output_type": "stream",
     "text": [
      "Help on _ArrayFunctionDispatcher in module numpy:\n",
      "\n",
      "shape(a)\n",
      "    Return the shape of an array.\n",
      "\n",
      "    Parameters\n",
      "    ----------\n",
      "    a : array_like\n",
      "        Input array.\n",
      "\n",
      "    Returns\n",
      "    -------\n",
      "    shape : tuple of ints\n",
      "        The elements of the shape tuple give the lengths of the\n",
      "        corresponding array dimensions.\n",
      "\n",
      "    See Also\n",
      "    --------\n",
      "    len : ``len(a)`` is equivalent to ``np.shape(a)[0]`` for N-D arrays with\n",
      "          ``N>=1``.\n",
      "    ndarray.shape : Equivalent array method.\n",
      "\n",
      "    Examples\n",
      "    --------\n",
      "    >>> np.shape(np.eye(3))\n",
      "    (3, 3)\n",
      "    >>> np.shape([[1, 3]])\n",
      "    (1, 2)\n",
      "    >>> np.shape([0])\n",
      "    (1,)\n",
      "    >>> np.shape(0)\n",
      "    ()\n",
      "\n",
      "    >>> a = np.array([(1, 2), (3, 4), (5, 6)],\n",
      "    ...              dtype=[('x', 'i4'), ('y', 'i4')])\n",
      "    >>> np.shape(a)\n",
      "    (3,)\n",
      "    >>> a.shape\n",
      "    (3,)\n",
      "\n"
     ]
    }
   ],
   "source": [
    "help(np.shape)"
   ]
  },
  {
   "cell_type": "code",
   "execution_count": 57,
   "id": "fbc36d76-2e5b-4d31-b5ac-9671979dbd18",
   "metadata": {},
   "outputs": [],
   "source": [
    "# indexing, slicing\n",
    "\n",
    "arr3d = np.array([[[12, 34, 45], [45, 34, 56]], [[45, 67, 34], [67, 45, 34]]])\n"
   ]
  },
  {
   "cell_type": "code",
   "execution_count": 58,
   "id": "493e399a-6f88-4053-9122-ab8e26a01b69",
   "metadata": {},
   "outputs": [
    {
     "ename": "IndexError",
     "evalue": "index 7 is out of bounds for axis 0 with size 2",
     "output_type": "error",
     "traceback": [
      "\u001b[1;31m---------------------------------------------------------------------------\u001b[0m",
      "\u001b[1;31mIndexError\u001b[0m                                Traceback (most recent call last)",
      "Cell \u001b[1;32mIn[58], line 1\u001b[0m\n\u001b[1;32m----> 1\u001b[0m \u001b[43marr3d\u001b[49m\u001b[43m[\u001b[49m\u001b[38;5;241;43m7\u001b[39;49m\u001b[43m]\u001b[49m\n",
      "\u001b[1;31mIndexError\u001b[0m: index 7 is out of bounds for axis 0 with size 2"
     ]
    }
   ],
   "source": [
    "arr3d[7]"
   ]
  },
  {
   "cell_type": "code",
   "execution_count": null,
   "id": "db813dcc-a34c-4d6e-80e4-ad01758537bc",
   "metadata": {},
   "outputs": [],
   "source": []
  },
  {
   "cell_type": "code",
   "execution_count": 61,
   "id": "ac627737-d953-41cb-8d00-d05b32fa2a45",
   "metadata": {},
   "outputs": [],
   "source": [
    "zx = [[12, 45, 67, 45, 3,4, 23], 56, [67, 45, 34, 23, 45, 100]]"
   ]
  },
  {
   "cell_type": "code",
   "execution_count": 62,
   "id": "d4369d3b-aac3-403d-ae2a-51e1f2ae7622",
   "metadata": {},
   "outputs": [
    {
     "data": {
      "text/plain": [
       "56"
      ]
     },
     "execution_count": 62,
     "metadata": {},
     "output_type": "execute_result"
    }
   ],
   "source": [
    "zx[1]"
   ]
  },
  {
   "cell_type": "code",
   "execution_count": 64,
   "id": "1d63776d-b9d7-4bc5-b186-b5f4a07421e9",
   "metadata": {},
   "outputs": [
    {
     "data": {
      "text/plain": [
       "100"
      ]
     },
     "execution_count": 64,
     "metadata": {},
     "output_type": "execute_result"
    }
   ],
   "source": [
    "zx[2][-1]"
   ]
  },
  {
   "cell_type": "code",
   "execution_count": null,
   "id": "9bf1f541-e2d6-4a95-a4e2-4015d438c884",
   "metadata": {},
   "outputs": [],
   "source": []
  }
 ],
 "metadata": {
  "kernelspec": {
   "display_name": "Python 3 (ipykernel)",
   "language": "python",
   "name": "python3"
  },
  "language_info": {
   "codemirror_mode": {
    "name": "ipython",
    "version": 3
   },
   "file_extension": ".py",
   "mimetype": "text/x-python",
   "name": "python",
   "nbconvert_exporter": "python",
   "pygments_lexer": "ipython3",
   "version": "3.12.0"
  }
 },
 "nbformat": 4,
 "nbformat_minor": 5
}
